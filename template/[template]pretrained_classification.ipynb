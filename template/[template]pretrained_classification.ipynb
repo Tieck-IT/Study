{
  "cells": [
    {
      "cell_type": "markdown",
      "metadata": {
        "colab_type": "text",
        "id": "view-in-github"
      },
      "source": [
        "<a href=\"https://colab.research.google.com/github/Tieck-IT/Study/blob/main/template/%5Btemplate%5Dpretrained_classification.ipynb\" target=\"_parent\"><img src=\"https://colab.research.google.com/assets/colab-badge.svg\" alt=\"Open In Colab\"/></a>"
      ]
    },
    {
      "cell_type": "code",
      "execution_count": 2,
      "metadata": {
        "colab": {
          "base_uri": "https://localhost:8080/"
        },
        "id": "b0GzQXj5NI37",
        "outputId": "da7af3c3-71da-405c-c11a-2f909f2591e7"
      },
      "outputs": [
        {
          "name": "stdout",
          "output_type": "stream",
          "text": [
            "Drive already mounted at /content/drive; to attempt to forcibly remount, call drive.mount(\"/content/drive\", force_remount=True).\n",
            "/content/drive/MyDrive/Colab Notebooks\n"
          ]
        }
      ],
      "source": [
        "from google.colab import drive\n",
        "drive.mount('/content/drive')\n",
        "%cd \"/content/drive/MyDrive/Colab Notebooks\""
      ]
    },
    {
      "cell_type": "code",
      "execution_count": 3,
      "metadata": {
        "colab": {
          "base_uri": "https://localhost:8080/"
        },
        "id": "Hou67MoBLYUb",
        "outputId": "76e61afc-6803-4628-a1a1-e81ad96375b7"
      },
      "outputs": [
        {
          "name": "stdout",
          "output_type": "stream",
          "text": [
            "total 143346\n",
            "drwx------ 2 root root     4096 Dec 21 00:17  실습\n",
            "drwx------ 2 root root     4096 Dec 22 00:45  딥러닝CNN_강의교재_실습자료\n",
            "-rw------- 1 root root    75125 Dec 24 04:35  cnn_cifar10.ipynb\n",
            "-rw------- 1 root root    30088 Dec 24 04:39  cnn_mnist_callbacks.ipynb\n",
            "-rw------- 1 root root     4565 Dec 24 06:06  custom_data_generator.ipynb\n",
            "-rw------- 1 root root     3031 Jun 23  2021  dacon_submit_api-0.0.4-py3-none-any.whl\n",
            "-rw------- 1 root root 59050583 Dec 20 03:48  deep_learning_intro.pptx\n",
            "drwx------ 2 root root     4096 Dec 21 04:04  DL\n",
            "-rw------- 1 root root    95026 Dec 24 04:20 ' dnn_in_keras_callback.ipynb'\n",
            "-rw------- 1 root root    71265 Dec 23 07:35  dnn_mnist.ipynb\n",
            "-rw------- 1 root root     3926 Dec 24 06:50  flower_classification.ipynb\n",
            "-rw------- 1 root root 62685307 Dec 24 06:42  flower_prepared.zip\n",
            "-rw------- 1 root root  5358001 Dec 24 06:08  ImageDataGenerator_Aug.ipynb\n",
            "drwx------ 2 root root     4096 Dec 21 00:18  linux_pratice\n",
            "-rw------- 1 root root 10851801 Dec 23 06:38 'movie_prediction_dnn.ipynb의 사본'\n",
            "drwx------ 2 root root     4096 Dec 16 05:44  project\n",
            "-rw------- 1 root root    35529 Dec 22 02:26  template_attribute_data_binary_classification.ipynb\n",
            "-rw------- 1 root root    74831 Dec 21 07:08 'Untitled126.ipynb의 사본'\n",
            "-rw------- 1 root root  4262346 Dec 24 06:06  VGG16_classification_and_cumtom_data_training.ipynb\n",
            "-rw------- 1 root root  4160873 Dec 24 06:39  VGG16_flowers_classification_and_cumtom_data_training.ipynb\n"
          ]
        }
      ],
      "source": [
        "!ls -al"
      ]
    },
    {
      "cell_type": "code",
      "execution_count": 15,
      "metadata": {
        "colab": {
          "base_uri": "https://localhost:8080/"
        },
        "id": "SXzFkHKkMnUv",
        "outputId": "9936fc77-ed2e-465d-dd00-b9eaab0b3341"
      },
      "outputs": [
        {
          "name": "stdout",
          "output_type": "stream",
          "text": [
            "mkdir: cannot create directory ‘dataset’: File exists\n"
          ]
        }
      ],
      "source": [
        "%mkdir dataset"
      ]
    },
    {
      "cell_type": "code",
      "execution_count": 5,
      "metadata": {
        "id": "eQRYaVtrMBQO"
      },
      "outputs": [],
      "source": [
        "!cp \"/content/drive/MyDrive/Colab Notebooks/flower_prepared.zip\" ./dataset"
      ]
    },
    {
      "cell_type": "code",
      "execution_count": 9,
      "metadata": {
        "colab": {
          "base_uri": "https://localhost:8080/"
        },
        "id": "MtCd9IRRNpDV",
        "outputId": "7d75b560-1f7b-4a32-b389-04ec0a997a15"
      },
      "outputs": [
        {
          "name": "stdout",
          "output_type": "stream",
          "text": [
            "/content/drive/MyDrive/Colab Notebooks/dataset\n"
          ]
        }
      ],
      "source": [
        "%cd \"/content/drive/MyDrive/Colab Notebooks/dataset\""
      ]
    },
    {
      "cell_type": "code",
      "execution_count": null,
      "metadata": {
        "id": "iXM8upM0NcLd"
      },
      "outputs": [],
      "source": [
        "!unzip \"/content/drive/MyDrive/Colab Notebooks/dataset/flower_prepared.zip\" ./"
      ]
    },
    {
      "cell_type": "code",
      "execution_count": 7,
      "metadata": {
        "colab": {
          "base_uri": "https://localhost:8080/"
        },
        "id": "FSo-R0wxMs_a",
        "outputId": "1b536d02-dcd8-45a5-d7b3-d27f4e820986"
      },
      "outputs": [
        {
          "name": "stdout",
          "output_type": "stream",
          "text": [
            "/bin/bash: line 0: cd: /content/drive/MyDrive/Colab Notebooks/dataset: No such file or directory\n"
          ]
        }
      ],
      "source": [
        "%cd \"/content/drive/MyDrive/Colab Notebooks/dataset\""
      ]
    },
    {
      "cell_type": "code",
      "execution_count": 12,
      "metadata": {
        "colab": {
          "base_uri": "https://localhost:8080/"
        },
        "id": "7WMu9BhiM6xl",
        "outputId": "a4877e2a-9fe6-4b6a-f3cb-8e45845a7007"
      },
      "outputs": [
        {
          "name": "stdout",
          "output_type": "stream",
          "text": [
            "unzip:  cannot find or open /content/drive/MyDrive/Colab Notebooks/dataset/flower_prepared.zip, /content/drive/MyDrive/Colab Notebooks/dataset/flower_prepared.zip.zip or /content/drive/MyDrive/Colab Notebooks/dataset/flower_prepared.zip.ZIP.\n"
          ]
        }
      ],
      "source": [
        "!unzip \"/content/drive/MyDrive/Colab Notebooks/dataset/flower_prepared.zip\" "
      ]
    },
    {
      "cell_type": "code",
      "execution_count": 18,
      "metadata": {
        "colab": {
          "base_uri": "https://localhost:8080/"
        },
        "id": "rjm1udS2M8ld",
        "outputId": "f12b6412-f1af-4982-e030-e73e6bbb495a"
      },
      "outputs": [
        {
          "name": "stdout",
          "output_type": "stream",
          "text": [
            "total 61225\n",
            "-rw------- 1 root root 62685307 Dec 24 06:51 flower_prepared.zip\n",
            "drwx------ 7 root root     4096 Dec 24 06:53 test\n",
            "drwx------ 7 root root     4096 Dec 24 06:53 train\n"
          ]
        }
      ],
      "source": [
        "!ls -al"
      ]
    },
    {
      "cell_type": "code",
      "execution_count": 22,
      "metadata": {
        "id": "54wT2qx9QvZ9"
      },
      "outputs": [],
      "source": [
        "# %mkdir flower_prepared\n",
        "%mv test ./flower_prepared\n",
        "%mv train ./flower_prepared"
      ]
    },
    {
      "cell_type": "code",
      "execution_count": 23,
      "metadata": {
        "colab": {
          "base_uri": "https://localhost:8080/"
        },
        "id": "lahxsBgEQ45-",
        "outputId": "cb45106c-73f3-4ceb-a326-7ac7c197cc22"
      },
      "outputs": [
        {
          "name": "stdout",
          "output_type": "stream",
          "text": [
            "total 61221\n",
            "drwx------ 4 root root     4096 Dec 24 07:07 flower_prepared\n",
            "-rw------- 1 root root 62685307 Dec 24 06:51 flower_prepared.zip\n"
          ]
        }
      ],
      "source": [
        "!ls -al"
      ]
    },
    {
      "cell_type": "markdown",
      "metadata": {
        "id": "fynvFTcnS3Vd"
      },
      "source": [
        "# Callback"
      ]
    },
    {
      "cell_type": "markdown",
      "metadata": {
        "id": "chn6GoIlWqKG"
      },
      "source": [
        "## RealTimeLoss"
      ]
    },
    {
      "cell_type": "code",
      "execution_count": 25,
      "metadata": {
        "id": "loVN0H7mS3Pm"
      },
      "outputs": [],
      "source": [
        "# from IPython.display import clear_output\n",
        "# from tensorflow.keras.callbacks import Callback\n",
        "\n",
        "# class PlotLosses(Callback):\n",
        "\n",
        "#   def on_train_begin(self, logs={}):\n",
        "\n",
        "#     self.i = 0\n",
        "#     self.x = []\n",
        "#     self.losses = []\n",
        "#     self.val_losses = []\n",
        "\n",
        "#     self.fig = plt.figure()\n",
        "\n",
        "#     self.logs = []\n",
        "\n",
        "\n",
        "#   def on_epoch_end(self, epoch, logs={}):\n",
        "\n",
        "#     self.logs.append(logs)\n",
        "#     self.x.append(self.i)\n",
        "#     self.losses.append(logs.get('loss'))\n",
        "#     self.val_losses.append(logs.get('val_loss'))\n",
        "#     self.i += 1\n",
        "\n",
        "#     clear_output(wait=True)\n",
        "#     plt.plot(self.x, self.losses, label=\"loss\")\n",
        "#     plt.plot(self.x, self.val_losses, label=\"val_loss\")\n",
        "#     plt.legend()\n",
        "#     plt.show();\n",
        "#     print(\"loss = \", self.losses[-1], \", val_loss = \", self.val_losses[-1])\n",
        "\n",
        "# plot_loss = PlotLosses()"
      ]
    },
    {
      "cell_type": "markdown",
      "metadata": {},
      "source": [
        "# Real-Time Loss & Accuracy"
      ]
    },
    {
      "cell_type": "code",
      "execution_count": null,
      "metadata": {},
      "outputs": [],
      "source": [
        "from IPython.display import clear_output\n",
        "from tensorflow.keras.callbacks import Callback\n",
        "\n",
        "class PlotLosses(Callback):\n",
        "\n",
        "  def on_train_begin(self, logs={}):\n",
        "\n",
        "    self.i = 0\n",
        "    self.x = []\n",
        "    self.losses = []\n",
        "    self.val_losses = []\n",
        "    self.accuracy = []\n",
        "    self.val_accuracy = []\n",
        "\n",
        "    self.fig = plt.figure()\n",
        "\n",
        "    self.logs = []\n",
        "\n",
        "\n",
        "  def on_epoch_end(self, epoch, logs={}):\n",
        "\n",
        "    self.logs.append(logs)\n",
        "    self.x.append(self.i)\n",
        "    self.losses.append(logs.get('loss'))\n",
        "    self.val_losses.append(logs.get('val_loss'))\n",
        "    self.accuracy.append(logs.get('acc'))\n",
        "    self.val_accuracy.append(logs.get('val_acc'))\n",
        "\n",
        "    self.i += 1\n",
        "\n",
        "\n",
        "    clear_output(wait=True)\n",
        "\n",
        "\n",
        "    fig = plt.figure(figsize=(40,10)) # create the canvas for plotting\n",
        "    ax1 = plt.subplot(1,2,1)\n",
        "    ax2 = plt.subplot(1,2,2)\n",
        "\n",
        "\n",
        "    # plt.subplot(2,1,1)\n",
        "    ax1.plot(self.x, self.losses, label=\"loss\")\n",
        "    ax1.plot(self.x, self.val_losses, label=\"val_loss\")\n",
        "    ax1.legend(fontsize=20)\n",
        "    print(\"loss = \", self.losses[-1], \", val_loss = \", self.val_losses[-1])\n",
        "\n",
        "    # plt.subplot(2,1,2)\n",
        "    ax2.plot(self.x, self.accuracy, label=\"accuracy\")\n",
        "    ax2.plot(self.x, self.val_accuracy, label=\"val_accuracy\")\n",
        "    ax2.legend(fontsize=20)\n",
        "    print(\"accuracy = \", self.accuracy[-1], \", val_accuracy = \", self.val_accuracy[-1])\n",
        "\n",
        "    plt.show()\n",
        "\n",
        "\n",
        "plot_loss = PlotLosses()"
      ]
    },
    {
      "cell_type": "markdown",
      "metadata": {
        "id": "hV9Y4HFLWvVs"
      },
      "source": [
        "## ModelCheckpoint"
      ]
    },
    {
      "cell_type": "code",
      "execution_count": 26,
      "metadata": {
        "id": "THXY0focTXKd"
      },
      "outputs": [],
      "source": [
        "from tensorflow.keras.callbacks import ModelCheckpoint\n",
        "model_check_point = ModelCheckpoint('best_model.h5', monitor='val_loss', mode='min', save_best_only=True)"
      ]
    },
    {
      "cell_type": "markdown",
      "metadata": {
        "id": "eQAFTX8SW0-d"
      },
      "source": [
        "## EarlyStopping"
      ]
    },
    {
      "cell_type": "code",
      "execution_count": 27,
      "metadata": {
        "id": "GrkW83u1TZAk"
      },
      "outputs": [],
      "source": [
        "from tensorflow.keras.callbacks import EarlyStopping\n",
        "early_stopping = EarlyStopping(monitor='val_loss',  # 모니터링 대상\n",
        "                               mode='auto',         # 학습 방향을 자동으로 탐지\n",
        "                               patience=50)         # 중지까지의 여유분"
      ]
    },
    {
      "cell_type": "markdown",
      "metadata": {
        "id": "GgLBF4ZoW3g0"
      },
      "source": [
        "## ReduceLROnPlateau"
      ]
    },
    {
      "cell_type": "code",
      "execution_count": 28,
      "metadata": {
        "id": "7ieFvLOJTaUc"
      },
      "outputs": [],
      "source": [
        "from tensorflow.keras.callbacks import ReduceLROnPlateau\n",
        "\n",
        "reduce_lr = ReduceLROnPlateau(monitor='val_loss', # 모니터링 대상\n",
        "                              patience=25,        # 대상 기간동안 유지\n",
        "                              factor=0.2,         # 줄이는 양                              \n",
        "                              min_learning_rate=0.00001)     # 최소 학습율"
      ]
    },
    {
      "cell_type": "markdown",
      "metadata": {
        "id": "8kSH5a28W8mu"
      },
      "source": [
        "## Learning rate Scheduler"
      ]
    },
    {
      "cell_type": "code",
      "execution_count": 29,
      "metadata": {
        "id": "FnfuY2YdTcWF"
      },
      "outputs": [],
      "source": [
        "def scheduler(epoch, lr):\n",
        "  if epoch == 100:\n",
        "    lr = lr*0.1\n",
        "    print(\"learning rate changed at epcoh {} as {}\".format(epoch, lr))\n",
        "  return lr\n",
        "\n",
        "from tensorflow.keras.callbacks import LearningRateScheduler\n",
        "\n",
        "lr_scheduler = LearningRateScheduler(scheduler)"
      ]
    },
    {
      "cell_type": "code",
      "execution_count": 30,
      "metadata": {
        "id": "n2LxPHY5Tdy9"
      },
      "outputs": [],
      "source": [
        "callbacks = [plot_loss,model_check_point, early_stopping, reduce_lr, lr_scheduler]"
      ]
    },
    {
      "cell_type": "markdown",
      "metadata": {
        "id": "qoyjdasSOSOc"
      },
      "source": [
        "# 모델 준비"
      ]
    },
    {
      "cell_type": "code",
      "execution_count": 31,
      "metadata": {
        "colab": {
          "base_uri": "https://localhost:8080/",
          "height": 907
        },
        "id": "tezvVc-TQgNu",
        "outputId": "0175d823-6a83-47d2-b2c0-3b4d4029f731"
      },
      "outputs": [
        {
          "data": {
            "image/png": "[encoded data removed]",
            "text/plain": [
              "<Figure size 432x288 with 1 Axes>"
            ]
          },
          "metadata": {
            "needs_background": "light"
          },
          "output_type": "display_data"
        },
        {
          "name": "stdout",
          "output_type": "stream",
          "text": [
            "loss =  0.038563892245292664 , val_loss =  0.27908965945243835\n",
            "32/32 [==============================] - 30s 941ms/step - loss: 0.0386 - acc: 0.9875 - val_loss: 0.2791 - val_acc: 0.9052 - lr: 0.0010\n"
          ]
        },
        {
          "data": {
            "image/png": "[encoded data removed]",
            "text/plain": [
              "<Figure size 432x288 with 1 Axes>"
            ]
          },
          "metadata": {
            "needs_background": "light"
          },
          "output_type": "display_data"
        },
        {
          "name": "stdout",
          "output_type": "stream",
          "text": [
            "4/4 [==============================] - 1s 167ms/step - loss: 0.2791 - acc: 0.9052\n",
            "loss= 0.27908968925476074\n",
            "acc= 0.9052132964134216\n"
          ]
        },
        {
          "data": {
            "image/png": "[encoded data removed]",
            "text/plain": [
              "<Figure size 432x288 with 1 Axes>"
            ]
          },
          "metadata": {
            "needs_background": "light"
          },
          "output_type": "display_data"
        },
        {
          "name": "stdout",
          "output_type": "stream",
          "text": [
            "label category index = 4.0\n",
            "predicted category index = 4\n",
            "predicted category name = tulip\n"
          ]
        }
      ],
      "source": [
        "import os\n",
        "\n",
        "import matplotlib.pyplot as plt\n",
        "import numpy as np\n",
        "\n",
        "from tensorflow.keras import optimizers\n",
        "from tensorflow.keras import models\n",
        "from tensorflow.keras import layers\n",
        "from tensorflow.keras import optimizers\n",
        "from tensorflow.keras.models import Sequential\n",
        "from tensorflow.keras.layers import Dropout, Flatten, Dense, BatchNormalization\n",
        "from tensorflow.keras.models import Model\n",
        "from tensorflow.keras.preprocessing.image import ImageDataGenerator\n",
        "from tensorflow.keras.preprocessing.image import load_img\n",
        "from tensorflow.keras.preprocessing.image import img_to_array\n",
        "\n",
        "from tensorflow.keras.applications import efficientnet\n",
        "from tensorflow.keras.applications import EfficientNetB2\n",
        "\n",
        "preprocessor = efficientnet.preprocess_input\n",
        "\n",
        "conv_layers = EfficientNetB2(weights='imagenet', include_top=False, input_shape=(224, 224, 3))\n",
        "conv_layers.trainable = False\n",
        "\n",
        "model = models.Sequential()\n",
        "\n",
        "model.add(conv_layers)\n",
        "model.add(Flatten())\n",
        "model.add(Dense(256, activation='relu'))\n",
        "model.add(BatchNormalization())\n",
        "model.add(Dense(5, activation='softmax'))\n",
        "\n",
        "model.compile(loss='sparse_categorical_crossentropy', optimizer=\"RMSprop\", metrics=['acc'])\n",
        "model.summary()\n",
        "\n",
        "BATCH_SIZE = 64\n",
        "\n",
        "train_data_generator = ImageDataGenerator(\n",
        "      rotation_range=10,\n",
        "      width_shift_range=0.1,\n",
        "      height_shift_range=0.1,\n",
        "      horizontal_flip=True,\n",
        "      vertical_flip=False,\n",
        "      preprocessing_function=preprocessor\n",
        ").flow_from_directory(\n",
        "      \"flower_prepared/train\",\n",
        "      target_size=(224,224),\n",
        "      batch_size=BATCH_SIZE,\n",
        "      class_mode='sparse'\n",
        ")\n",
        "\n",
        "test_data_generator = ImageDataGenerator(\n",
        "      preprocessing_function=preprocessor\n",
        ").flow_from_directory(\n",
        "      \"flower_prepared/test\",\n",
        "      target_size=(224,224),\n",
        "      batch_size=BATCH_SIZE,\n",
        "      class_mode='sparse'\n",
        ")\n",
        "\n",
        "\n",
        "history = model.fit(\n",
        "      train_data_generator,\n",
        "      validation_data=test_data_generator,\n",
        "      epochs=10,\n",
        "      callbacks = callbacks\n",
        ")\n",
        "\n",
        "\n",
        "plt.plot(history.history['loss'])\n",
        "plt.plot(history.history['val_loss'])\n",
        "plt.show()\n",
        "\n",
        "\n",
        "loss, acc = model.evaluate(test_data_generator)\n",
        "print(\"loss=\", loss)\n",
        "print(\"acc=\", acc)\n",
        "\n",
        "\n",
        "\n",
        "test_x, test_y = test_data_generator.next()\n",
        "y_ = model.predict(test_x)\n",
        "predicted = np.argmax(y_, axis=-1)\n",
        "\n",
        "plt.plot(test_y[:100], \"o\")\n",
        "plt.plot(predicted[:100], '.')\n",
        "plt.show()\n",
        "\n",
        "\n",
        "custom_labels = list(test_data_generator.class_indices.keys())\n",
        "print(\"label category index =\", test_y[0])\n",
        "print(\"predicted category index =\", predicted[0])\n",
        "print(\"predicted category name =\", custom_labels[predicted[0]])\n"
      ]
    },
    {
      "cell_type": "code",
      "execution_count": 33,
      "metadata": {
        "id": "2E80eVF2RCed"
      },
      "outputs": [],
      "source": [
        "from tensorflow.keras.models import load_model\n",
        "\n",
        "trained_model = load_model(\"best_model.h5\")"
      ]
    },
    {
      "cell_type": "code",
      "execution_count": 35,
      "metadata": {
        "colab": {
          "base_uri": "https://localhost:8080/",
          "height": 265
        },
        "id": "mg16P_QEVFo8",
        "outputId": "f052c405-31e1-478f-aaab-f024325f9637"
      },
      "outputs": [
        {
          "data": {
            "image/png": "[encoded data removed]",
            "text/plain": [
              "<Figure size 432x288 with 1 Axes>"
            ]
          },
          "metadata": {
            "needs_background": "light"
          },
          "output_type": "display_data"
        }
      ],
      "source": [
        "y_ = trained_model.predict(test_x)\n",
        "predicted = np.argmax(y_, axis=-1)\n",
        "\n",
        "plt.plot(test_y[:100], \"o\")\n",
        "plt.plot(predicted[:100], '.')\n",
        "plt.show()"
      ]
    },
    {
      "cell_type": "code",
      "execution_count": 36,
      "metadata": {
        "colab": {
          "base_uri": "https://localhost:8080/"
        },
        "id": "8KZ-ffzoVZe0",
        "outputId": "11a772e3-6ef0-4e3d-c4c6-f4d4c2ecd592"
      },
      "outputs": [
        {
          "name": "stdout",
          "output_type": "stream",
          "text": [
            "label category index = 4.0\n",
            "predicted category index = 4\n"
          ]
        }
      ],
      "source": [
        "print(\"label category index =\", test_y[0])\n",
        "print(\"predicted category index =\", predicted[0])"
      ]
    },
    {
      "cell_type": "code",
      "execution_count": null,
      "metadata": {
        "id": "4PEhxlNuViHN"
      },
      "outputs": [],
      "source": []
    }
  ],
  "metadata": {
    "accelerator": "GPU",
    "colab": {
      "authorship_tag": "ABX9TyNJdnqzsCszWnKWLuJmk7Nd",
      "collapsed_sections": [],
      "include_colab_link": true,
      "machine_shape": "hm",
      "name": "[templete]pretrained_classification.ipynb",
      "provenance": []
    },
    "kernelspec": {
      "display_name": "Python 3",
      "name": "python3"
    },
    "language_info": {
      "name": "python"
    }
  },
  "nbformat": 4,
  "nbformat_minor": 0
}
