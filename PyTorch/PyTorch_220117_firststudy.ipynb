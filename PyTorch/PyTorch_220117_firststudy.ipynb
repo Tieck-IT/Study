{
  "nbformat": 4,
  "nbformat_minor": 0,
  "metadata": {
    "colab": {
      "name": "PyTorch_220117_firststudy.ipynb",
      "provenance": [],
      "collapsed_sections": [],
      "include_colab_link": true
    },
    "kernelspec": {
      "name": "python3",
      "display_name": "Python 3"
    },
    "language_info": {
      "name": "python"
    },
    "accelerator": "GPU",
    "widgets": {
      "application/vnd.jupyter.widget-state+json": {
        "9493888c413f4d36877f5a74737f56f7": {
          "model_module": "@jupyter-widgets/controls",
          "model_name": "HBoxModel",
          "model_module_version": "1.5.0",
          "state": {
            "_view_name": "HBoxView",
            "_dom_classes": [],
            "_model_name": "HBoxModel",
            "_view_module": "@jupyter-widgets/controls",
            "_model_module_version": "1.5.0",
            "_view_count": null,
            "_view_module_version": "1.5.0",
            "box_style": "",
            "layout": "IPY_MODEL_bb07eb56dd554691b8f71b6833565a27",
            "_model_module": "@jupyter-widgets/controls",
            "children": [
              "IPY_MODEL_4083158be3c945d99990e3440fd4897a",
              "IPY_MODEL_ae335317e6504beeb4d7526747ffda6a",
              "IPY_MODEL_ce6587dcdb954d98b7a7a2d2d265b823"
            ]
          }
        },
        "bb07eb56dd554691b8f71b6833565a27": {
          "model_module": "@jupyter-widgets/base",
          "model_name": "LayoutModel",
          "model_module_version": "1.2.0",
          "state": {
            "_view_name": "LayoutView",
            "grid_template_rows": null,
            "right": null,
            "justify_content": null,
            "_view_module": "@jupyter-widgets/base",
            "overflow": null,
            "_model_module_version": "1.2.0",
            "_view_count": null,
            "flex_flow": null,
            "width": null,
            "min_width": null,
            "border": null,
            "align_items": null,
            "bottom": null,
            "_model_module": "@jupyter-widgets/base",
            "top": null,
            "grid_column": null,
            "overflow_y": null,
            "overflow_x": null,
            "grid_auto_flow": null,
            "grid_area": null,
            "grid_template_columns": null,
            "flex": null,
            "_model_name": "LayoutModel",
            "justify_items": null,
            "grid_row": null,
            "max_height": null,
            "align_content": null,
            "visibility": null,
            "align_self": null,
            "height": null,
            "min_height": null,
            "padding": null,
            "grid_auto_rows": null,
            "grid_gap": null,
            "max_width": null,
            "order": null,
            "_view_module_version": "1.2.0",
            "grid_template_areas": null,
            "object_position": null,
            "object_fit": null,
            "grid_auto_columns": null,
            "margin": null,
            "display": null,
            "left": null
          }
        },
        "4083158be3c945d99990e3440fd4897a": {
          "model_module": "@jupyter-widgets/controls",
          "model_name": "HTMLModel",
          "model_module_version": "1.5.0",
          "state": {
            "_view_name": "HTMLView",
            "style": "IPY_MODEL_7bf47691b25343f5a1f1bd2c4f195ed3",
            "_dom_classes": [],
            "description": "",
            "_model_name": "HTMLModel",
            "placeholder": "​",
            "_view_module": "@jupyter-widgets/controls",
            "_model_module_version": "1.5.0",
            "value": "",
            "_view_count": null,
            "_view_module_version": "1.5.0",
            "description_tooltip": null,
            "_model_module": "@jupyter-widgets/controls",
            "layout": "IPY_MODEL_36fb56786d8c449a86d94958dc683a9c"
          }
        },
        "ae335317e6504beeb4d7526747ffda6a": {
          "model_module": "@jupyter-widgets/controls",
          "model_name": "FloatProgressModel",
          "model_module_version": "1.5.0",
          "state": {
            "_view_name": "ProgressView",
            "style": "IPY_MODEL_40f284e489334410bf4483ff463c16d1",
            "_dom_classes": [],
            "description": "",
            "_model_name": "FloatProgressModel",
            "bar_style": "success",
            "max": 26421880,
            "_view_module": "@jupyter-widgets/controls",
            "_model_module_version": "1.5.0",
            "value": 26421880,
            "_view_count": null,
            "_view_module_version": "1.5.0",
            "orientation": "horizontal",
            "min": 0,
            "description_tooltip": null,
            "_model_module": "@jupyter-widgets/controls",
            "layout": "IPY_MODEL_e5bb43fc1af0444e8d25900b732d5ec4"
          }
        },
        "ce6587dcdb954d98b7a7a2d2d265b823": {
          "model_module": "@jupyter-widgets/controls",
          "model_name": "HTMLModel",
          "model_module_version": "1.5.0",
          "state": {
            "_view_name": "HTMLView",
            "style": "IPY_MODEL_8ef624d08c924cb5854eeed44bcf37d0",
            "_dom_classes": [],
            "description": "",
            "_model_name": "HTMLModel",
            "placeholder": "​",
            "_view_module": "@jupyter-widgets/controls",
            "_model_module_version": "1.5.0",
            "value": " 26422272/? [00:02&lt;00:00, 18218858.17it/s]",
            "_view_count": null,
            "_view_module_version": "1.5.0",
            "description_tooltip": null,
            "_model_module": "@jupyter-widgets/controls",
            "layout": "IPY_MODEL_5b9119c6fb9049709c51d22a9b8d3969"
          }
        },
        "7bf47691b25343f5a1f1bd2c4f195ed3": {
          "model_module": "@jupyter-widgets/controls",
          "model_name": "DescriptionStyleModel",
          "model_module_version": "1.5.0",
          "state": {
            "_view_name": "StyleView",
            "_model_name": "DescriptionStyleModel",
            "description_width": "",
            "_view_module": "@jupyter-widgets/base",
            "_model_module_version": "1.5.0",
            "_view_count": null,
            "_view_module_version": "1.2.0",
            "_model_module": "@jupyter-widgets/controls"
          }
        },
        "36fb56786d8c449a86d94958dc683a9c": {
          "model_module": "@jupyter-widgets/base",
          "model_name": "LayoutModel",
          "model_module_version": "1.2.0",
          "state": {
            "_view_name": "LayoutView",
            "grid_template_rows": null,
            "right": null,
            "justify_content": null,
            "_view_module": "@jupyter-widgets/base",
            "overflow": null,
            "_model_module_version": "1.2.0",
            "_view_count": null,
            "flex_flow": null,
            "width": null,
            "min_width": null,
            "border": null,
            "align_items": null,
            "bottom": null,
            "_model_module": "@jupyter-widgets/base",
            "top": null,
            "grid_column": null,
            "overflow_y": null,
            "overflow_x": null,
            "grid_auto_flow": null,
            "grid_area": null,
            "grid_template_columns": null,
            "flex": null,
            "_model_name": "LayoutModel",
            "justify_items": null,
            "grid_row": null,
            "max_height": null,
            "align_content": null,
            "visibility": null,
            "align_self": null,
            "height": null,
            "min_height": null,
            "padding": null,
            "grid_auto_rows": null,
            "grid_gap": null,
            "max_width": null,
            "order": null,
            "_view_module_version": "1.2.0",
            "grid_template_areas": null,
            "object_position": null,
            "object_fit": null,
            "grid_auto_columns": null,
            "margin": null,
            "display": null,
            "left": null
          }
        },
        "40f284e489334410bf4483ff463c16d1": {
          "model_module": "@jupyter-widgets/controls",
          "model_name": "ProgressStyleModel",
          "model_module_version": "1.5.0",
          "state": {
            "_view_name": "StyleView",
            "_model_name": "ProgressStyleModel",
            "description_width": "",
            "_view_module": "@jupyter-widgets/base",
            "_model_module_version": "1.5.0",
            "_view_count": null,
            "_view_module_version": "1.2.0",
            "bar_color": null,
            "_model_module": "@jupyter-widgets/controls"
          }
        },
        "e5bb43fc1af0444e8d25900b732d5ec4": {
          "model_module": "@jupyter-widgets/base",
          "model_name": "LayoutModel",
          "model_module_version": "1.2.0",
          "state": {
            "_view_name": "LayoutView",
            "grid_template_rows": null,
            "right": null,
            "justify_content": null,
            "_view_module": "@jupyter-widgets/base",
            "overflow": null,
            "_model_module_version": "1.2.0",
            "_view_count": null,
            "flex_flow": null,
            "width": null,
            "min_width": null,
            "border": null,
            "align_items": null,
            "bottom": null,
            "_model_module": "@jupyter-widgets/base",
            "top": null,
            "grid_column": null,
            "overflow_y": null,
            "overflow_x": null,
            "grid_auto_flow": null,
            "grid_area": null,
            "grid_template_columns": null,
            "flex": null,
            "_model_name": "LayoutModel",
            "justify_items": null,
            "grid_row": null,
            "max_height": null,
            "align_content": null,
            "visibility": null,
            "align_self": null,
            "height": null,
            "min_height": null,
            "padding": null,
            "grid_auto_rows": null,
            "grid_gap": null,
            "max_width": null,
            "order": null,
            "_view_module_version": "1.2.0",
            "grid_template_areas": null,
            "object_position": null,
            "object_fit": null,
            "grid_auto_columns": null,
            "margin": null,
            "display": null,
            "left": null
          }
        },
        "8ef624d08c924cb5854eeed44bcf37d0": {
          "model_module": "@jupyter-widgets/controls",
          "model_name": "DescriptionStyleModel",
          "model_module_version": "1.5.0",
          "state": {
            "_view_name": "StyleView",
            "_model_name": "DescriptionStyleModel",
            "description_width": "",
            "_view_module": "@jupyter-widgets/base",
            "_model_module_version": "1.5.0",
            "_view_count": null,
            "_view_module_version": "1.2.0",
            "_model_module": "@jupyter-widgets/controls"
          }
        },
        "5b9119c6fb9049709c51d22a9b8d3969": {
          "model_module": "@jupyter-widgets/base",
          "model_name": "LayoutModel",
          "model_module_version": "1.2.0",
          "state": {
            "_view_name": "LayoutView",
            "grid_template_rows": null,
            "right": null,
            "justify_content": null,
            "_view_module": "@jupyter-widgets/base",
            "overflow": null,
            "_model_module_version": "1.2.0",
            "_view_count": null,
            "flex_flow": null,
            "width": null,
            "min_width": null,
            "border": null,
            "align_items": null,
            "bottom": null,
            "_model_module": "@jupyter-widgets/base",
            "top": null,
            "grid_column": null,
            "overflow_y": null,
            "overflow_x": null,
            "grid_auto_flow": null,
            "grid_area": null,
            "grid_template_columns": null,
            "flex": null,
            "_model_name": "LayoutModel",
            "justify_items": null,
            "grid_row": null,
            "max_height": null,
            "align_content": null,
            "visibility": null,
            "align_self": null,
            "height": null,
            "min_height": null,
            "padding": null,
            "grid_auto_rows": null,
            "grid_gap": null,
            "max_width": null,
            "order": null,
            "_view_module_version": "1.2.0",
            "grid_template_areas": null,
            "object_position": null,
            "object_fit": null,
            "grid_auto_columns": null,
            "margin": null,
            "display": null,
            "left": null
          }
        },
        "9804b703e1fe40179cfc30eb61bef8f6": {
          "model_module": "@jupyter-widgets/controls",
          "model_name": "HBoxModel",
          "model_module_version": "1.5.0",
          "state": {
            "_view_name": "HBoxView",
            "_dom_classes": [],
            "_model_name": "HBoxModel",
            "_view_module": "@jupyter-widgets/controls",
            "_model_module_version": "1.5.0",
            "_view_count": null,
            "_view_module_version": "1.5.0",
            "box_style": "",
            "layout": "IPY_MODEL_328b8cc77dae46fd839352533d1019e1",
            "_model_module": "@jupyter-widgets/controls",
            "children": [
              "IPY_MODEL_7ac35e902e3b4cdd89beb38228fc25a0",
              "IPY_MODEL_c9370f418a9e405c96c47cab066b17d4",
              "IPY_MODEL_68fe79817c724015826b984e57e50f0d"
            ]
          }
        },
        "328b8cc77dae46fd839352533d1019e1": {
          "model_module": "@jupyter-widgets/base",
          "model_name": "LayoutModel",
          "model_module_version": "1.2.0",
          "state": {
            "_view_name": "LayoutView",
            "grid_template_rows": null,
            "right": null,
            "justify_content": null,
            "_view_module": "@jupyter-widgets/base",
            "overflow": null,
            "_model_module_version": "1.2.0",
            "_view_count": null,
            "flex_flow": null,
            "width": null,
            "min_width": null,
            "border": null,
            "align_items": null,
            "bottom": null,
            "_model_module": "@jupyter-widgets/base",
            "top": null,
            "grid_column": null,
            "overflow_y": null,
            "overflow_x": null,
            "grid_auto_flow": null,
            "grid_area": null,
            "grid_template_columns": null,
            "flex": null,
            "_model_name": "LayoutModel",
            "justify_items": null,
            "grid_row": null,
            "max_height": null,
            "align_content": null,
            "visibility": null,
            "align_self": null,
            "height": null,
            "min_height": null,
            "padding": null,
            "grid_auto_rows": null,
            "grid_gap": null,
            "max_width": null,
            "order": null,
            "_view_module_version": "1.2.0",
            "grid_template_areas": null,
            "object_position": null,
            "object_fit": null,
            "grid_auto_columns": null,
            "margin": null,
            "display": null,
            "left": null
          }
        },
        "7ac35e902e3b4cdd89beb38228fc25a0": {
          "model_module": "@jupyter-widgets/controls",
          "model_name": "HTMLModel",
          "model_module_version": "1.5.0",
          "state": {
            "_view_name": "HTMLView",
            "style": "IPY_MODEL_eb9dedeaa51c4c3c96f6880bda10315f",
            "_dom_classes": [],
            "description": "",
            "_model_name": "HTMLModel",
            "placeholder": "​",
            "_view_module": "@jupyter-widgets/controls",
            "_model_module_version": "1.5.0",
            "value": "",
            "_view_count": null,
            "_view_module_version": "1.5.0",
            "description_tooltip": null,
            "_model_module": "@jupyter-widgets/controls",
            "layout": "IPY_MODEL_9cd620b96d394c0a9e0a0992249ffe09"
          }
        },
        "c9370f418a9e405c96c47cab066b17d4": {
          "model_module": "@jupyter-widgets/controls",
          "model_name": "FloatProgressModel",
          "model_module_version": "1.5.0",
          "state": {
            "_view_name": "ProgressView",
            "style": "IPY_MODEL_5dd90022677c4195bb45f1829fdc243b",
            "_dom_classes": [],
            "description": "",
            "_model_name": "FloatProgressModel",
            "bar_style": "success",
            "max": 29515,
            "_view_module": "@jupyter-widgets/controls",
            "_model_module_version": "1.5.0",
            "value": 29515,
            "_view_count": null,
            "_view_module_version": "1.5.0",
            "orientation": "horizontal",
            "min": 0,
            "description_tooltip": null,
            "_model_module": "@jupyter-widgets/controls",
            "layout": "IPY_MODEL_d425a537477e448abd19bbc34fae47f5"
          }
        },
        "68fe79817c724015826b984e57e50f0d": {
          "model_module": "@jupyter-widgets/controls",
          "model_name": "HTMLModel",
          "model_module_version": "1.5.0",
          "state": {
            "_view_name": "HTMLView",
            "style": "IPY_MODEL_be49fbf631f44fe59136aaa62deb61e2",
            "_dom_classes": [],
            "description": "",
            "_model_name": "HTMLModel",
            "placeholder": "​",
            "_view_module": "@jupyter-widgets/controls",
            "_model_module_version": "1.5.0",
            "value": " 29696/? [00:00&lt;00:00, 97509.93it/s]",
            "_view_count": null,
            "_view_module_version": "1.5.0",
            "description_tooltip": null,
            "_model_module": "@jupyter-widgets/controls",
            "layout": "IPY_MODEL_1ba47eb46a3b4783b0b8fceca21239b9"
          }
        },
        "eb9dedeaa51c4c3c96f6880bda10315f": {
          "model_module": "@jupyter-widgets/controls",
          "model_name": "DescriptionStyleModel",
          "model_module_version": "1.5.0",
          "state": {
            "_view_name": "StyleView",
            "_model_name": "DescriptionStyleModel",
            "description_width": "",
            "_view_module": "@jupyter-widgets/base",
            "_model_module_version": "1.5.0",
            "_view_count": null,
            "_view_module_version": "1.2.0",
            "_model_module": "@jupyter-widgets/controls"
          }
        },
        "9cd620b96d394c0a9e0a0992249ffe09": {
          "model_module": "@jupyter-widgets/base",
          "model_name": "LayoutModel",
          "model_module_version": "1.2.0",
          "state": {
            "_view_name": "LayoutView",
            "grid_template_rows": null,
            "right": null,
            "justify_content": null,
            "_view_module": "@jupyter-widgets/base",
            "overflow": null,
            "_model_module_version": "1.2.0",
            "_view_count": null,
            "flex_flow": null,
            "width": null,
            "min_width": null,
            "border": null,
            "align_items": null,
            "bottom": null,
            "_model_module": "@jupyter-widgets/base",
            "top": null,
            "grid_column": null,
            "overflow_y": null,
            "overflow_x": null,
            "grid_auto_flow": null,
            "grid_area": null,
            "grid_template_columns": null,
            "flex": null,
            "_model_name": "LayoutModel",
            "justify_items": null,
            "grid_row": null,
            "max_height": null,
            "align_content": null,
            "visibility": null,
            "align_self": null,
            "height": null,
            "min_height": null,
            "padding": null,
            "grid_auto_rows": null,
            "grid_gap": null,
            "max_width": null,
            "order": null,
            "_view_module_version": "1.2.0",
            "grid_template_areas": null,
            "object_position": null,
            "object_fit": null,
            "grid_auto_columns": null,
            "margin": null,
            "display": null,
            "left": null
          }
        },
        "5dd90022677c4195bb45f1829fdc243b": {
          "model_module": "@jupyter-widgets/controls",
          "model_name": "ProgressStyleModel",
          "model_module_version": "1.5.0",
          "state": {
            "_view_name": "StyleView",
            "_model_name": "ProgressStyleModel",
            "description_width": "",
            "_view_module": "@jupyter-widgets/base",
            "_model_module_version": "1.5.0",
            "_view_count": null,
            "_view_module_version": "1.2.0",
            "bar_color": null,
            "_model_module": "@jupyter-widgets/controls"
          }
        },
        "d425a537477e448abd19bbc34fae47f5": {
          "model_module": "@jupyter-widgets/base",
          "model_name": "LayoutModel",
          "model_module_version": "1.2.0",
          "state": {
            "_view_name": "LayoutView",
            "grid_template_rows": null,
            "right": null,
            "justify_content": null,
            "_view_module": "@jupyter-widgets/base",
            "overflow": null,
            "_model_module_version": "1.2.0",
            "_view_count": null,
            "flex_flow": null,
            "width": null,
            "min_width": null,
            "border": null,
            "align_items": null,
            "bottom": null,
            "_model_module": "@jupyter-widgets/base",
            "top": null,
            "grid_column": null,
            "overflow_y": null,
            "overflow_x": null,
            "grid_auto_flow": null,
            "grid_area": null,
            "grid_template_columns": null,
            "flex": null,
            "_model_name": "LayoutModel",
            "justify_items": null,
            "grid_row": null,
            "max_height": null,
            "align_content": null,
            "visibility": null,
            "align_self": null,
            "height": null,
            "min_height": null,
            "padding": null,
            "grid_auto_rows": null,
            "grid_gap": null,
            "max_width": null,
            "order": null,
            "_view_module_version": "1.2.0",
            "grid_template_areas": null,
            "object_position": null,
            "object_fit": null,
            "grid_auto_columns": null,
            "margin": null,
            "display": null,
            "left": null
          }
        },
        "be49fbf631f44fe59136aaa62deb61e2": {
          "model_module": "@jupyter-widgets/controls",
          "model_name": "DescriptionStyleModel",
          "model_module_version": "1.5.0",
          "state": {
            "_view_name": "StyleView",
            "_model_name": "DescriptionStyleModel",
            "description_width": "",
            "_view_module": "@jupyter-widgets/base",
            "_model_module_version": "1.5.0",
            "_view_count": null,
            "_view_module_version": "1.2.0",
            "_model_module": "@jupyter-widgets/controls"
          }
        },
        "1ba47eb46a3b4783b0b8fceca21239b9": {
          "model_module": "@jupyter-widgets/base",
          "model_name": "LayoutModel",
          "model_module_version": "1.2.0",
          "state": {
            "_view_name": "LayoutView",
            "grid_template_rows": null,
            "right": null,
            "justify_content": null,
            "_view_module": "@jupyter-widgets/base",
            "overflow": null,
            "_model_module_version": "1.2.0",
            "_view_count": null,
            "flex_flow": null,
            "width": null,
            "min_width": null,
            "border": null,
            "align_items": null,
            "bottom": null,
            "_model_module": "@jupyter-widgets/base",
            "top": null,
            "grid_column": null,
            "overflow_y": null,
            "overflow_x": null,
            "grid_auto_flow": null,
            "grid_area": null,
            "grid_template_columns": null,
            "flex": null,
            "_model_name": "LayoutModel",
            "justify_items": null,
            "grid_row": null,
            "max_height": null,
            "align_content": null,
            "visibility": null,
            "align_self": null,
            "height": null,
            "min_height": null,
            "padding": null,
            "grid_auto_rows": null,
            "grid_gap": null,
            "max_width": null,
            "order": null,
            "_view_module_version": "1.2.0",
            "grid_template_areas": null,
            "object_position": null,
            "object_fit": null,
            "grid_auto_columns": null,
            "margin": null,
            "display": null,
            "left": null
          }
        },
        "41aee329f2ea4a1b930d34d896c6c826": {
          "model_module": "@jupyter-widgets/controls",
          "model_name": "HBoxModel",
          "model_module_version": "1.5.0",
          "state": {
            "_view_name": "HBoxView",
            "_dom_classes": [],
            "_model_name": "HBoxModel",
            "_view_module": "@jupyter-widgets/controls",
            "_model_module_version": "1.5.0",
            "_view_count": null,
            "_view_module_version": "1.5.0",
            "box_style": "",
            "layout": "IPY_MODEL_f28967c4b4594c3b818d72cc67d0b6b9",
            "_model_module": "@jupyter-widgets/controls",
            "children": [
              "IPY_MODEL_d8cf62978862459e82e5f6a4f2de3386",
              "IPY_MODEL_029fd57bd1b849d99e401f428d9c5e15",
              "IPY_MODEL_8568f63a9a774e15b260a060b83b7689"
            ]
          }
        },
        "f28967c4b4594c3b818d72cc67d0b6b9": {
          "model_module": "@jupyter-widgets/base",
          "model_name": "LayoutModel",
          "model_module_version": "1.2.0",
          "state": {
            "_view_name": "LayoutView",
            "grid_template_rows": null,
            "right": null,
            "justify_content": null,
            "_view_module": "@jupyter-widgets/base",
            "overflow": null,
            "_model_module_version": "1.2.0",
            "_view_count": null,
            "flex_flow": null,
            "width": null,
            "min_width": null,
            "border": null,
            "align_items": null,
            "bottom": null,
            "_model_module": "@jupyter-widgets/base",
            "top": null,
            "grid_column": null,
            "overflow_y": null,
            "overflow_x": null,
            "grid_auto_flow": null,
            "grid_area": null,
            "grid_template_columns": null,
            "flex": null,
            "_model_name": "LayoutModel",
            "justify_items": null,
            "grid_row": null,
            "max_height": null,
            "align_content": null,
            "visibility": null,
            "align_self": null,
            "height": null,
            "min_height": null,
            "padding": null,
            "grid_auto_rows": null,
            "grid_gap": null,
            "max_width": null,
            "order": null,
            "_view_module_version": "1.2.0",
            "grid_template_areas": null,
            "object_position": null,
            "object_fit": null,
            "grid_auto_columns": null,
            "margin": null,
            "display": null,
            "left": null
          }
        },
        "d8cf62978862459e82e5f6a4f2de3386": {
          "model_module": "@jupyter-widgets/controls",
          "model_name": "HTMLModel",
          "model_module_version": "1.5.0",
          "state": {
            "_view_name": "HTMLView",
            "style": "IPY_MODEL_2da48c14dcee4392a0d08b6dbb8ddeac",
            "_dom_classes": [],
            "description": "",
            "_model_name": "HTMLModel",
            "placeholder": "​",
            "_view_module": "@jupyter-widgets/controls",
            "_model_module_version": "1.5.0",
            "value": "",
            "_view_count": null,
            "_view_module_version": "1.5.0",
            "description_tooltip": null,
            "_model_module": "@jupyter-widgets/controls",
            "layout": "IPY_MODEL_46d5968dc9724c42ad74c0aac3ff470d"
          }
        },
        "029fd57bd1b849d99e401f428d9c5e15": {
          "model_module": "@jupyter-widgets/controls",
          "model_name": "FloatProgressModel",
          "model_module_version": "1.5.0",
          "state": {
            "_view_name": "ProgressView",
            "style": "IPY_MODEL_5c8139ed47934d0ba1cb30bd14a6da5a",
            "_dom_classes": [],
            "description": "",
            "_model_name": "FloatProgressModel",
            "bar_style": "success",
            "max": 4422102,
            "_view_module": "@jupyter-widgets/controls",
            "_model_module_version": "1.5.0",
            "value": 4422102,
            "_view_count": null,
            "_view_module_version": "1.5.0",
            "orientation": "horizontal",
            "min": 0,
            "description_tooltip": null,
            "_model_module": "@jupyter-widgets/controls",
            "layout": "IPY_MODEL_2a8d6a19daa044c0a0509cffe529d59c"
          }
        },
        "8568f63a9a774e15b260a060b83b7689": {
          "model_module": "@jupyter-widgets/controls",
          "model_name": "HTMLModel",
          "model_module_version": "1.5.0",
          "state": {
            "_view_name": "HTMLView",
            "style": "IPY_MODEL_f9a0328d11294fb69e18e083cea9fd70",
            "_dom_classes": [],
            "description": "",
            "_model_name": "HTMLModel",
            "placeholder": "​",
            "_view_module": "@jupyter-widgets/controls",
            "_model_module_version": "1.5.0",
            "value": " 4422656/? [00:01&lt;00:00, 5985679.71it/s]",
            "_view_count": null,
            "_view_module_version": "1.5.0",
            "description_tooltip": null,
            "_model_module": "@jupyter-widgets/controls",
            "layout": "IPY_MODEL_8b54af0a0c9d4b3aaabb2eafdddd39cc"
          }
        },
        "2da48c14dcee4392a0d08b6dbb8ddeac": {
          "model_module": "@jupyter-widgets/controls",
          "model_name": "DescriptionStyleModel",
          "model_module_version": "1.5.0",
          "state": {
            "_view_name": "StyleView",
            "_model_name": "DescriptionStyleModel",
            "description_width": "",
            "_view_module": "@jupyter-widgets/base",
            "_model_module_version": "1.5.0",
            "_view_count": null,
            "_view_module_version": "1.2.0",
            "_model_module": "@jupyter-widgets/controls"
          }
        },
        "46d5968dc9724c42ad74c0aac3ff470d": {
          "model_module": "@jupyter-widgets/base",
          "model_name": "LayoutModel",
          "model_module_version": "1.2.0",
          "state": {
            "_view_name": "LayoutView",
            "grid_template_rows": null,
            "right": null,
            "justify_content": null,
            "_view_module": "@jupyter-widgets/base",
            "overflow": null,
            "_model_module_version": "1.2.0",
            "_view_count": null,
            "flex_flow": null,
            "width": null,
            "min_width": null,
            "border": null,
            "align_items": null,
            "bottom": null,
            "_model_module": "@jupyter-widgets/base",
            "top": null,
            "grid_column": null,
            "overflow_y": null,
            "overflow_x": null,
            "grid_auto_flow": null,
            "grid_area": null,
            "grid_template_columns": null,
            "flex": null,
            "_model_name": "LayoutModel",
            "justify_items": null,
            "grid_row": null,
            "max_height": null,
            "align_content": null,
            "visibility": null,
            "align_self": null,
            "height": null,
            "min_height": null,
            "padding": null,
            "grid_auto_rows": null,
            "grid_gap": null,
            "max_width": null,
            "order": null,
            "_view_module_version": "1.2.0",
            "grid_template_areas": null,
            "object_position": null,
            "object_fit": null,
            "grid_auto_columns": null,
            "margin": null,
            "display": null,
            "left": null
          }
        },
        "5c8139ed47934d0ba1cb30bd14a6da5a": {
          "model_module": "@jupyter-widgets/controls",
          "model_name": "ProgressStyleModel",
          "model_module_version": "1.5.0",
          "state": {
            "_view_name": "StyleView",
            "_model_name": "ProgressStyleModel",
            "description_width": "",
            "_view_module": "@jupyter-widgets/base",
            "_model_module_version": "1.5.0",
            "_view_count": null,
            "_view_module_version": "1.2.0",
            "bar_color": null,
            "_model_module": "@jupyter-widgets/controls"
          }
        },
        "2a8d6a19daa044c0a0509cffe529d59c": {
          "model_module": "@jupyter-widgets/base",
          "model_name": "LayoutModel",
          "model_module_version": "1.2.0",
          "state": {
            "_view_name": "LayoutView",
            "grid_template_rows": null,
            "right": null,
            "justify_content": null,
            "_view_module": "@jupyter-widgets/base",
            "overflow": null,
            "_model_module_version": "1.2.0",
            "_view_count": null,
            "flex_flow": null,
            "width": null,
            "min_width": null,
            "border": null,
            "align_items": null,
            "bottom": null,
            "_model_module": "@jupyter-widgets/base",
            "top": null,
            "grid_column": null,
            "overflow_y": null,
            "overflow_x": null,
            "grid_auto_flow": null,
            "grid_area": null,
            "grid_template_columns": null,
            "flex": null,
            "_model_name": "LayoutModel",
            "justify_items": null,
            "grid_row": null,
            "max_height": null,
            "align_content": null,
            "visibility": null,
            "align_self": null,
            "height": null,
            "min_height": null,
            "padding": null,
            "grid_auto_rows": null,
            "grid_gap": null,
            "max_width": null,
            "order": null,
            "_view_module_version": "1.2.0",
            "grid_template_areas": null,
            "object_position": null,
            "object_fit": null,
            "grid_auto_columns": null,
            "margin": null,
            "display": null,
            "left": null
          }
        },
        "f9a0328d11294fb69e18e083cea9fd70": {
          "model_module": "@jupyter-widgets/controls",
          "model_name": "DescriptionStyleModel",
          "model_module_version": "1.5.0",
          "state": {
            "_view_name": "StyleView",
            "_model_name": "DescriptionStyleModel",
            "description_width": "",
            "_view_module": "@jupyter-widgets/base",
            "_model_module_version": "1.5.0",
            "_view_count": null,
            "_view_module_version": "1.2.0",
            "_model_module": "@jupyter-widgets/controls"
          }
        },
        "8b54af0a0c9d4b3aaabb2eafdddd39cc": {
          "model_module": "@jupyter-widgets/base",
          "model_name": "LayoutModel",
          "model_module_version": "1.2.0",
          "state": {
            "_view_name": "LayoutView",
            "grid_template_rows": null,
            "right": null,
            "justify_content": null,
            "_view_module": "@jupyter-widgets/base",
            "overflow": null,
            "_model_module_version": "1.2.0",
            "_view_count": null,
            "flex_flow": null,
            "width": null,
            "min_width": null,
            "border": null,
            "align_items": null,
            "bottom": null,
            "_model_module": "@jupyter-widgets/base",
            "top": null,
            "grid_column": null,
            "overflow_y": null,
            "overflow_x": null,
            "grid_auto_flow": null,
            "grid_area": null,
            "grid_template_columns": null,
            "flex": null,
            "_model_name": "LayoutModel",
            "justify_items": null,
            "grid_row": null,
            "max_height": null,
            "align_content": null,
            "visibility": null,
            "align_self": null,
            "height": null,
            "min_height": null,
            "padding": null,
            "grid_auto_rows": null,
            "grid_gap": null,
            "max_width": null,
            "order": null,
            "_view_module_version": "1.2.0",
            "grid_template_areas": null,
            "object_position": null,
            "object_fit": null,
            "grid_auto_columns": null,
            "margin": null,
            "display": null,
            "left": null
          }
        },
        "b86991f233ca4355a2749a0b7f42b181": {
          "model_module": "@jupyter-widgets/controls",
          "model_name": "HBoxModel",
          "model_module_version": "1.5.0",
          "state": {
            "_view_name": "HBoxView",
            "_dom_classes": [],
            "_model_name": "HBoxModel",
            "_view_module": "@jupyter-widgets/controls",
            "_model_module_version": "1.5.0",
            "_view_count": null,
            "_view_module_version": "1.5.0",
            "box_style": "",
            "layout": "IPY_MODEL_5a9a282494284b999d8a0fde8dfe7b92",
            "_model_module": "@jupyter-widgets/controls",
            "children": [
              "IPY_MODEL_e4e008375a7f4670beab0a6aef5e11ac",
              "IPY_MODEL_f4af62fb88ae435ca767719f8533f688",
              "IPY_MODEL_80fb340e5da74f1089ce8ecdf0c78706"
            ]
          }
        },
        "5a9a282494284b999d8a0fde8dfe7b92": {
          "model_module": "@jupyter-widgets/base",
          "model_name": "LayoutModel",
          "model_module_version": "1.2.0",
          "state": {
            "_view_name": "LayoutView",
            "grid_template_rows": null,
            "right": null,
            "justify_content": null,
            "_view_module": "@jupyter-widgets/base",
            "overflow": null,
            "_model_module_version": "1.2.0",
            "_view_count": null,
            "flex_flow": null,
            "width": null,
            "min_width": null,
            "border": null,
            "align_items": null,
            "bottom": null,
            "_model_module": "@jupyter-widgets/base",
            "top": null,
            "grid_column": null,
            "overflow_y": null,
            "overflow_x": null,
            "grid_auto_flow": null,
            "grid_area": null,
            "grid_template_columns": null,
            "flex": null,
            "_model_name": "LayoutModel",
            "justify_items": null,
            "grid_row": null,
            "max_height": null,
            "align_content": null,
            "visibility": null,
            "align_self": null,
            "height": null,
            "min_height": null,
            "padding": null,
            "grid_auto_rows": null,
            "grid_gap": null,
            "max_width": null,
            "order": null,
            "_view_module_version": "1.2.0",
            "grid_template_areas": null,
            "object_position": null,
            "object_fit": null,
            "grid_auto_columns": null,
            "margin": null,
            "display": null,
            "left": null
          }
        },
        "e4e008375a7f4670beab0a6aef5e11ac": {
          "model_module": "@jupyter-widgets/controls",
          "model_name": "HTMLModel",
          "model_module_version": "1.5.0",
          "state": {
            "_view_name": "HTMLView",
            "style": "IPY_MODEL_c2853f66a6504cdd90ae0ab4e482a764",
            "_dom_classes": [],
            "description": "",
            "_model_name": "HTMLModel",
            "placeholder": "​",
            "_view_module": "@jupyter-widgets/controls",
            "_model_module_version": "1.5.0",
            "value": "",
            "_view_count": null,
            "_view_module_version": "1.5.0",
            "description_tooltip": null,
            "_model_module": "@jupyter-widgets/controls",
            "layout": "IPY_MODEL_e1c1fb0426fe4e33877a158338c2ee01"
          }
        },
        "f4af62fb88ae435ca767719f8533f688": {
          "model_module": "@jupyter-widgets/controls",
          "model_name": "FloatProgressModel",
          "model_module_version": "1.5.0",
          "state": {
            "_view_name": "ProgressView",
            "style": "IPY_MODEL_953e2233f0f24e7b94049b1fbde03faf",
            "_dom_classes": [],
            "description": "",
            "_model_name": "FloatProgressModel",
            "bar_style": "success",
            "max": 5148,
            "_view_module": "@jupyter-widgets/controls",
            "_model_module_version": "1.5.0",
            "value": 5148,
            "_view_count": null,
            "_view_module_version": "1.5.0",
            "orientation": "horizontal",
            "min": 0,
            "description_tooltip": null,
            "_model_module": "@jupyter-widgets/controls",
            "layout": "IPY_MODEL_55460ab25fca4d358962cf91e8a0e0bb"
          }
        },
        "80fb340e5da74f1089ce8ecdf0c78706": {
          "model_module": "@jupyter-widgets/controls",
          "model_name": "HTMLModel",
          "model_module_version": "1.5.0",
          "state": {
            "_view_name": "HTMLView",
            "style": "IPY_MODEL_88d265a73372477c9475b197b0840b40",
            "_dom_classes": [],
            "description": "",
            "_model_name": "HTMLModel",
            "placeholder": "​",
            "_view_module": "@jupyter-widgets/controls",
            "_model_module_version": "1.5.0",
            "value": " 6144/? [00:00&lt;00:00, 196329.40it/s]",
            "_view_count": null,
            "_view_module_version": "1.5.0",
            "description_tooltip": null,
            "_model_module": "@jupyter-widgets/controls",
            "layout": "IPY_MODEL_33711d735f7e4a3ea82d68a95f392336"
          }
        },
        "c2853f66a6504cdd90ae0ab4e482a764": {
          "model_module": "@jupyter-widgets/controls",
          "model_name": "DescriptionStyleModel",
          "model_module_version": "1.5.0",
          "state": {
            "_view_name": "StyleView",
            "_model_name": "DescriptionStyleModel",
            "description_width": "",
            "_view_module": "@jupyter-widgets/base",
            "_model_module_version": "1.5.0",
            "_view_count": null,
            "_view_module_version": "1.2.0",
            "_model_module": "@jupyter-widgets/controls"
          }
        },
        "e1c1fb0426fe4e33877a158338c2ee01": {
          "model_module": "@jupyter-widgets/base",
          "model_name": "LayoutModel",
          "model_module_version": "1.2.0",
          "state": {
            "_view_name": "LayoutView",
            "grid_template_rows": null,
            "right": null,
            "justify_content": null,
            "_view_module": "@jupyter-widgets/base",
            "overflow": null,
            "_model_module_version": "1.2.0",
            "_view_count": null,
            "flex_flow": null,
            "width": null,
            "min_width": null,
            "border": null,
            "align_items": null,
            "bottom": null,
            "_model_module": "@jupyter-widgets/base",
            "top": null,
            "grid_column": null,
            "overflow_y": null,
            "overflow_x": null,
            "grid_auto_flow": null,
            "grid_area": null,
            "grid_template_columns": null,
            "flex": null,
            "_model_name": "LayoutModel",
            "justify_items": null,
            "grid_row": null,
            "max_height": null,
            "align_content": null,
            "visibility": null,
            "align_self": null,
            "height": null,
            "min_height": null,
            "padding": null,
            "grid_auto_rows": null,
            "grid_gap": null,
            "max_width": null,
            "order": null,
            "_view_module_version": "1.2.0",
            "grid_template_areas": null,
            "object_position": null,
            "object_fit": null,
            "grid_auto_columns": null,
            "margin": null,
            "display": null,
            "left": null
          }
        },
        "953e2233f0f24e7b94049b1fbde03faf": {
          "model_module": "@jupyter-widgets/controls",
          "model_name": "ProgressStyleModel",
          "model_module_version": "1.5.0",
          "state": {
            "_view_name": "StyleView",
            "_model_name": "ProgressStyleModel",
            "description_width": "",
            "_view_module": "@jupyter-widgets/base",
            "_model_module_version": "1.5.0",
            "_view_count": null,
            "_view_module_version": "1.2.0",
            "bar_color": null,
            "_model_module": "@jupyter-widgets/controls"
          }
        },
        "55460ab25fca4d358962cf91e8a0e0bb": {
          "model_module": "@jupyter-widgets/base",
          "model_name": "LayoutModel",
          "model_module_version": "1.2.0",
          "state": {
            "_view_name": "LayoutView",
            "grid_template_rows": null,
            "right": null,
            "justify_content": null,
            "_view_module": "@jupyter-widgets/base",
            "overflow": null,
            "_model_module_version": "1.2.0",
            "_view_count": null,
            "flex_flow": null,
            "width": null,
            "min_width": null,
            "border": null,
            "align_items": null,
            "bottom": null,
            "_model_module": "@jupyter-widgets/base",
            "top": null,
            "grid_column": null,
            "overflow_y": null,
            "overflow_x": null,
            "grid_auto_flow": null,
            "grid_area": null,
            "grid_template_columns": null,
            "flex": null,
            "_model_name": "LayoutModel",
            "justify_items": null,
            "grid_row": null,
            "max_height": null,
            "align_content": null,
            "visibility": null,
            "align_self": null,
            "height": null,
            "min_height": null,
            "padding": null,
            "grid_auto_rows": null,
            "grid_gap": null,
            "max_width": null,
            "order": null,
            "_view_module_version": "1.2.0",
            "grid_template_areas": null,
            "object_position": null,
            "object_fit": null,
            "grid_auto_columns": null,
            "margin": null,
            "display": null,
            "left": null
          }
        },
        "88d265a73372477c9475b197b0840b40": {
          "model_module": "@jupyter-widgets/controls",
          "model_name": "DescriptionStyleModel",
          "model_module_version": "1.5.0",
          "state": {
            "_view_name": "StyleView",
            "_model_name": "DescriptionStyleModel",
            "description_width": "",
            "_view_module": "@jupyter-widgets/base",
            "_model_module_version": "1.5.0",
            "_view_count": null,
            "_view_module_version": "1.2.0",
            "_model_module": "@jupyter-widgets/controls"
          }
        },
        "33711d735f7e4a3ea82d68a95f392336": {
          "model_module": "@jupyter-widgets/base",
          "model_name": "LayoutModel",
          "model_module_version": "1.2.0",
          "state": {
            "_view_name": "LayoutView",
            "grid_template_rows": null,
            "right": null,
            "justify_content": null,
            "_view_module": "@jupyter-widgets/base",
            "overflow": null,
            "_model_module_version": "1.2.0",
            "_view_count": null,
            "flex_flow": null,
            "width": null,
            "min_width": null,
            "border": null,
            "align_items": null,
            "bottom": null,
            "_model_module": "@jupyter-widgets/base",
            "top": null,
            "grid_column": null,
            "overflow_y": null,
            "overflow_x": null,
            "grid_auto_flow": null,
            "grid_area": null,
            "grid_template_columns": null,
            "flex": null,
            "_model_name": "LayoutModel",
            "justify_items": null,
            "grid_row": null,
            "max_height": null,
            "align_content": null,
            "visibility": null,
            "align_self": null,
            "height": null,
            "min_height": null,
            "padding": null,
            "grid_auto_rows": null,
            "grid_gap": null,
            "max_width": null,
            "order": null,
            "_view_module_version": "1.2.0",
            "grid_template_areas": null,
            "object_position": null,
            "object_fit": null,
            "grid_auto_columns": null,
            "margin": null,
            "display": null,
            "left": null
          }
        }
      }
    }
  },
  "cells": [
    {
      "cell_type": "markdown",
      "metadata": {
        "id": "view-in-github",
        "colab_type": "text"
      },
      "source": [
        "<a href=\"https://colab.research.google.com/github/Tieck-IT/Study/blob/main/PyTorch/PyTorch_220117_firststudy.ipynb\" target=\"_parent\"><img src=\"https://colab.research.google.com/assets/colab-badge.svg\" alt=\"Open In Colab\"/></a>"
      ]
    },
    {
      "cell_type": "markdown",
      "source": [
        "[ AiDALab 양석환 | NLP - 02 ]\n",
        "\n",
        "---"
      ],
      "metadata": {
        "id": "advRwYrGlLou"
      }
    },
    {
      "cell_type": "markdown",
      "source": [
        "- 참고도서\n",
        "  - 파이토치 첫걸음 (두세교 / 김완섭 : 제이펍)\n",
        "  - 펭귄브로의 3분 딥러닝, 파이토치맛 (김건우, 염상준 : 한빛미디어)\n",
        "\n",
        "---"
      ],
      "metadata": {
        "id": "j8pr2MjKlvNQ"
      }
    },
    {
      "cell_type": "markdown",
      "source": [
        "# **파이토치 개요**"
      ],
      "metadata": {
        "id": "TUySLMRGm5vh"
      }
    },
    {
      "cell_type": "markdown",
      "source": [
        "- 파이토치와 텐서플로\n",
        "  - 텐서플로\n",
        "    - Google에서 개발\n",
        "      - 텐서플로는 원래 텐서를 중심으로 하는 데이터의 흐름을 프로그래밍하기 위한 도구로 개발됨\n",
        "      - 딥러닝 또한 각 노드 간의 데이터 흐름에 따라 최적화가 진행되는 모델이므로 텐서플로의 목적에 부합/포함됨\n",
        "      - 이후 딥러닝이 확산됨에 따라 딥러닝을 위한 패키지로서 더 잘 알려지게됨\n",
        "    - 자체 딥러닝용 하드웨어인 TPU 보유 → NVIDIA의 GPU로부터 다소 자유로움\n",
        "    - 많은 유저, 커뮤니티와 공개된 깃허브 소스코드 및 사전훈련된 모델 보유\n",
        "  - 파이토치\n",
        "    - Facebook을 중심으로 개발\n",
        "      - Google의 텐서플로에 대항하기 위하여 개발됨. 원래의 프로젝트는 Torch이며 파이썬 버전으로 만들어진 것이 파이토치임\n",
        "      - 처음부터 딥러닝/머신러닝 모델에 집중하여 개발됨\n",
        "    - 파이토치의 개발에 NVIDIA가 함께 참여 → NVIDIA의 CUDA GPU에 최적화\n",
        "      - NVIDIA에서도 파이토치의 활용을 권장\n",
        "      - 특히 **자연어 처리 분야에서는 텐서플로보다 파이토치를 적극 권장**하고 있음\n",
        "    - 텐서플로보다 늦게 시작함에 따라 상대적으로 적은 User Pool 보유 → 현재 많이 따라잡음"
      ],
      "metadata": {
        "id": "NHr5JLLZZtBg"
      }
    },
    {
      "cell_type": "markdown",
      "source": [
        "## Ⅰ. 파이토치 기초"
      ],
      "metadata": {
        "id": "cSTNQOQl4g55"
      }
    },
    {
      "cell_type": "markdown",
      "source": [
        "### 1.1 기본 모듈 임포트"
      ],
      "metadata": {
        "id": "Z2_QF1zb5EOb"
      }
    },
    {
      "cell_type": "code",
      "execution_count": 1,
      "metadata": {
        "id": "cxevzZ0HmsUB"
      },
      "outputs": [],
      "source": [
        "import numpy as np\n",
        "import torch"
      ]
    },
    {
      "cell_type": "markdown",
      "source": [
        "### 1.2 GPU 사용 설정하기"
      ],
      "metadata": {
        "id": "myRiNnk65VQ-"
      }
    },
    {
      "cell_type": "code",
      "source": [
        "USE_CUDA = torch.cuda.is_available()\n",
        "DEVICE = torch.device(\"cuda\" if USE_CUDA else \"cpu\")\n",
        "print(DEVICE)"
      ],
      "metadata": {
        "colab": {
          "base_uri": "https://localhost:8080/"
        },
        "id": "1lyEv4a55auz",
        "outputId": "233105a8-97af-4d9c-dde6-23274d299c1f"
      },
      "execution_count": 2,
      "outputs": [
        {
          "output_type": "stream",
          "name": "stdout",
          "text": [
            "cuda\n"
          ]
        }
      ]
    },
    {
      "cell_type": "markdown",
      "source": [
        "### 1.3 기본 데이터형(텐서) 사용하기"
      ],
      "metadata": {
        "id": "EBuNyvrs8dA1"
      }
    },
    {
      "cell_type": "code",
      "source": [
        "# 중첩 list를 지정\n",
        "t = torch.tensor([[1, 2], [3, 4.]])\n",
        "print(t)"
      ],
      "metadata": {
        "id": "b3_204DI8i1U",
        "colab": {
          "base_uri": "https://localhost:8080/"
        },
        "outputId": "2a1b4881-b71f-4b17-9b1c-ba0970cb06b7"
      },
      "execution_count": 12,
      "outputs": [
        {
          "output_type": "stream",
          "name": "stdout",
          "text": [
            "tensor([[1., 2.],\n",
            "        [3., 4.]])\n"
          ]
        }
      ]
    },
    {
      "cell_type": "code",
      "source": [
        "# device를 지정하면 GPU로 Tensor를 만들 수 있다\n",
        "t = torch.tensor([[1, 2], [3, 4.]], device='cuda')\n",
        "print(t)"
      ],
      "metadata": {
        "id": "F_WfqBEH8pYr",
        "colab": {
          "base_uri": "https://localhost:8080/"
        },
        "outputId": "46d0fb38-d41a-490f-fe23-ba6e0f8bebc9"
      },
      "execution_count": 14,
      "outputs": [
        {
          "output_type": "stream",
          "name": "stdout",
          "text": [
            "tensor([[1., 2.],\n",
            "        [3., 4.]], device='cuda:0')\n"
          ]
        }
      ]
    },
    {
      "cell_type": "code",
      "source": [
        "# dtype을 사용해 데이터형을 지정해 Tensor를 만들 수 있다\n",
        "t = torch.tensor([[1, 2], [3, 4.]], dtype=torch.float64)\n",
        "print(t)"
      ],
      "metadata": {
        "id": "s2dTXCr48pR5",
        "colab": {
          "base_uri": "https://localhost:8080/"
        },
        "outputId": "0bed2562-b9a1-4a29-8db7-46f9f43c1ab2"
      },
      "execution_count": 15,
      "outputs": [
        {
          "output_type": "stream",
          "name": "stdout",
          "text": [
            "tensor([[1., 2.],\n",
            "        [3., 4.]], dtype=torch.float64)\n"
          ]
        }
      ]
    },
    {
      "cell_type": "code",
      "source": [
        "# 0부터 9까지의 수치로 초기화된 1차원 Tensor\n",
        "t = torch.arange(0, 10)\n",
        "print(t)"
      ],
      "metadata": {
        "id": "EpK1KNoJ8pLt",
        "colab": {
          "base_uri": "https://localhost:8080/"
        },
        "outputId": "86058028-229c-4478-a801-512663fa2f26"
      },
      "execution_count": 16,
      "outputs": [
        {
          "output_type": "stream",
          "name": "stdout",
          "text": [
            "tensor([0, 1, 2, 3, 4, 5, 6, 7, 8, 9])\n"
          ]
        }
      ]
    },
    {
      "cell_type": "code",
      "source": [
        "#모든 값이 0인 100 x 10 의 Tensor를 작성해서 to메서드로 GPU에 전송\n",
        "if DEVICE == 'cuda':\n",
        "  t = torch.zeros(100, 10).to(\"cuda:0\")\n",
        "else:\n",
        "  t = torch.zeros(100, 10)\n",
        "\n",
        "print(t)"
      ],
      "metadata": {
        "id": "BS0VzfQB8pF9",
        "colab": {
          "base_uri": "https://localhost:8080/"
        },
        "outputId": "fec9afe9-d3ca-4a5c-c0e1-a96eb5834d9f"
      },
      "execution_count": 17,
      "outputs": [
        {
          "output_type": "stream",
          "name": "stdout",
          "text": [
            "tensor([[0., 0., 0., 0., 0., 0., 0., 0., 0., 0.],\n",
            "        [0., 0., 0., 0., 0., 0., 0., 0., 0., 0.],\n",
            "        [0., 0., 0., 0., 0., 0., 0., 0., 0., 0.],\n",
            "        [0., 0., 0., 0., 0., 0., 0., 0., 0., 0.],\n",
            "        [0., 0., 0., 0., 0., 0., 0., 0., 0., 0.],\n",
            "        [0., 0., 0., 0., 0., 0., 0., 0., 0., 0.],\n",
            "        [0., 0., 0., 0., 0., 0., 0., 0., 0., 0.],\n",
            "        [0., 0., 0., 0., 0., 0., 0., 0., 0., 0.],\n",
            "        [0., 0., 0., 0., 0., 0., 0., 0., 0., 0.],\n",
            "        [0., 0., 0., 0., 0., 0., 0., 0., 0., 0.],\n",
            "        [0., 0., 0., 0., 0., 0., 0., 0., 0., 0.],\n",
            "        [0., 0., 0., 0., 0., 0., 0., 0., 0., 0.],\n",
            "        [0., 0., 0., 0., 0., 0., 0., 0., 0., 0.],\n",
            "        [0., 0., 0., 0., 0., 0., 0., 0., 0., 0.],\n",
            "        [0., 0., 0., 0., 0., 0., 0., 0., 0., 0.],\n",
            "        [0., 0., 0., 0., 0., 0., 0., 0., 0., 0.],\n",
            "        [0., 0., 0., 0., 0., 0., 0., 0., 0., 0.],\n",
            "        [0., 0., 0., 0., 0., 0., 0., 0., 0., 0.],\n",
            "        [0., 0., 0., 0., 0., 0., 0., 0., 0., 0.],\n",
            "        [0., 0., 0., 0., 0., 0., 0., 0., 0., 0.],\n",
            "        [0., 0., 0., 0., 0., 0., 0., 0., 0., 0.],\n",
            "        [0., 0., 0., 0., 0., 0., 0., 0., 0., 0.],\n",
            "        [0., 0., 0., 0., 0., 0., 0., 0., 0., 0.],\n",
            "        [0., 0., 0., 0., 0., 0., 0., 0., 0., 0.],\n",
            "        [0., 0., 0., 0., 0., 0., 0., 0., 0., 0.],\n",
            "        [0., 0., 0., 0., 0., 0., 0., 0., 0., 0.],\n",
            "        [0., 0., 0., 0., 0., 0., 0., 0., 0., 0.],\n",
            "        [0., 0., 0., 0., 0., 0., 0., 0., 0., 0.],\n",
            "        [0., 0., 0., 0., 0., 0., 0., 0., 0., 0.],\n",
            "        [0., 0., 0., 0., 0., 0., 0., 0., 0., 0.],\n",
            "        [0., 0., 0., 0., 0., 0., 0., 0., 0., 0.],\n",
            "        [0., 0., 0., 0., 0., 0., 0., 0., 0., 0.],\n",
            "        [0., 0., 0., 0., 0., 0., 0., 0., 0., 0.],\n",
            "        [0., 0., 0., 0., 0., 0., 0., 0., 0., 0.],\n",
            "        [0., 0., 0., 0., 0., 0., 0., 0., 0., 0.],\n",
            "        [0., 0., 0., 0., 0., 0., 0., 0., 0., 0.],\n",
            "        [0., 0., 0., 0., 0., 0., 0., 0., 0., 0.],\n",
            "        [0., 0., 0., 0., 0., 0., 0., 0., 0., 0.],\n",
            "        [0., 0., 0., 0., 0., 0., 0., 0., 0., 0.],\n",
            "        [0., 0., 0., 0., 0., 0., 0., 0., 0., 0.],\n",
            "        [0., 0., 0., 0., 0., 0., 0., 0., 0., 0.],\n",
            "        [0., 0., 0., 0., 0., 0., 0., 0., 0., 0.],\n",
            "        [0., 0., 0., 0., 0., 0., 0., 0., 0., 0.],\n",
            "        [0., 0., 0., 0., 0., 0., 0., 0., 0., 0.],\n",
            "        [0., 0., 0., 0., 0., 0., 0., 0., 0., 0.],\n",
            "        [0., 0., 0., 0., 0., 0., 0., 0., 0., 0.],\n",
            "        [0., 0., 0., 0., 0., 0., 0., 0., 0., 0.],\n",
            "        [0., 0., 0., 0., 0., 0., 0., 0., 0., 0.],\n",
            "        [0., 0., 0., 0., 0., 0., 0., 0., 0., 0.],\n",
            "        [0., 0., 0., 0., 0., 0., 0., 0., 0., 0.],\n",
            "        [0., 0., 0., 0., 0., 0., 0., 0., 0., 0.],\n",
            "        [0., 0., 0., 0., 0., 0., 0., 0., 0., 0.],\n",
            "        [0., 0., 0., 0., 0., 0., 0., 0., 0., 0.],\n",
            "        [0., 0., 0., 0., 0., 0., 0., 0., 0., 0.],\n",
            "        [0., 0., 0., 0., 0., 0., 0., 0., 0., 0.],\n",
            "        [0., 0., 0., 0., 0., 0., 0., 0., 0., 0.],\n",
            "        [0., 0., 0., 0., 0., 0., 0., 0., 0., 0.],\n",
            "        [0., 0., 0., 0., 0., 0., 0., 0., 0., 0.],\n",
            "        [0., 0., 0., 0., 0., 0., 0., 0., 0., 0.],\n",
            "        [0., 0., 0., 0., 0., 0., 0., 0., 0., 0.],\n",
            "        [0., 0., 0., 0., 0., 0., 0., 0., 0., 0.],\n",
            "        [0., 0., 0., 0., 0., 0., 0., 0., 0., 0.],\n",
            "        [0., 0., 0., 0., 0., 0., 0., 0., 0., 0.],\n",
            "        [0., 0., 0., 0., 0., 0., 0., 0., 0., 0.],\n",
            "        [0., 0., 0., 0., 0., 0., 0., 0., 0., 0.],\n",
            "        [0., 0., 0., 0., 0., 0., 0., 0., 0., 0.],\n",
            "        [0., 0., 0., 0., 0., 0., 0., 0., 0., 0.],\n",
            "        [0., 0., 0., 0., 0., 0., 0., 0., 0., 0.],\n",
            "        [0., 0., 0., 0., 0., 0., 0., 0., 0., 0.],\n",
            "        [0., 0., 0., 0., 0., 0., 0., 0., 0., 0.],\n",
            "        [0., 0., 0., 0., 0., 0., 0., 0., 0., 0.],\n",
            "        [0., 0., 0., 0., 0., 0., 0., 0., 0., 0.],\n",
            "        [0., 0., 0., 0., 0., 0., 0., 0., 0., 0.],\n",
            "        [0., 0., 0., 0., 0., 0., 0., 0., 0., 0.],\n",
            "        [0., 0., 0., 0., 0., 0., 0., 0., 0., 0.],\n",
            "        [0., 0., 0., 0., 0., 0., 0., 0., 0., 0.],\n",
            "        [0., 0., 0., 0., 0., 0., 0., 0., 0., 0.],\n",
            "        [0., 0., 0., 0., 0., 0., 0., 0., 0., 0.],\n",
            "        [0., 0., 0., 0., 0., 0., 0., 0., 0., 0.],\n",
            "        [0., 0., 0., 0., 0., 0., 0., 0., 0., 0.],\n",
            "        [0., 0., 0., 0., 0., 0., 0., 0., 0., 0.],\n",
            "        [0., 0., 0., 0., 0., 0., 0., 0., 0., 0.],\n",
            "        [0., 0., 0., 0., 0., 0., 0., 0., 0., 0.],\n",
            "        [0., 0., 0., 0., 0., 0., 0., 0., 0., 0.],\n",
            "        [0., 0., 0., 0., 0., 0., 0., 0., 0., 0.],\n",
            "        [0., 0., 0., 0., 0., 0., 0., 0., 0., 0.],\n",
            "        [0., 0., 0., 0., 0., 0., 0., 0., 0., 0.],\n",
            "        [0., 0., 0., 0., 0., 0., 0., 0., 0., 0.],\n",
            "        [0., 0., 0., 0., 0., 0., 0., 0., 0., 0.],\n",
            "        [0., 0., 0., 0., 0., 0., 0., 0., 0., 0.],\n",
            "        [0., 0., 0., 0., 0., 0., 0., 0., 0., 0.],\n",
            "        [0., 0., 0., 0., 0., 0., 0., 0., 0., 0.],\n",
            "        [0., 0., 0., 0., 0., 0., 0., 0., 0., 0.],\n",
            "        [0., 0., 0., 0., 0., 0., 0., 0., 0., 0.],\n",
            "        [0., 0., 0., 0., 0., 0., 0., 0., 0., 0.],\n",
            "        [0., 0., 0., 0., 0., 0., 0., 0., 0., 0.],\n",
            "        [0., 0., 0., 0., 0., 0., 0., 0., 0., 0.],\n",
            "        [0., 0., 0., 0., 0., 0., 0., 0., 0., 0.],\n",
            "        [0., 0., 0., 0., 0., 0., 0., 0., 0., 0.],\n",
            "        [0., 0., 0., 0., 0., 0., 0., 0., 0., 0.]])\n"
          ]
        }
      ]
    },
    {
      "cell_type": "code",
      "source": [
        "# 정규 난수로 100 x 10의 Tensor를 작성\n",
        "t = torch.randn(100, 10)\n",
        "print(t)"
      ],
      "metadata": {
        "id": "0-i_yKJU8o_x"
      },
      "execution_count": null,
      "outputs": []
    },
    {
      "cell_type": "code",
      "source": [
        "# Tensor의 shape은 size 메서드로 취득 가능\n",
        "t.size()"
      ],
      "metadata": {
        "id": "ZFzFQZ8l8o4Y",
        "colab": {
          "base_uri": "https://localhost:8080/"
        },
        "outputId": "7032c139-5552-44cb-87fd-b47c4bd71a3c"
      },
      "execution_count": 19,
      "outputs": [
        {
          "output_type": "execute_result",
          "data": {
            "text/plain": [
              "torch.Size([100, 10])"
            ]
          },
          "metadata": {},
          "execution_count": 19
        }
      ]
    },
    {
      "cell_type": "code",
      "source": [
        "type(t)"
      ],
      "metadata": {
        "colab": {
          "base_uri": "https://localhost:8080/"
        },
        "id": "BIjUAjerQSyR",
        "outputId": "a4b73ca5-8190-4e8c-e7d5-ffcec1c80397"
      },
      "execution_count": 20,
      "outputs": [
        {
          "output_type": "execute_result",
          "data": {
            "text/plain": [
              "torch.Tensor"
            ]
          },
          "metadata": {},
          "execution_count": 20
        }
      ]
    },
    {
      "cell_type": "code",
      "source": [
        "# numpy 메서드를 사용해 ndarray로 변환\n",
        "t = torch.tensor([[1, 2], [3, 4.]])\n",
        "x = t.numpy()\n",
        "x"
      ],
      "metadata": {
        "id": "frXhPtCO8oxv",
        "colab": {
          "base_uri": "https://localhost:8080/"
        },
        "outputId": "220de866-fa7c-4238-bb19-6d42e51b1be5"
      },
      "execution_count": 21,
      "outputs": [
        {
          "output_type": "execute_result",
          "data": {
            "text/plain": [
              "array([[1., 2.],\n",
              "       [3., 4.]], dtype=float32)"
            ]
          },
          "metadata": {},
          "execution_count": 21
        }
      ]
    },
    {
      "cell_type": "code",
      "source": [
        ""
      ],
      "metadata": {
        "id": "1k-mS9HAQcmh"
      },
      "execution_count": null,
      "outputs": []
    },
    {
      "cell_type": "code",
      "source": [
        "# GPU上상의 Tensor는 cpu메서드로,\n",
        "# CPU의 Tensor로 이동(변환)할 필요가 있다\n",
        "t = torch.tensor([[1, 2], [3, 4.]], device=\"cuda:0\")\n",
        "x = t.to(\"cpu\").numpy()\n",
        "x"
      ],
      "metadata": {
        "id": "FQ1WQD6R8opx",
        "colab": {
          "base_uri": "https://localhost:8080/"
        },
        "outputId": "fdc8d47b-9def-413e-a44d-422309fa6521"
      },
      "execution_count": 22,
      "outputs": [
        {
          "output_type": "execute_result",
          "data": {
            "text/plain": [
              "array([[1., 2.],\n",
              "       [3., 4.]], dtype=float32)"
            ]
          },
          "metadata": {},
          "execution_count": 22
        }
      ]
    },
    {
      "cell_type": "code",
      "source": [
        "t = torch.tensor(x,device='cuda')\n",
        "t\n",
        "t.to('cpu').to('cuda').to('cuda').to('cpu').to('cpu').to('cuda').to('cuda')"
      ],
      "metadata": {
        "colab": {
          "base_uri": "https://localhost:8080/"
        },
        "id": "DFdrbN6fQl-i",
        "outputId": "de56a97f-abaa-42e4-d62c-06cf035d4bd1"
      },
      "execution_count": 31,
      "outputs": [
        {
          "output_type": "execute_result",
          "data": {
            "text/plain": [
              "tensor([[1., 2.],\n",
              "        [3., 4.]], device='cuda:0')"
            ]
          },
          "metadata": {},
          "execution_count": 31
        }
      ]
    },
    {
      "cell_type": "code",
      "source": [
        "t = torch.tensor([[1,2,3], [4,5,6.]])\n",
        "\n",
        "# 스칼라 첨자 지정\n",
        "print(t[0, 2])\n",
        "\n",
        "# 슬라이스로 지정\n",
        "print(t[:, :2])\n",
        "\n",
        "# 리스트로 지정\n",
        "print(t[:, [1,2]])\n",
        "\n",
        "# 마스크 배열을 시용해서 3보다 큰 부분만 선택\n",
        "print(t[t > 3])"
      ],
      "metadata": {
        "id": "Udg6KN7F8oh2",
        "colab": {
          "base_uri": "https://localhost:8080/"
        },
        "outputId": "f5a5464b-a6a7-46cb-b48a-22e887df913a"
      },
      "execution_count": 32,
      "outputs": [
        {
          "output_type": "stream",
          "name": "stdout",
          "text": [
            "tensor(3.)\n",
            "tensor([[1., 2.],\n",
            "        [4., 5.]])\n",
            "tensor([[2., 3.],\n",
            "        [5., 6.]])\n",
            "tensor([4., 5., 6.])\n"
          ]
        }
      ]
    },
    {
      "cell_type": "code",
      "source": [
        "# [0, 1]의 요소를 100으로 설정\n",
        "t[0, 1] = 100\n",
        "print(t)\n",
        "\n",
        "# 슬라이스를 사용한 일괄 대입\n",
        "t[:, 1] = 200\n",
        "print(t)      \n",
        "\n",
        "# 마스크 배열을 사용해서 특정 조건의 요소만 치환\n",
        "t[t > 10] = 20\n",
        "print(t)"
      ],
      "metadata": {
        "id": "S-ijwOgp8oXe",
        "colab": {
          "base_uri": "https://localhost:8080/"
        },
        "outputId": "16085da4-8dc5-45fe-f984-ce8ad05c3e2a"
      },
      "execution_count": 33,
      "outputs": [
        {
          "output_type": "stream",
          "name": "stdout",
          "text": [
            "tensor([[  1., 100.,   3.],\n",
            "        [  4.,   5.,   6.]])\n",
            "tensor([[  1., 200.,   3.],\n",
            "        [  4., 200.,   6.]])\n",
            "tensor([[ 1., 20.,  3.],\n",
            "        [ 4., 20.,  6.]])\n"
          ]
        }
      ]
    },
    {
      "cell_type": "code",
      "source": [
        "# 길이 3인 벡터\n",
        "v = torch.tensor([1, 2, 3.])\n",
        "w = torch.tensor([0, 10, 20.])\n",
        "print('v=', v)\n",
        "print('w=', w)"
      ],
      "metadata": {
        "id": "0WxG7dOjE68_",
        "colab": {
          "base_uri": "https://localhost:8080/"
        },
        "outputId": "a7a8fab3-ccc9-46cc-a31d-fcadec847c0f"
      },
      "execution_count": 34,
      "outputs": [
        {
          "output_type": "stream",
          "name": "stdout",
          "text": [
            "v= tensor([1., 2., 3.])\n",
            "w= tensor([ 0., 10., 20.])\n"
          ]
        }
      ]
    },
    {
      "cell_type": "code",
      "source": [
        "# 2 × 3의 행렬\n",
        "m = torch.tensor([[0, 1, 2], [100, 200, 300.]])\n",
        "print('m=', m)"
      ],
      "metadata": {
        "id": "SPwqgjG5E64N",
        "colab": {
          "base_uri": "https://localhost:8080/"
        },
        "outputId": "3bb9f895-618c-4045-eae3-7462aca74fcd"
      },
      "execution_count": 35,
      "outputs": [
        {
          "output_type": "stream",
          "name": "stdout",
          "text": [
            "m= tensor([[  0.,   1.,   2.],\n",
            "        [100., 200., 300.]])\n"
          ]
        }
      ]
    },
    {
      "cell_type": "code",
      "source": [
        "test = torch.stack([v,w],dim=0)\n",
        "print(test.size())\n",
        "test"
      ],
      "metadata": {
        "colab": {
          "base_uri": "https://localhost:8080/"
        },
        "id": "l7uu8WU3RFFZ",
        "outputId": "5d33d645-56d6-40fe-8d62-3ab91ed64da4"
      },
      "execution_count": 53,
      "outputs": [
        {
          "output_type": "stream",
          "name": "stdout",
          "text": [
            "torch.Size([2, 3])\n"
          ]
        },
        {
          "output_type": "execute_result",
          "data": {
            "text/plain": [
              "tensor([[ 1.,  2.,  3.],\n",
              "        [ 0., 10., 20.]])"
            ]
          },
          "metadata": {},
          "execution_count": 53
        }
      ]
    },
    {
      "cell_type": "code",
      "source": [
        "# 벡터와 스칼라의 덧셈\n",
        "v2 = v + 10\n",
        "print('v2=', v2)"
      ],
      "metadata": {
        "id": "81kRwsWzE6y0",
        "colab": {
          "base_uri": "https://localhost:8080/"
        },
        "outputId": "b942b670-c2a0-48c3-ba32-115ea486d8bf"
      },
      "execution_count": 36,
      "outputs": [
        {
          "output_type": "stream",
          "name": "stdout",
          "text": [
            "v2= tensor([11., 12., 13.])\n"
          ]
        }
      ]
    },
    {
      "cell_type": "code",
      "source": [
        "# 제곱도 같은 방식\n",
        "v2 = v ** 2\n",
        "print('v2=', v2)"
      ],
      "metadata": {
        "id": "KMRgMTA2E6uH",
        "colab": {
          "base_uri": "https://localhost:8080/"
        },
        "outputId": "144bd7d5-581e-4714-fc07-7e0197d96934"
      },
      "execution_count": 54,
      "outputs": [
        {
          "output_type": "stream",
          "name": "stdout",
          "text": [
            "v2= tensor([1., 4., 9.])\n"
          ]
        }
      ]
    },
    {
      "cell_type": "code",
      "source": [
        "# 동일 길이의 벡터 간 뺄쎔\n",
        "z = v - w\n",
        "print('z=', z)"
      ],
      "metadata": {
        "id": "CLUah0y2E6of",
        "colab": {
          "base_uri": "https://localhost:8080/"
        },
        "outputId": "277772ad-f333-4f14-87bc-5c74c85f2e31"
      },
      "execution_count": 55,
      "outputs": [
        {
          "output_type": "stream",
          "name": "stdout",
          "text": [
            "z= tensor([  1.,  -8., -17.])\n"
          ]
        }
      ]
    },
    {
      "cell_type": "code",
      "source": [
        "# 여러 가지 조합\n",
        "u = 2 * v - w / 10 + 6.0\n",
        "print('u=', u)"
      ],
      "metadata": {
        "id": "RAmAkq0wE6j5",
        "colab": {
          "base_uri": "https://localhost:8080/"
        },
        "outputId": "f15c7be8-9b82-412c-f20e-050b7ada7820"
      },
      "execution_count": 56,
      "outputs": [
        {
          "output_type": "stream",
          "name": "stdout",
          "text": [
            "u= tensor([ 8.,  9., 10.])\n"
          ]
        }
      ]
    },
    {
      "cell_type": "code",
      "source": [
        "# 행렬과 스칼라\n",
        "m2 = m * 2.0\n",
        "print('m2=', m2)"
      ],
      "metadata": {
        "id": "8uLm_uRmE6em",
        "colab": {
          "base_uri": "https://localhost:8080/"
        },
        "outputId": "78d6e9d6-1017-4cb0-b266-f7ea8da4689d"
      },
      "execution_count": 57,
      "outputs": [
        {
          "output_type": "stream",
          "name": "stdout",
          "text": [
            "m2= tensor([[  0.,   2.,   4.],\n",
            "        [200., 400., 600.]])\n"
          ]
        }
      ]
    },
    {
      "cell_type": "code",
      "source": [
        "# 행렬과 벡터\n",
        "#(2, 3)인 행렬과 (3,)인 벡터이므로 브로드 캐스트가 작동\n",
        "m3 = m + v\n",
        "print('m3=', m3)"
      ],
      "metadata": {
        "id": "8U9yLhmBE6ZG",
        "colab": {
          "base_uri": "https://localhost:8080/"
        },
        "outputId": "e4a03f6c-3361-4218-8f4e-1199abed8b02"
      },
      "execution_count": 58,
      "outputs": [
        {
          "output_type": "stream",
          "name": "stdout",
          "text": [
            "m3= tensor([[  1.,   3.,   5.],\n",
            "        [101., 202., 303.]])\n"
          ]
        }
      ]
    },
    {
      "cell_type": "code",
      "source": [
        "# 행렬 간 처리\n",
        "m4 = m + m\n",
        "print('m4=', m4)"
      ],
      "metadata": {
        "id": "jFQ7K6QgE6S9",
        "colab": {
          "base_uri": "https://localhost:8080/"
        },
        "outputId": "c56a6dc6-d2f3-457c-961c-0572f9019c66"
      },
      "execution_count": 59,
      "outputs": [
        {
          "output_type": "stream",
          "name": "stdout",
          "text": [
            "m4= tensor([[  0.,   2.,   4.],\n",
            "        [200., 400., 600.]])\n"
          ]
        }
      ]
    },
    {
      "cell_type": "code",
      "source": [
        "# 100 × 10의 테스트 데이터 생성\n",
        "X = torch.randn(100, 10)\n",
        "print(X)\n",
        "print(\"X=\", X)"
      ],
      "metadata": {
        "id": "TpsMunh0E6Lk",
        "colab": {
          "base_uri": "https://localhost:8080/"
        },
        "outputId": "38727ee2-3959-4709-c304-26929254adc1"
      },
      "execution_count": 60,
      "outputs": [
        {
          "output_type": "stream",
          "name": "stdout",
          "text": [
            "tensor([[-1.2955e+00,  1.9482e-01, -3.1229e-01, -5.8479e-01, -3.0552e-02,\n",
            "          6.5890e-01,  5.6326e-02,  1.3336e+00, -3.0420e-01,  4.1357e-01],\n",
            "        [ 6.4498e-01,  1.2878e+00,  2.6001e-01,  2.6952e-01, -1.0965e+00,\n",
            "         -1.6212e+00,  1.1929e+00, -7.3659e-01, -4.1342e-01, -1.0622e+00],\n",
            "        [-3.2875e-01,  7.7414e-01,  7.2151e-01,  9.4427e-01, -1.7431e+00,\n",
            "          7.7940e-01, -6.9703e-01, -1.4066e+00, -1.0356e+00, -4.6274e-01],\n",
            "        [-5.9376e-01,  9.2863e-01, -2.2576e+00,  9.4064e-01,  8.3750e-01,\n",
            "          4.2517e-01,  9.9830e-01,  5.6816e-01, -1.6942e+00,  1.1362e+00],\n",
            "        [ 1.4971e+00, -8.5174e-02,  7.0548e-01, -2.3516e-01, -3.4079e-01,\n",
            "          2.2971e+00, -5.0011e-02,  7.1668e-01,  1.1550e+00,  5.5393e-01],\n",
            "        [-6.0393e-01, -1.1936e+00, -1.1584e+00, -1.1424e+00, -9.6166e-01,\n",
            "         -1.3289e+00,  3.8272e-01, -1.1714e+00, -8.2543e-01, -4.5465e-01],\n",
            "        [ 1.0654e+00, -2.8344e+00, -1.0281e+00,  9.5446e-01, -4.3409e-01,\n",
            "          1.0518e+00,  1.0109e+00, -5.3793e-01, -2.5061e-01, -1.5547e+00],\n",
            "        [ 3.1165e+00, -6.5609e-01,  1.3664e+00, -2.9440e-01, -1.4911e-01,\n",
            "          6.1082e-01,  1.2181e+00, -1.5284e+00,  4.7507e-02,  1.2588e+00],\n",
            "        [ 3.6816e-01,  1.0180e+00, -2.2781e-01, -2.9792e-01,  1.0840e+00,\n",
            "         -9.4060e-01,  1.4225e+00, -8.7005e-01, -2.2035e+00,  8.1311e-01],\n",
            "        [ 1.0821e+00,  7.6978e-02,  8.3420e-01, -8.9200e-01,  1.2605e+00,\n",
            "          4.6128e-02, -3.7741e-01, -3.5248e-01, -7.8910e-01,  1.1213e+00],\n",
            "        [ 1.1752e-01,  1.2966e+00,  3.1862e-01, -1.7488e+00,  1.0605e+00,\n",
            "          1.7668e+00,  1.2636e+00, -1.7095e+00,  1.6568e+00, -6.5654e-01],\n",
            "        [-2.1791e+00, -4.3928e-02, -1.0693e+00, -6.4864e-01, -6.7651e-01,\n",
            "         -1.7559e-01,  1.7566e-02,  6.0440e-01, -4.0074e-01, -2.4073e-01],\n",
            "        [ 4.7074e-01, -7.0279e-01, -5.1739e-01, -9.3649e-01,  1.3759e+00,\n",
            "         -4.0449e-01, -5.9775e-01, -8.5264e-01, -1.0839e+00, -9.5092e-01],\n",
            "        [ 3.7210e-01,  4.0542e-01, -1.1113e+00, -3.5323e-01,  6.2826e-01,\n",
            "         -1.5571e+00,  1.7526e+00, -1.8641e-01,  2.0449e-01,  1.6337e-02],\n",
            "        [ 5.7431e-02, -1.4013e+00,  1.0773e+00,  1.8523e-01, -8.4107e-01,\n",
            "          8.2745e-02,  7.7797e-01,  4.1014e-01, -2.3248e+00, -7.5005e-01],\n",
            "        [ 4.9680e-01, -9.5169e-01,  7.1102e-01, -8.7267e-01, -8.1122e-01,\n",
            "         -2.2941e-01,  2.1976e-01,  2.7950e-01, -1.2107e+00, -1.8205e+00],\n",
            "        [ 1.0788e+00, -3.0255e-02, -1.9489e-01, -4.1516e-01,  8.3555e-01,\n",
            "          6.5719e-01, -2.8319e-01, -8.3826e-03, -7.4904e-01,  6.5301e-01],\n",
            "        [-2.2210e+00, -7.4401e-01,  8.4137e-01, -4.8065e-01, -1.5700e-01,\n",
            "          6.4646e-01,  6.7356e-01, -9.2978e-01, -3.2175e-01, -3.6662e-01],\n",
            "        [ 1.0237e-01,  1.4725e+00,  8.7754e-01,  4.2595e-01,  1.1583e+00,\n",
            "         -8.7260e-02, -7.5883e-02, -6.7516e-01,  8.9924e-01, -2.9992e-01],\n",
            "        [ 2.0421e+00, -1.4996e+00,  4.6097e-01,  1.1327e-01, -3.8979e-02,\n",
            "          1.0803e+00, -1.6532e-01,  3.2562e-01, -3.6535e-01,  1.3750e+00],\n",
            "        [ 2.6719e-01, -6.0731e-01,  4.7732e-01, -7.4428e-02,  8.4523e-01,\n",
            "         -4.9982e-01, -2.0021e-01, -7.1270e-01, -8.2134e-01,  2.9879e-01],\n",
            "        [-1.4127e+00, -3.1926e-01,  5.6549e-02,  1.0481e+00, -6.7638e-01,\n",
            "          6.0408e-01,  1.3084e+00,  5.8625e-01, -7.1109e-01,  1.2947e+00],\n",
            "        [-5.8843e-01, -3.1827e+00,  9.1768e-01, -1.5388e+00,  1.0336e+00,\n",
            "         -2.2669e-01, -1.8422e+00,  1.0785e+00,  1.5427e+00,  1.3518e+00],\n",
            "        [ 2.3742e+00, -1.5367e+00, -9.2101e-01, -3.1872e-01,  1.1567e+00,\n",
            "         -5.1244e-01,  1.3065e-01, -7.9935e-02,  4.1880e-01, -2.7075e-01],\n",
            "        [-1.2808e+00,  3.2740e-01,  1.2321e+00,  3.7513e-01,  1.9804e+00,\n",
            "         -1.1364e+00,  5.8925e-01,  3.2230e-01, -1.1804e+00,  2.1871e+00],\n",
            "        [ 1.3398e+00,  6.9701e-02,  3.8139e-01,  2.3744e+00, -3.2164e-01,\n",
            "          1.1205e+00, -3.0434e-01,  5.5310e-01,  9.3445e-01,  1.4319e+00],\n",
            "        [ 2.1179e+00,  1.3710e+00, -1.5895e+00, -2.8219e-01, -1.1248e+00,\n",
            "          8.5861e-01, -1.3236e+00,  1.5788e+00,  7.5711e-01, -1.2776e-01],\n",
            "        [-2.1337e-01,  2.1908e+00, -1.2578e+00,  7.9929e-02, -1.2111e+00,\n",
            "          1.0627e+00,  5.2321e-01,  7.7120e-01,  4.2294e-01,  1.1667e+00],\n",
            "        [-1.7124e+00, -1.2804e+00, -7.4384e-01,  1.2457e+00,  3.2668e-01,\n",
            "          8.3179e-01,  3.7916e-01, -2.2243e-01,  8.9110e-01, -1.5014e-01],\n",
            "        [ 1.5629e-01, -1.1766e+00, -1.0037e+00, -3.0471e-01, -1.0914e-01,\n",
            "          1.7377e-02, -3.1294e-01,  6.9455e-01, -1.7452e+00,  7.4522e-01],\n",
            "        [ 8.0722e-01,  5.4835e-01,  9.5186e-02, -8.4362e-01, -6.9610e-01,\n",
            "         -1.8022e-01,  3.0906e-01,  1.7926e+00, -1.3103e-01,  3.6365e-01],\n",
            "        [ 6.3840e-01,  1.3074e+00, -1.2126e-01,  1.2321e-02, -5.6863e-01,\n",
            "          2.4391e-01,  1.0522e+00,  2.1000e-01, -6.9119e-01,  2.0264e-02],\n",
            "        [ 6.6016e-01, -4.9478e-01,  1.0966e+00,  3.0632e-01,  1.8452e+00,\n",
            "         -7.0913e-02, -6.1585e-01,  8.5796e-01, -2.4211e+00, -1.2564e+00],\n",
            "        [-1.3969e+00, -4.8059e-01, -2.0763e-01,  8.2931e-01,  1.5691e+00,\n",
            "         -1.0508e+00,  3.2356e-01,  1.3780e+00, -1.2092e+00, -2.8128e-02],\n",
            "        [-5.7688e-01, -1.0445e+00,  1.7940e-01,  7.4027e-01, -7.3032e-01,\n",
            "          2.6396e-01,  9.6672e-01,  2.5954e-01,  7.4456e-02,  1.1059e-01],\n",
            "        [ 1.2954e+00, -2.8869e-01,  5.9586e-01, -1.6123e-01,  1.1925e-03,\n",
            "          1.4624e+00,  6.3661e-01, -1.8866e-01, -1.2637e+00,  1.2154e+00],\n",
            "        [-6.1444e-01,  2.3475e-01, -2.9456e-01, -2.7339e-01, -2.5448e+00,\n",
            "          1.0874e+00,  6.8938e-02,  2.2124e-01,  1.3138e+00,  1.6743e+00],\n",
            "        [ 6.3736e-01, -1.4450e-02,  9.6873e-01, -1.0043e+00,  9.1621e-01,\n",
            "         -7.2369e-01, -9.3273e-01,  5.5766e-01,  2.7481e-01,  8.7049e-02],\n",
            "        [-3.0999e-01, -1.1689e+00, -1.1877e+00,  3.7750e-01, -7.8828e-01,\n",
            "          4.0996e-01, -7.2857e-01, -1.4031e+00, -1.4360e-01,  2.3973e-01],\n",
            "        [ 3.4784e-01, -6.4080e-03,  2.6508e-01, -2.9329e-02, -6.9832e-02,\n",
            "          8.3564e-01,  2.2488e+00, -5.7215e-02,  3.4144e-01,  3.0467e-01],\n",
            "        [-1.7041e-01,  1.0874e+00,  1.8969e-01, -4.8529e-01,  1.7511e+00,\n",
            "          1.6264e-01,  2.8372e-01, -9.4686e-01, -3.1087e-01, -1.9693e-01],\n",
            "        [ 7.5459e-01, -5.4868e-01, -7.4936e-02,  4.7553e-01,  7.9318e-01,\n",
            "         -2.2009e-01,  6.9097e-01, -7.1153e-02, -4.8976e-01,  2.5204e+00],\n",
            "        [ 4.8855e-01, -1.0400e+00, -5.1160e-01,  1.0401e+00, -1.1382e-01,\n",
            "         -2.1887e-01, -1.5362e-01, -2.9162e-01, -1.2227e+00, -1.9079e-01],\n",
            "        [ 5.4010e-01,  1.9306e+00,  6.7377e-02, -2.0805e+00, -4.5794e-01,\n",
            "         -1.2227e+00,  2.6990e+00, -9.2637e-01,  4.4693e-01, -7.7452e-02],\n",
            "        [ 6.7036e-01, -6.7268e-01,  1.2820e-02,  2.0242e+00,  1.1671e+00,\n",
            "          2.5564e-01, -6.1429e-01, -4.1560e-01, -2.2887e-01, -7.9794e-01],\n",
            "        [-1.5939e+00,  1.4277e-01, -1.6909e-01, -5.0945e-01,  1.0911e+00,\n",
            "          1.0724e+00,  5.1660e-01, -2.2172e+00, -3.0703e-01,  4.4752e-01],\n",
            "        [-3.5239e-01,  6.6009e-03,  1.5549e+00, -1.8176e-02, -7.5700e-01,\n",
            "         -6.4553e-01, -1.0220e+00, -5.3162e-01, -8.0690e-01,  1.2797e-01],\n",
            "        [ 5.5099e-01,  1.7886e-01,  9.9204e-02,  5.3749e-01,  4.0973e-01,\n",
            "         -2.1881e-01, -2.8062e-01,  8.4923e-01, -1.9265e-01, -7.8977e-01],\n",
            "        [-1.3871e+00, -3.3774e-01,  1.7566e-01,  1.4684e-01, -7.4574e-01,\n",
            "         -1.2547e+00,  5.5682e-01, -9.2086e-03,  2.6616e+00,  1.4971e-01],\n",
            "        [ 2.1499e-01,  2.1524e+00,  9.7543e-01, -2.5372e-01, -5.4247e-01,\n",
            "          2.1466e-01, -1.1844e+00,  6.0345e-01,  3.0576e-01,  2.8643e-01],\n",
            "        [ 8.9999e-01,  1.8030e+00,  9.2140e-01,  2.4706e-01, -1.2412e+00,\n",
            "          4.3587e-01, -7.3475e-01, -5.5431e-01, -1.1639e+00,  1.9269e-01],\n",
            "        [ 6.7049e-01, -2.0337e+00, -2.8848e+00, -5.3491e-01, -1.2258e+00,\n",
            "         -1.6093e+00,  9.0278e-01, -1.3753e-01,  1.9215e+00, -2.2237e-01],\n",
            "        [-6.3521e-01,  4.8390e-01, -3.6153e-01,  1.4253e+00, -4.7432e-01,\n",
            "         -9.1172e-02,  5.1474e-01,  7.7831e-02, -1.5856e+00, -5.6672e-01],\n",
            "        [-6.8633e-01,  1.0830e+00, -3.3282e-02, -1.1664e+00,  5.8823e-01,\n",
            "         -8.2462e-01,  1.4315e+00,  2.5403e-01, -8.2523e-01, -6.5138e-01],\n",
            "        [-9.4066e-01, -4.8931e-01, -1.9360e+00, -2.5972e-01, -7.0800e-01,\n",
            "          6.1893e-01,  1.5808e+00,  3.7229e-01, -3.4741e-02, -2.7582e-01],\n",
            "        [ 5.5540e-01, -7.8188e-01, -9.4736e-01,  1.9989e-01, -2.6742e+00,\n",
            "         -8.3219e-01, -7.6100e-01,  1.4156e-01,  7.8472e-02,  6.6136e-02],\n",
            "        [ 1.6226e+00, -4.3013e-01,  1.1801e-01,  8.0524e-01, -4.9151e-01,\n",
            "         -2.5722e-01, -9.6810e-02, -8.8736e-01,  2.2095e-01, -2.9561e-02],\n",
            "        [-4.2881e-01,  2.2196e+00, -1.4099e-01,  1.8558e+00, -2.6965e-01,\n",
            "         -1.5512e-01,  1.0797e+00,  6.1778e-01,  1.3135e+00,  4.1683e-01],\n",
            "        [-1.8212e+00,  8.8161e-01,  8.2831e-01, -1.0532e+00, -2.8862e-01,\n",
            "          2.5130e-01,  3.9899e-01,  9.3440e-01, -1.4213e+00,  7.5451e-01],\n",
            "        [ 1.6220e+00,  9.3580e-02, -1.3448e+00,  9.3113e-01, -5.4366e-01,\n",
            "         -3.3585e-01,  8.0404e-01, -6.2117e-01, -8.1824e-01, -1.1235e+00],\n",
            "        [ 1.0144e+00,  1.4062e+00, -6.6154e-01, -1.5683e-01, -5.6679e-01,\n",
            "         -4.0017e-01, -1.0491e+00,  1.0709e+00,  8.5220e-01, -6.7501e-01],\n",
            "        [ 2.2072e+00, -9.0065e-01, -3.7969e-01, -1.2600e+00, -5.0151e-02,\n",
            "         -4.4798e-01,  9.7882e-01, -1.2869e+00,  4.0198e-01, -1.7883e-01],\n",
            "        [ 1.0094e+00, -3.9020e-01, -5.3383e-01,  7.3590e-01, -1.8063e+00,\n",
            "         -6.3942e-01, -1.5499e+00,  3.9786e-01,  6.5192e-01, -1.6075e+00],\n",
            "        [ 6.7359e-01,  3.6572e-01, -2.3211e+00, -7.6592e-01,  8.0058e-01,\n",
            "         -9.9526e-01,  1.1839e+00, -6.7061e-01, -2.5515e-01,  8.5101e-02],\n",
            "        [-3.3597e-01,  9.9641e-02,  9.3073e-01,  4.1253e-01, -1.0478e+00,\n",
            "         -4.1413e-03,  6.6282e-01, -9.1241e-02, -2.2656e+00,  1.0057e+00],\n",
            "        [-1.5934e+00, -8.1009e-01, -1.3507e+00,  1.6010e+00,  2.0968e-02,\n",
            "         -3.9076e-01,  6.3318e-01,  6.2745e-01, -1.2161e-01,  5.4212e-01],\n",
            "        [ 8.0547e-02,  9.6483e-01, -1.7501e+00, -1.4533e-01,  5.1640e-01,\n",
            "          3.9012e-01,  6.2033e-01,  6.8564e-01, -1.4081e+00,  2.5438e-01],\n",
            "        [-8.4261e-01,  2.7252e-01,  1.5085e-01,  8.1130e-01, -9.0379e-01,\n",
            "         -5.8144e-01,  7.4986e-01, -1.1795e+00, -1.9540e-01, -5.3964e-01],\n",
            "        [-3.0245e-01, -2.3797e-01,  4.5118e-01, -1.9898e+00,  5.1659e-01,\n",
            "         -1.2270e+00,  6.1380e-01, -9.3504e-01, -5.8987e-01, -8.6406e-01],\n",
            "        [-1.1705e+00,  8.1807e-01,  4.4223e-01,  5.3909e-01,  6.8368e-01,\n",
            "          1.1916e+00,  4.0003e-01,  2.8541e-01,  3.0168e-01, -1.6109e-01],\n",
            "        [ 7.5924e-01, -6.9561e-01, -1.3574e+00, -6.3984e-01, -3.8269e-01,\n",
            "          1.2548e+00,  1.4249e+00, -5.3197e-02, -6.3474e-01,  5.2604e-02],\n",
            "        [ 7.3172e-01,  8.0914e-01,  7.6338e-01,  4.2635e-01, -3.1824e+00,\n",
            "         -1.6327e+00,  1.0040e+00,  1.4153e+00, -1.2371e+00,  4.0011e-01],\n",
            "        [ 2.5491e-01,  1.1534e+00, -1.4081e-01, -4.7311e-01,  1.1865e+00,\n",
            "         -4.8682e-02, -1.2613e+00, -6.9864e-01,  6.3087e-01, -1.2641e+00],\n",
            "        [-8.8431e-01,  3.6086e-01,  5.1904e-02, -4.8430e-01,  9.3608e-01,\n",
            "         -1.3980e+00, -2.5225e-01,  3.6710e-01,  1.5587e+00, -5.8721e-02],\n",
            "        [ 1.2960e+00, -2.9108e-02,  4.0669e-01, -4.3981e-01,  5.5793e-01,\n",
            "          2.1734e-01,  8.9114e-01,  4.1062e-01,  1.2675e-01,  1.0456e+00],\n",
            "        [-2.1126e+00, -1.5111e-01, -1.0183e+00,  2.0432e+00, -1.7784e-02,\n",
            "          6.8450e-01, -1.0177e+00,  3.3845e-01,  6.3975e-01,  2.2019e-01],\n",
            "        [ 9.6927e-01,  1.0698e+00,  2.9802e-01,  5.3942e-01,  2.1995e-01,\n",
            "          9.3386e-01,  9.6147e-01,  5.4792e-01, -2.3170e+00, -8.7710e-01],\n",
            "        [-4.0100e-01, -8.6793e-01, -1.5968e+00, -1.8445e+00, -2.5356e-01,\n",
            "          9.3806e-01, -1.2180e+00,  8.9318e-01, -1.5153e+00, -2.3342e-03],\n",
            "        [ 4.9225e-02,  1.3731e-01,  1.4904e+00,  1.0082e+00, -3.9777e-02,\n",
            "         -8.3296e-01, -6.8781e-02, -1.2247e+00,  8.0806e-03, -7.4083e-01],\n",
            "        [ 9.7448e-01, -4.6190e-01, -2.1507e+00,  6.7964e-01,  6.9300e-01,\n",
            "         -3.8021e-02,  5.1244e-03,  1.4891e+00, -1.1206e+00, -4.6027e-01],\n",
            "        [-1.0083e+00, -1.0006e+00,  1.4614e+00, -1.1822e-01, -5.6129e-01,\n",
            "         -3.6451e-01,  7.9118e-01, -2.5141e+00,  7.6248e-01, -6.6836e-01],\n",
            "        [-2.4597e-01, -8.1941e-01,  1.3433e+00, -3.2075e-02,  2.2190e-01,\n",
            "         -1.3218e+00,  5.3873e-01, -3.0065e+00,  6.9554e-01, -6.8495e-01],\n",
            "        [ 7.4477e-03, -5.2138e-02, -1.5122e-01, -8.4507e-01, -7.6638e-01,\n",
            "          8.0350e-01, -7.6064e-01, -8.6183e-01,  2.9635e-01,  3.9621e-01],\n",
            "        [-1.1694e+00, -1.1910e+00,  1.5888e+00,  3.2122e-01, -6.5250e-01,\n",
            "         -5.0327e-01,  3.5569e-01, -5.7901e-01,  2.6185e+00,  7.5894e-01],\n",
            "        [ 8.9787e-02, -1.0913e+00, -1.3238e+00,  6.0540e-01,  9.2661e-01,\n",
            "          8.7572e-02, -1.5294e+00, -8.6298e-01, -7.9793e-01,  1.0053e+00],\n",
            "        [ 4.3297e-01,  2.5894e+00, -1.2026e+00, -5.5012e-01, -8.2339e-01,\n",
            "         -2.3671e-01,  4.8789e-01, -9.1233e-01,  2.0492e-01,  8.7360e-01],\n",
            "        [-1.1138e+00, -1.2000e+00,  7.4708e-01, -1.0577e-01,  7.8818e-02,\n",
            "         -3.2742e-01, -4.3629e-01,  9.1352e-01,  1.3328e+00, -1.0790e+00],\n",
            "        [-5.0109e-01,  2.1771e+00,  1.4193e-02, -1.0347e+00, -1.3522e+00,\n",
            "          1.0171e+00,  6.2322e-01,  2.4839e-01,  7.1068e-02,  1.2673e+00],\n",
            "        [ 1.0518e-01, -1.4083e+00,  1.7963e+00, -6.7947e-01, -8.2291e-01,\n",
            "          2.4274e+00, -6.6451e-01,  2.0328e-02, -9.3183e-01,  8.9472e-02],\n",
            "        [-2.2850e-01, -1.1747e-01,  3.5541e+00, -2.4850e+00, -6.7548e-01,\n",
            "          1.2176e-01, -7.2299e-01, -5.9168e-01,  1.3739e+00,  1.3635e+00],\n",
            "        [-1.2417e+00,  2.3751e+00, -1.2427e+00, -1.3383e+00, -2.0581e-01,\n",
            "         -2.8464e-01, -4.7099e-01, -1.9154e-01,  2.8874e-01,  2.9175e-01],\n",
            "        [ 1.3037e+00,  6.0577e-01, -1.1905e-01, -7.6525e-01,  6.9257e-01,\n",
            "         -1.3739e+00,  4.1033e-01, -1.5531e-01, -3.3342e-01,  6.3057e-01],\n",
            "        [ 7.7224e-01,  6.5669e-01, -1.5676e+00,  5.2255e-02,  3.6436e-02,\n",
            "         -6.5916e-01,  4.9295e-01,  5.5597e-01,  1.1864e+00, -8.9160e-02],\n",
            "        [ 1.5022e+00,  6.9337e-01,  3.2044e-03,  4.7569e-01, -4.3181e-01,\n",
            "          8.5767e-02,  7.4467e-01, -7.7084e-01,  4.4130e-01, -2.0329e+00],\n",
            "        [ 2.5882e+00, -3.7024e-01,  6.3806e-01,  8.2478e-01,  9.9481e-01,\n",
            "         -9.9226e-01,  1.0771e+00,  1.3428e-01,  1.8757e-01, -2.2614e-01],\n",
            "        [-6.9673e-01,  2.3432e-01, -1.1471e+00, -1.3848e-01, -2.8750e-01,\n",
            "         -1.1716e+00,  8.2901e-01,  1.5668e+00,  5.9672e-01,  2.1845e-01],\n",
            "        [-5.7483e-01,  6.8308e-01,  1.1834e+00,  5.7505e-01, -6.7809e-01,\n",
            "          5.2734e-01,  1.0443e+00,  9.0545e-01, -1.0537e+00, -2.6005e-01],\n",
            "        [-6.5648e-01,  5.4968e-01,  2.7362e-01, -4.6989e-01, -2.2896e-01,\n",
            "          9.5174e-03,  4.2084e-01,  1.9589e+00,  6.3227e-02, -3.2426e+00],\n",
            "        [-6.6332e-01,  1.1345e+00, -5.6954e-01, -6.8358e-01,  2.1880e-01,\n",
            "          9.3780e-01,  9.4935e-01, -2.0741e+00,  8.6146e-02,  3.4565e-01],\n",
            "        [-1.1142e+00,  1.9253e+00,  1.7735e+00, -3.8869e-01,  1.6418e+00,\n",
            "          9.2675e-01,  7.0144e-02,  4.0816e-01,  5.8272e-01, -1.7189e-02]])\n",
            "X= tensor([[-1.2955e+00,  1.9482e-01, -3.1229e-01, -5.8479e-01, -3.0552e-02,\n",
            "          6.5890e-01,  5.6326e-02,  1.3336e+00, -3.0420e-01,  4.1357e-01],\n",
            "        [ 6.4498e-01,  1.2878e+00,  2.6001e-01,  2.6952e-01, -1.0965e+00,\n",
            "         -1.6212e+00,  1.1929e+00, -7.3659e-01, -4.1342e-01, -1.0622e+00],\n",
            "        [-3.2875e-01,  7.7414e-01,  7.2151e-01,  9.4427e-01, -1.7431e+00,\n",
            "          7.7940e-01, -6.9703e-01, -1.4066e+00, -1.0356e+00, -4.6274e-01],\n",
            "        [-5.9376e-01,  9.2863e-01, -2.2576e+00,  9.4064e-01,  8.3750e-01,\n",
            "          4.2517e-01,  9.9830e-01,  5.6816e-01, -1.6942e+00,  1.1362e+00],\n",
            "        [ 1.4971e+00, -8.5174e-02,  7.0548e-01, -2.3516e-01, -3.4079e-01,\n",
            "          2.2971e+00, -5.0011e-02,  7.1668e-01,  1.1550e+00,  5.5393e-01],\n",
            "        [-6.0393e-01, -1.1936e+00, -1.1584e+00, -1.1424e+00, -9.6166e-01,\n",
            "         -1.3289e+00,  3.8272e-01, -1.1714e+00, -8.2543e-01, -4.5465e-01],\n",
            "        [ 1.0654e+00, -2.8344e+00, -1.0281e+00,  9.5446e-01, -4.3409e-01,\n",
            "          1.0518e+00,  1.0109e+00, -5.3793e-01, -2.5061e-01, -1.5547e+00],\n",
            "        [ 3.1165e+00, -6.5609e-01,  1.3664e+00, -2.9440e-01, -1.4911e-01,\n",
            "          6.1082e-01,  1.2181e+00, -1.5284e+00,  4.7507e-02,  1.2588e+00],\n",
            "        [ 3.6816e-01,  1.0180e+00, -2.2781e-01, -2.9792e-01,  1.0840e+00,\n",
            "         -9.4060e-01,  1.4225e+00, -8.7005e-01, -2.2035e+00,  8.1311e-01],\n",
            "        [ 1.0821e+00,  7.6978e-02,  8.3420e-01, -8.9200e-01,  1.2605e+00,\n",
            "          4.6128e-02, -3.7741e-01, -3.5248e-01, -7.8910e-01,  1.1213e+00],\n",
            "        [ 1.1752e-01,  1.2966e+00,  3.1862e-01, -1.7488e+00,  1.0605e+00,\n",
            "          1.7668e+00,  1.2636e+00, -1.7095e+00,  1.6568e+00, -6.5654e-01],\n",
            "        [-2.1791e+00, -4.3928e-02, -1.0693e+00, -6.4864e-01, -6.7651e-01,\n",
            "         -1.7559e-01,  1.7566e-02,  6.0440e-01, -4.0074e-01, -2.4073e-01],\n",
            "        [ 4.7074e-01, -7.0279e-01, -5.1739e-01, -9.3649e-01,  1.3759e+00,\n",
            "         -4.0449e-01, -5.9775e-01, -8.5264e-01, -1.0839e+00, -9.5092e-01],\n",
            "        [ 3.7210e-01,  4.0542e-01, -1.1113e+00, -3.5323e-01,  6.2826e-01,\n",
            "         -1.5571e+00,  1.7526e+00, -1.8641e-01,  2.0449e-01,  1.6337e-02],\n",
            "        [ 5.7431e-02, -1.4013e+00,  1.0773e+00,  1.8523e-01, -8.4107e-01,\n",
            "          8.2745e-02,  7.7797e-01,  4.1014e-01, -2.3248e+00, -7.5005e-01],\n",
            "        [ 4.9680e-01, -9.5169e-01,  7.1102e-01, -8.7267e-01, -8.1122e-01,\n",
            "         -2.2941e-01,  2.1976e-01,  2.7950e-01, -1.2107e+00, -1.8205e+00],\n",
            "        [ 1.0788e+00, -3.0255e-02, -1.9489e-01, -4.1516e-01,  8.3555e-01,\n",
            "          6.5719e-01, -2.8319e-01, -8.3826e-03, -7.4904e-01,  6.5301e-01],\n",
            "        [-2.2210e+00, -7.4401e-01,  8.4137e-01, -4.8065e-01, -1.5700e-01,\n",
            "          6.4646e-01,  6.7356e-01, -9.2978e-01, -3.2175e-01, -3.6662e-01],\n",
            "        [ 1.0237e-01,  1.4725e+00,  8.7754e-01,  4.2595e-01,  1.1583e+00,\n",
            "         -8.7260e-02, -7.5883e-02, -6.7516e-01,  8.9924e-01, -2.9992e-01],\n",
            "        [ 2.0421e+00, -1.4996e+00,  4.6097e-01,  1.1327e-01, -3.8979e-02,\n",
            "          1.0803e+00, -1.6532e-01,  3.2562e-01, -3.6535e-01,  1.3750e+00],\n",
            "        [ 2.6719e-01, -6.0731e-01,  4.7732e-01, -7.4428e-02,  8.4523e-01,\n",
            "         -4.9982e-01, -2.0021e-01, -7.1270e-01, -8.2134e-01,  2.9879e-01],\n",
            "        [-1.4127e+00, -3.1926e-01,  5.6549e-02,  1.0481e+00, -6.7638e-01,\n",
            "          6.0408e-01,  1.3084e+00,  5.8625e-01, -7.1109e-01,  1.2947e+00],\n",
            "        [-5.8843e-01, -3.1827e+00,  9.1768e-01, -1.5388e+00,  1.0336e+00,\n",
            "         -2.2669e-01, -1.8422e+00,  1.0785e+00,  1.5427e+00,  1.3518e+00],\n",
            "        [ 2.3742e+00, -1.5367e+00, -9.2101e-01, -3.1872e-01,  1.1567e+00,\n",
            "         -5.1244e-01,  1.3065e-01, -7.9935e-02,  4.1880e-01, -2.7075e-01],\n",
            "        [-1.2808e+00,  3.2740e-01,  1.2321e+00,  3.7513e-01,  1.9804e+00,\n",
            "         -1.1364e+00,  5.8925e-01,  3.2230e-01, -1.1804e+00,  2.1871e+00],\n",
            "        [ 1.3398e+00,  6.9701e-02,  3.8139e-01,  2.3744e+00, -3.2164e-01,\n",
            "          1.1205e+00, -3.0434e-01,  5.5310e-01,  9.3445e-01,  1.4319e+00],\n",
            "        [ 2.1179e+00,  1.3710e+00, -1.5895e+00, -2.8219e-01, -1.1248e+00,\n",
            "          8.5861e-01, -1.3236e+00,  1.5788e+00,  7.5711e-01, -1.2776e-01],\n",
            "        [-2.1337e-01,  2.1908e+00, -1.2578e+00,  7.9929e-02, -1.2111e+00,\n",
            "          1.0627e+00,  5.2321e-01,  7.7120e-01,  4.2294e-01,  1.1667e+00],\n",
            "        [-1.7124e+00, -1.2804e+00, -7.4384e-01,  1.2457e+00,  3.2668e-01,\n",
            "          8.3179e-01,  3.7916e-01, -2.2243e-01,  8.9110e-01, -1.5014e-01],\n",
            "        [ 1.5629e-01, -1.1766e+00, -1.0037e+00, -3.0471e-01, -1.0914e-01,\n",
            "          1.7377e-02, -3.1294e-01,  6.9455e-01, -1.7452e+00,  7.4522e-01],\n",
            "        [ 8.0722e-01,  5.4835e-01,  9.5186e-02, -8.4362e-01, -6.9610e-01,\n",
            "         -1.8022e-01,  3.0906e-01,  1.7926e+00, -1.3103e-01,  3.6365e-01],\n",
            "        [ 6.3840e-01,  1.3074e+00, -1.2126e-01,  1.2321e-02, -5.6863e-01,\n",
            "          2.4391e-01,  1.0522e+00,  2.1000e-01, -6.9119e-01,  2.0264e-02],\n",
            "        [ 6.6016e-01, -4.9478e-01,  1.0966e+00,  3.0632e-01,  1.8452e+00,\n",
            "         -7.0913e-02, -6.1585e-01,  8.5796e-01, -2.4211e+00, -1.2564e+00],\n",
            "        [-1.3969e+00, -4.8059e-01, -2.0763e-01,  8.2931e-01,  1.5691e+00,\n",
            "         -1.0508e+00,  3.2356e-01,  1.3780e+00, -1.2092e+00, -2.8128e-02],\n",
            "        [-5.7688e-01, -1.0445e+00,  1.7940e-01,  7.4027e-01, -7.3032e-01,\n",
            "          2.6396e-01,  9.6672e-01,  2.5954e-01,  7.4456e-02,  1.1059e-01],\n",
            "        [ 1.2954e+00, -2.8869e-01,  5.9586e-01, -1.6123e-01,  1.1925e-03,\n",
            "          1.4624e+00,  6.3661e-01, -1.8866e-01, -1.2637e+00,  1.2154e+00],\n",
            "        [-6.1444e-01,  2.3475e-01, -2.9456e-01, -2.7339e-01, -2.5448e+00,\n",
            "          1.0874e+00,  6.8938e-02,  2.2124e-01,  1.3138e+00,  1.6743e+00],\n",
            "        [ 6.3736e-01, -1.4450e-02,  9.6873e-01, -1.0043e+00,  9.1621e-01,\n",
            "         -7.2369e-01, -9.3273e-01,  5.5766e-01,  2.7481e-01,  8.7049e-02],\n",
            "        [-3.0999e-01, -1.1689e+00, -1.1877e+00,  3.7750e-01, -7.8828e-01,\n",
            "          4.0996e-01, -7.2857e-01, -1.4031e+00, -1.4360e-01,  2.3973e-01],\n",
            "        [ 3.4784e-01, -6.4080e-03,  2.6508e-01, -2.9329e-02, -6.9832e-02,\n",
            "          8.3564e-01,  2.2488e+00, -5.7215e-02,  3.4144e-01,  3.0467e-01],\n",
            "        [-1.7041e-01,  1.0874e+00,  1.8969e-01, -4.8529e-01,  1.7511e+00,\n",
            "          1.6264e-01,  2.8372e-01, -9.4686e-01, -3.1087e-01, -1.9693e-01],\n",
            "        [ 7.5459e-01, -5.4868e-01, -7.4936e-02,  4.7553e-01,  7.9318e-01,\n",
            "         -2.2009e-01,  6.9097e-01, -7.1153e-02, -4.8976e-01,  2.5204e+00],\n",
            "        [ 4.8855e-01, -1.0400e+00, -5.1160e-01,  1.0401e+00, -1.1382e-01,\n",
            "         -2.1887e-01, -1.5362e-01, -2.9162e-01, -1.2227e+00, -1.9079e-01],\n",
            "        [ 5.4010e-01,  1.9306e+00,  6.7377e-02, -2.0805e+00, -4.5794e-01,\n",
            "         -1.2227e+00,  2.6990e+00, -9.2637e-01,  4.4693e-01, -7.7452e-02],\n",
            "        [ 6.7036e-01, -6.7268e-01,  1.2820e-02,  2.0242e+00,  1.1671e+00,\n",
            "          2.5564e-01, -6.1429e-01, -4.1560e-01, -2.2887e-01, -7.9794e-01],\n",
            "        [-1.5939e+00,  1.4277e-01, -1.6909e-01, -5.0945e-01,  1.0911e+00,\n",
            "          1.0724e+00,  5.1660e-01, -2.2172e+00, -3.0703e-01,  4.4752e-01],\n",
            "        [-3.5239e-01,  6.6009e-03,  1.5549e+00, -1.8176e-02, -7.5700e-01,\n",
            "         -6.4553e-01, -1.0220e+00, -5.3162e-01, -8.0690e-01,  1.2797e-01],\n",
            "        [ 5.5099e-01,  1.7886e-01,  9.9204e-02,  5.3749e-01,  4.0973e-01,\n",
            "         -2.1881e-01, -2.8062e-01,  8.4923e-01, -1.9265e-01, -7.8977e-01],\n",
            "        [-1.3871e+00, -3.3774e-01,  1.7566e-01,  1.4684e-01, -7.4574e-01,\n",
            "         -1.2547e+00,  5.5682e-01, -9.2086e-03,  2.6616e+00,  1.4971e-01],\n",
            "        [ 2.1499e-01,  2.1524e+00,  9.7543e-01, -2.5372e-01, -5.4247e-01,\n",
            "          2.1466e-01, -1.1844e+00,  6.0345e-01,  3.0576e-01,  2.8643e-01],\n",
            "        [ 8.9999e-01,  1.8030e+00,  9.2140e-01,  2.4706e-01, -1.2412e+00,\n",
            "          4.3587e-01, -7.3475e-01, -5.5431e-01, -1.1639e+00,  1.9269e-01],\n",
            "        [ 6.7049e-01, -2.0337e+00, -2.8848e+00, -5.3491e-01, -1.2258e+00,\n",
            "         -1.6093e+00,  9.0278e-01, -1.3753e-01,  1.9215e+00, -2.2237e-01],\n",
            "        [-6.3521e-01,  4.8390e-01, -3.6153e-01,  1.4253e+00, -4.7432e-01,\n",
            "         -9.1172e-02,  5.1474e-01,  7.7831e-02, -1.5856e+00, -5.6672e-01],\n",
            "        [-6.8633e-01,  1.0830e+00, -3.3282e-02, -1.1664e+00,  5.8823e-01,\n",
            "         -8.2462e-01,  1.4315e+00,  2.5403e-01, -8.2523e-01, -6.5138e-01],\n",
            "        [-9.4066e-01, -4.8931e-01, -1.9360e+00, -2.5972e-01, -7.0800e-01,\n",
            "          6.1893e-01,  1.5808e+00,  3.7229e-01, -3.4741e-02, -2.7582e-01],\n",
            "        [ 5.5540e-01, -7.8188e-01, -9.4736e-01,  1.9989e-01, -2.6742e+00,\n",
            "         -8.3219e-01, -7.6100e-01,  1.4156e-01,  7.8472e-02,  6.6136e-02],\n",
            "        [ 1.6226e+00, -4.3013e-01,  1.1801e-01,  8.0524e-01, -4.9151e-01,\n",
            "         -2.5722e-01, -9.6810e-02, -8.8736e-01,  2.2095e-01, -2.9561e-02],\n",
            "        [-4.2881e-01,  2.2196e+00, -1.4099e-01,  1.8558e+00, -2.6965e-01,\n",
            "         -1.5512e-01,  1.0797e+00,  6.1778e-01,  1.3135e+00,  4.1683e-01],\n",
            "        [-1.8212e+00,  8.8161e-01,  8.2831e-01, -1.0532e+00, -2.8862e-01,\n",
            "          2.5130e-01,  3.9899e-01,  9.3440e-01, -1.4213e+00,  7.5451e-01],\n",
            "        [ 1.6220e+00,  9.3580e-02, -1.3448e+00,  9.3113e-01, -5.4366e-01,\n",
            "         -3.3585e-01,  8.0404e-01, -6.2117e-01, -8.1824e-01, -1.1235e+00],\n",
            "        [ 1.0144e+00,  1.4062e+00, -6.6154e-01, -1.5683e-01, -5.6679e-01,\n",
            "         -4.0017e-01, -1.0491e+00,  1.0709e+00,  8.5220e-01, -6.7501e-01],\n",
            "        [ 2.2072e+00, -9.0065e-01, -3.7969e-01, -1.2600e+00, -5.0151e-02,\n",
            "         -4.4798e-01,  9.7882e-01, -1.2869e+00,  4.0198e-01, -1.7883e-01],\n",
            "        [ 1.0094e+00, -3.9020e-01, -5.3383e-01,  7.3590e-01, -1.8063e+00,\n",
            "         -6.3942e-01, -1.5499e+00,  3.9786e-01,  6.5192e-01, -1.6075e+00],\n",
            "        [ 6.7359e-01,  3.6572e-01, -2.3211e+00, -7.6592e-01,  8.0058e-01,\n",
            "         -9.9526e-01,  1.1839e+00, -6.7061e-01, -2.5515e-01,  8.5101e-02],\n",
            "        [-3.3597e-01,  9.9641e-02,  9.3073e-01,  4.1253e-01, -1.0478e+00,\n",
            "         -4.1413e-03,  6.6282e-01, -9.1241e-02, -2.2656e+00,  1.0057e+00],\n",
            "        [-1.5934e+00, -8.1009e-01, -1.3507e+00,  1.6010e+00,  2.0968e-02,\n",
            "         -3.9076e-01,  6.3318e-01,  6.2745e-01, -1.2161e-01,  5.4212e-01],\n",
            "        [ 8.0547e-02,  9.6483e-01, -1.7501e+00, -1.4533e-01,  5.1640e-01,\n",
            "          3.9012e-01,  6.2033e-01,  6.8564e-01, -1.4081e+00,  2.5438e-01],\n",
            "        [-8.4261e-01,  2.7252e-01,  1.5085e-01,  8.1130e-01, -9.0379e-01,\n",
            "         -5.8144e-01,  7.4986e-01, -1.1795e+00, -1.9540e-01, -5.3964e-01],\n",
            "        [-3.0245e-01, -2.3797e-01,  4.5118e-01, -1.9898e+00,  5.1659e-01,\n",
            "         -1.2270e+00,  6.1380e-01, -9.3504e-01, -5.8987e-01, -8.6406e-01],\n",
            "        [-1.1705e+00,  8.1807e-01,  4.4223e-01,  5.3909e-01,  6.8368e-01,\n",
            "          1.1916e+00,  4.0003e-01,  2.8541e-01,  3.0168e-01, -1.6109e-01],\n",
            "        [ 7.5924e-01, -6.9561e-01, -1.3574e+00, -6.3984e-01, -3.8269e-01,\n",
            "          1.2548e+00,  1.4249e+00, -5.3197e-02, -6.3474e-01,  5.2604e-02],\n",
            "        [ 7.3172e-01,  8.0914e-01,  7.6338e-01,  4.2635e-01, -3.1824e+00,\n",
            "         -1.6327e+00,  1.0040e+00,  1.4153e+00, -1.2371e+00,  4.0011e-01],\n",
            "        [ 2.5491e-01,  1.1534e+00, -1.4081e-01, -4.7311e-01,  1.1865e+00,\n",
            "         -4.8682e-02, -1.2613e+00, -6.9864e-01,  6.3087e-01, -1.2641e+00],\n",
            "        [-8.8431e-01,  3.6086e-01,  5.1904e-02, -4.8430e-01,  9.3608e-01,\n",
            "         -1.3980e+00, -2.5225e-01,  3.6710e-01,  1.5587e+00, -5.8721e-02],\n",
            "        [ 1.2960e+00, -2.9108e-02,  4.0669e-01, -4.3981e-01,  5.5793e-01,\n",
            "          2.1734e-01,  8.9114e-01,  4.1062e-01,  1.2675e-01,  1.0456e+00],\n",
            "        [-2.1126e+00, -1.5111e-01, -1.0183e+00,  2.0432e+00, -1.7784e-02,\n",
            "          6.8450e-01, -1.0177e+00,  3.3845e-01,  6.3975e-01,  2.2019e-01],\n",
            "        [ 9.6927e-01,  1.0698e+00,  2.9802e-01,  5.3942e-01,  2.1995e-01,\n",
            "          9.3386e-01,  9.6147e-01,  5.4792e-01, -2.3170e+00, -8.7710e-01],\n",
            "        [-4.0100e-01, -8.6793e-01, -1.5968e+00, -1.8445e+00, -2.5356e-01,\n",
            "          9.3806e-01, -1.2180e+00,  8.9318e-01, -1.5153e+00, -2.3342e-03],\n",
            "        [ 4.9225e-02,  1.3731e-01,  1.4904e+00,  1.0082e+00, -3.9777e-02,\n",
            "         -8.3296e-01, -6.8781e-02, -1.2247e+00,  8.0806e-03, -7.4083e-01],\n",
            "        [ 9.7448e-01, -4.6190e-01, -2.1507e+00,  6.7964e-01,  6.9300e-01,\n",
            "         -3.8021e-02,  5.1244e-03,  1.4891e+00, -1.1206e+00, -4.6027e-01],\n",
            "        [-1.0083e+00, -1.0006e+00,  1.4614e+00, -1.1822e-01, -5.6129e-01,\n",
            "         -3.6451e-01,  7.9118e-01, -2.5141e+00,  7.6248e-01, -6.6836e-01],\n",
            "        [-2.4597e-01, -8.1941e-01,  1.3433e+00, -3.2075e-02,  2.2190e-01,\n",
            "         -1.3218e+00,  5.3873e-01, -3.0065e+00,  6.9554e-01, -6.8495e-01],\n",
            "        [ 7.4477e-03, -5.2138e-02, -1.5122e-01, -8.4507e-01, -7.6638e-01,\n",
            "          8.0350e-01, -7.6064e-01, -8.6183e-01,  2.9635e-01,  3.9621e-01],\n",
            "        [-1.1694e+00, -1.1910e+00,  1.5888e+00,  3.2122e-01, -6.5250e-01,\n",
            "         -5.0327e-01,  3.5569e-01, -5.7901e-01,  2.6185e+00,  7.5894e-01],\n",
            "        [ 8.9787e-02, -1.0913e+00, -1.3238e+00,  6.0540e-01,  9.2661e-01,\n",
            "          8.7572e-02, -1.5294e+00, -8.6298e-01, -7.9793e-01,  1.0053e+00],\n",
            "        [ 4.3297e-01,  2.5894e+00, -1.2026e+00, -5.5012e-01, -8.2339e-01,\n",
            "         -2.3671e-01,  4.8789e-01, -9.1233e-01,  2.0492e-01,  8.7360e-01],\n",
            "        [-1.1138e+00, -1.2000e+00,  7.4708e-01, -1.0577e-01,  7.8818e-02,\n",
            "         -3.2742e-01, -4.3629e-01,  9.1352e-01,  1.3328e+00, -1.0790e+00],\n",
            "        [-5.0109e-01,  2.1771e+00,  1.4193e-02, -1.0347e+00, -1.3522e+00,\n",
            "          1.0171e+00,  6.2322e-01,  2.4839e-01,  7.1068e-02,  1.2673e+00],\n",
            "        [ 1.0518e-01, -1.4083e+00,  1.7963e+00, -6.7947e-01, -8.2291e-01,\n",
            "          2.4274e+00, -6.6451e-01,  2.0328e-02, -9.3183e-01,  8.9472e-02],\n",
            "        [-2.2850e-01, -1.1747e-01,  3.5541e+00, -2.4850e+00, -6.7548e-01,\n",
            "          1.2176e-01, -7.2299e-01, -5.9168e-01,  1.3739e+00,  1.3635e+00],\n",
            "        [-1.2417e+00,  2.3751e+00, -1.2427e+00, -1.3383e+00, -2.0581e-01,\n",
            "         -2.8464e-01, -4.7099e-01, -1.9154e-01,  2.8874e-01,  2.9175e-01],\n",
            "        [ 1.3037e+00,  6.0577e-01, -1.1905e-01, -7.6525e-01,  6.9257e-01,\n",
            "         -1.3739e+00,  4.1033e-01, -1.5531e-01, -3.3342e-01,  6.3057e-01],\n",
            "        [ 7.7224e-01,  6.5669e-01, -1.5676e+00,  5.2255e-02,  3.6436e-02,\n",
            "         -6.5916e-01,  4.9295e-01,  5.5597e-01,  1.1864e+00, -8.9160e-02],\n",
            "        [ 1.5022e+00,  6.9337e-01,  3.2044e-03,  4.7569e-01, -4.3181e-01,\n",
            "          8.5767e-02,  7.4467e-01, -7.7084e-01,  4.4130e-01, -2.0329e+00],\n",
            "        [ 2.5882e+00, -3.7024e-01,  6.3806e-01,  8.2478e-01,  9.9481e-01,\n",
            "         -9.9226e-01,  1.0771e+00,  1.3428e-01,  1.8757e-01, -2.2614e-01],\n",
            "        [-6.9673e-01,  2.3432e-01, -1.1471e+00, -1.3848e-01, -2.8750e-01,\n",
            "         -1.1716e+00,  8.2901e-01,  1.5668e+00,  5.9672e-01,  2.1845e-01],\n",
            "        [-5.7483e-01,  6.8308e-01,  1.1834e+00,  5.7505e-01, -6.7809e-01,\n",
            "          5.2734e-01,  1.0443e+00,  9.0545e-01, -1.0537e+00, -2.6005e-01],\n",
            "        [-6.5648e-01,  5.4968e-01,  2.7362e-01, -4.6989e-01, -2.2896e-01,\n",
            "          9.5174e-03,  4.2084e-01,  1.9589e+00,  6.3227e-02, -3.2426e+00],\n",
            "        [-6.6332e-01,  1.1345e+00, -5.6954e-01, -6.8358e-01,  2.1880e-01,\n",
            "          9.3780e-01,  9.4935e-01, -2.0741e+00,  8.6146e-02,  3.4565e-01],\n",
            "        [-1.1142e+00,  1.9253e+00,  1.7735e+00, -3.8869e-01,  1.6418e+00,\n",
            "          9.2675e-01,  7.0144e-02,  4.0816e-01,  5.8272e-01, -1.7189e-02]])\n"
          ]
        }
      ]
    },
    {
      "cell_type": "code",
      "source": [
        "# 수학 함수를 포함하는 수식\n",
        "y = X * 2 + torch.abs(X)\n",
        "print(\"y=\", y)"
      ],
      "metadata": {
        "id": "MT9Dw0HPFb4O",
        "colab": {
          "base_uri": "https://localhost:8080/"
        },
        "outputId": "e886c58c-f200-41da-99a4-5dcb4795499a"
      },
      "execution_count": 61,
      "outputs": [
        {
          "output_type": "stream",
          "name": "stdout",
          "text": [
            "y= tensor([[-1.2955e+00,  5.8447e-01, -3.1229e-01, -5.8479e-01, -3.0552e-02,\n",
            "          1.9767e+00,  1.6898e-01,  4.0007e+00, -3.0420e-01,  1.2407e+00],\n",
            "        [ 1.9349e+00,  3.8634e+00,  7.8003e-01,  8.0855e-01, -1.0965e+00,\n",
            "         -1.6212e+00,  3.5786e+00, -7.3659e-01, -4.1342e-01, -1.0622e+00],\n",
            "        [-3.2875e-01,  2.3224e+00,  2.1645e+00,  2.8328e+00, -1.7431e+00,\n",
            "          2.3382e+00, -6.9703e-01, -1.4066e+00, -1.0356e+00, -4.6274e-01],\n",
            "        [-5.9376e-01,  2.7859e+00, -2.2576e+00,  2.8219e+00,  2.5125e+00,\n",
            "          1.2755e+00,  2.9949e+00,  1.7045e+00, -1.6942e+00,  3.4085e+00],\n",
            "        [ 4.4914e+00, -8.5174e-02,  2.1164e+00, -2.3516e-01, -3.4079e-01,\n",
            "          6.8913e+00, -5.0011e-02,  2.1501e+00,  3.4651e+00,  1.6618e+00],\n",
            "        [-6.0393e-01, -1.1936e+00, -1.1584e+00, -1.1424e+00, -9.6166e-01,\n",
            "         -1.3289e+00,  1.1482e+00, -1.1714e+00, -8.2543e-01, -4.5465e-01],\n",
            "        [ 3.1961e+00, -2.8344e+00, -1.0281e+00,  2.8634e+00, -4.3409e-01,\n",
            "          3.1554e+00,  3.0327e+00, -5.3793e-01, -2.5061e-01, -1.5547e+00],\n",
            "        [ 9.3494e+00, -6.5609e-01,  4.0993e+00, -2.9440e-01, -1.4911e-01,\n",
            "          1.8325e+00,  3.6544e+00, -1.5284e+00,  1.4252e-01,  3.7763e+00],\n",
            "        [ 1.1045e+00,  3.0540e+00, -2.2781e-01, -2.9792e-01,  3.2519e+00,\n",
            "         -9.4060e-01,  4.2674e+00, -8.7005e-01, -2.2035e+00,  2.4393e+00],\n",
            "        [ 3.2462e+00,  2.3093e-01,  2.5026e+00, -8.9200e-01,  3.7815e+00,\n",
            "          1.3839e-01, -3.7741e-01, -3.5248e-01, -7.8910e-01,  3.3639e+00],\n",
            "        [ 3.5256e-01,  3.8899e+00,  9.5586e-01, -1.7488e+00,  3.1816e+00,\n",
            "          5.3004e+00,  3.7909e+00, -1.7095e+00,  4.9705e+00, -6.5654e-01],\n",
            "        [-2.1791e+00, -4.3928e-02, -1.0693e+00, -6.4864e-01, -6.7651e-01,\n",
            "         -1.7559e-01,  5.2699e-02,  1.8132e+00, -4.0074e-01, -2.4073e-01],\n",
            "        [ 1.4122e+00, -7.0279e-01, -5.1739e-01, -9.3649e-01,  4.1278e+00,\n",
            "         -4.0449e-01, -5.9775e-01, -8.5264e-01, -1.0839e+00, -9.5092e-01],\n",
            "        [ 1.1163e+00,  1.2162e+00, -1.1113e+00, -3.5323e-01,  1.8848e+00,\n",
            "         -1.5571e+00,  5.2577e+00, -1.8641e-01,  6.1347e-01,  4.9011e-02],\n",
            "        [ 1.7229e-01, -1.4013e+00,  3.2320e+00,  5.5569e-01, -8.4107e-01,\n",
            "          2.4824e-01,  2.3339e+00,  1.2304e+00, -2.3248e+00, -7.5005e-01],\n",
            "        [ 1.4904e+00, -9.5169e-01,  2.1331e+00, -8.7267e-01, -8.1122e-01,\n",
            "         -2.2941e-01,  6.5928e-01,  8.3851e-01, -1.2107e+00, -1.8205e+00],\n",
            "        [ 3.2365e+00, -3.0255e-02, -1.9489e-01, -4.1516e-01,  2.5067e+00,\n",
            "          1.9716e+00, -2.8319e-01, -8.3826e-03, -7.4904e-01,  1.9590e+00],\n",
            "        [-2.2210e+00, -7.4401e-01,  2.5241e+00, -4.8065e-01, -1.5700e-01,\n",
            "          1.9394e+00,  2.0207e+00, -9.2978e-01, -3.2175e-01, -3.6662e-01],\n",
            "        [ 3.0711e-01,  4.4176e+00,  2.6326e+00,  1.2779e+00,  3.4749e+00,\n",
            "         -8.7260e-02, -7.5883e-02, -6.7516e-01,  2.6977e+00, -2.9992e-01],\n",
            "        [ 6.1262e+00, -1.4996e+00,  1.3829e+00,  3.3981e-01, -3.8979e-02,\n",
            "          3.2409e+00, -1.6532e-01,  9.7686e-01, -3.6535e-01,  4.1250e+00],\n",
            "        [ 8.0156e-01, -6.0731e-01,  1.4319e+00, -7.4428e-02,  2.5357e+00,\n",
            "         -4.9982e-01, -2.0021e-01, -7.1270e-01, -8.2134e-01,  8.9638e-01],\n",
            "        [-1.4127e+00, -3.1926e-01,  1.6965e-01,  3.1442e+00, -6.7638e-01,\n",
            "          1.8123e+00,  3.9251e+00,  1.7587e+00, -7.1109e-01,  3.8842e+00],\n",
            "        [-5.8843e-01, -3.1827e+00,  2.7530e+00, -1.5388e+00,  3.1007e+00,\n",
            "         -2.2669e-01, -1.8422e+00,  3.2354e+00,  4.6281e+00,  4.0553e+00],\n",
            "        [ 7.1225e+00, -1.5367e+00, -9.2101e-01, -3.1872e-01,  3.4701e+00,\n",
            "         -5.1244e-01,  3.9195e-01, -7.9935e-02,  1.2564e+00, -2.7075e-01],\n",
            "        [-1.2808e+00,  9.8219e-01,  3.6964e+00,  1.1254e+00,  5.9413e+00,\n",
            "         -1.1364e+00,  1.7677e+00,  9.6690e-01, -1.1804e+00,  6.5613e+00],\n",
            "        [ 4.0195e+00,  2.0910e-01,  1.1442e+00,  7.1232e+00, -3.2164e-01,\n",
            "          3.3614e+00, -3.0434e-01,  1.6593e+00,  2.8033e+00,  4.2957e+00],\n",
            "        [ 6.3537e+00,  4.1129e+00, -1.5895e+00, -2.8219e-01, -1.1248e+00,\n",
            "          2.5758e+00, -1.3236e+00,  4.7365e+00,  2.2713e+00, -1.2776e-01],\n",
            "        [-2.1337e-01,  6.5725e+00, -1.2578e+00,  2.3979e-01, -1.2111e+00,\n",
            "          3.1880e+00,  1.5696e+00,  2.3136e+00,  1.2688e+00,  3.5000e+00],\n",
            "        [-1.7124e+00, -1.2804e+00, -7.4384e-01,  3.7371e+00,  9.8005e-01,\n",
            "          2.4954e+00,  1.1375e+00, -2.2243e-01,  2.6733e+00, -1.5014e-01],\n",
            "        [ 4.6887e-01, -1.1766e+00, -1.0037e+00, -3.0471e-01, -1.0914e-01,\n",
            "          5.2132e-02, -3.1294e-01,  2.0836e+00, -1.7452e+00,  2.2357e+00],\n",
            "        [ 2.4217e+00,  1.6451e+00,  2.8556e-01, -8.4362e-01, -6.9610e-01,\n",
            "         -1.8022e-01,  9.2717e-01,  5.3779e+00, -1.3103e-01,  1.0910e+00],\n",
            "        [ 1.9152e+00,  3.9221e+00, -1.2126e-01,  3.6964e-02, -5.6863e-01,\n",
            "          7.3174e-01,  3.1566e+00,  6.2999e-01, -6.9119e-01,  6.0791e-02],\n",
            "        [ 1.9805e+00, -4.9478e-01,  3.2898e+00,  9.1897e-01,  5.5355e+00,\n",
            "         -7.0913e-02, -6.1585e-01,  2.5739e+00, -2.4211e+00, -1.2564e+00],\n",
            "        [-1.3969e+00, -4.8059e-01, -2.0763e-01,  2.4879e+00,  4.7074e+00,\n",
            "         -1.0508e+00,  9.7069e-01,  4.1339e+00, -1.2092e+00, -2.8128e-02],\n",
            "        [-5.7688e-01, -1.0445e+00,  5.3820e-01,  2.2208e+00, -7.3032e-01,\n",
            "          7.9187e-01,  2.9002e+00,  7.7863e-01,  2.2337e-01,  3.3178e-01],\n",
            "        [ 3.8863e+00, -2.8869e-01,  1.7876e+00, -1.6123e-01,  3.5775e-03,\n",
            "          4.3871e+00,  1.9098e+00, -1.8866e-01, -1.2637e+00,  3.6462e+00],\n",
            "        [-6.1444e-01,  7.0425e-01, -2.9456e-01, -2.7339e-01, -2.5448e+00,\n",
            "          3.2622e+00,  2.0681e-01,  6.6373e-01,  3.9414e+00,  5.0229e+00],\n",
            "        [ 1.9121e+00, -1.4450e-02,  2.9062e+00, -1.0043e+00,  2.7486e+00,\n",
            "         -7.2369e-01, -9.3273e-01,  1.6730e+00,  8.2443e-01,  2.6115e-01],\n",
            "        [-3.0999e-01, -1.1689e+00, -1.1877e+00,  1.1325e+00, -7.8828e-01,\n",
            "          1.2299e+00, -7.2857e-01, -1.4031e+00, -1.4360e-01,  7.1919e-01],\n",
            "        [ 1.0435e+00, -6.4080e-03,  7.9524e-01, -2.9329e-02, -6.9832e-02,\n",
            "          2.5069e+00,  6.7464e+00, -5.7215e-02,  1.0243e+00,  9.1401e-01],\n",
            "        [-1.7041e-01,  3.2623e+00,  5.6907e-01, -4.8529e-01,  5.2534e+00,\n",
            "          4.8792e-01,  8.5117e-01, -9.4686e-01, -3.1087e-01, -1.9693e-01],\n",
            "        [ 2.2638e+00, -5.4868e-01, -7.4936e-02,  1.4266e+00,  2.3795e+00,\n",
            "         -2.2009e-01,  2.0729e+00, -7.1153e-02, -4.8976e-01,  7.5612e+00],\n",
            "        [ 1.4656e+00, -1.0400e+00, -5.1160e-01,  3.1203e+00, -1.1382e-01,\n",
            "         -2.1887e-01, -1.5362e-01, -2.9162e-01, -1.2227e+00, -1.9079e-01],\n",
            "        [ 1.6203e+00,  5.7919e+00,  2.0213e-01, -2.0805e+00, -4.5794e-01,\n",
            "         -1.2227e+00,  8.0971e+00, -9.2637e-01,  1.3408e+00, -7.7452e-02],\n",
            "        [ 2.0111e+00, -6.7268e-01,  3.8460e-02,  6.0726e+00,  3.5014e+00,\n",
            "          7.6692e-01, -6.1429e-01, -4.1560e-01, -2.2887e-01, -7.9794e-01],\n",
            "        [-1.5939e+00,  4.2832e-01, -1.6909e-01, -5.0945e-01,  3.2734e+00,\n",
            "          3.2171e+00,  1.5498e+00, -2.2172e+00, -3.0703e-01,  1.3426e+00],\n",
            "        [-3.5239e-01,  1.9803e-02,  4.6648e+00, -1.8176e-02, -7.5700e-01,\n",
            "         -6.4553e-01, -1.0220e+00, -5.3162e-01, -8.0690e-01,  3.8391e-01],\n",
            "        [ 1.6530e+00,  5.3657e-01,  2.9761e-01,  1.6125e+00,  1.2292e+00,\n",
            "         -2.1881e-01, -2.8062e-01,  2.5477e+00, -1.9265e-01, -7.8977e-01],\n",
            "        [-1.3871e+00, -3.3774e-01,  5.2699e-01,  4.4051e-01, -7.4574e-01,\n",
            "         -1.2547e+00,  1.6704e+00, -9.2086e-03,  7.9848e+00,  4.4913e-01],\n",
            "        [ 6.4496e-01,  6.4572e+00,  2.9263e+00, -2.5372e-01, -5.4247e-01,\n",
            "          6.4397e-01, -1.1844e+00,  1.8103e+00,  9.1727e-01,  8.5930e-01],\n",
            "        [ 2.7000e+00,  5.4090e+00,  2.7642e+00,  7.4118e-01, -1.2412e+00,\n",
            "          1.3076e+00, -7.3475e-01, -5.5431e-01, -1.1639e+00,  5.7808e-01],\n",
            "        [ 2.0115e+00, -2.0337e+00, -2.8848e+00, -5.3491e-01, -1.2258e+00,\n",
            "         -1.6093e+00,  2.7083e+00, -1.3753e-01,  5.7645e+00, -2.2237e-01],\n",
            "        [-6.3521e-01,  1.4517e+00, -3.6153e-01,  4.2760e+00, -4.7432e-01,\n",
            "         -9.1172e-02,  1.5442e+00,  2.3349e-01, -1.5856e+00, -5.6672e-01],\n",
            "        [-6.8633e-01,  3.2489e+00, -3.3282e-02, -1.1664e+00,  1.7647e+00,\n",
            "         -8.2462e-01,  4.2945e+00,  7.6210e-01, -8.2523e-01, -6.5138e-01],\n",
            "        [-9.4066e-01, -4.8931e-01, -1.9360e+00, -2.5972e-01, -7.0800e-01,\n",
            "          1.8568e+00,  4.7425e+00,  1.1169e+00, -3.4741e-02, -2.7582e-01],\n",
            "        [ 1.6662e+00, -7.8188e-01, -9.4736e-01,  5.9966e-01, -2.6742e+00,\n",
            "         -8.3219e-01, -7.6100e-01,  4.2467e-01,  2.3542e-01,  1.9841e-01],\n",
            "        [ 4.8679e+00, -4.3013e-01,  3.5402e-01,  2.4157e+00, -4.9151e-01,\n",
            "         -2.5722e-01, -9.6810e-02, -8.8736e-01,  6.6284e-01, -2.9561e-02],\n",
            "        [-4.2881e-01,  6.6588e+00, -1.4099e-01,  5.5673e+00, -2.6965e-01,\n",
            "         -1.5512e-01,  3.2391e+00,  1.8533e+00,  3.9404e+00,  1.2505e+00],\n",
            "        [-1.8212e+00,  2.6448e+00,  2.4849e+00, -1.0532e+00, -2.8862e-01,\n",
            "          7.5389e-01,  1.1970e+00,  2.8032e+00, -1.4213e+00,  2.2635e+00],\n",
            "        [ 4.8660e+00,  2.8074e-01, -1.3448e+00,  2.7934e+00, -5.4366e-01,\n",
            "         -3.3585e-01,  2.4121e+00, -6.2117e-01, -8.1824e-01, -1.1235e+00],\n",
            "        [ 3.0433e+00,  4.2186e+00, -6.6154e-01, -1.5683e-01, -5.6679e-01,\n",
            "         -4.0017e-01, -1.0491e+00,  3.2128e+00,  2.5566e+00, -6.7501e-01],\n",
            "        [ 6.6216e+00, -9.0065e-01, -3.7969e-01, -1.2600e+00, -5.0151e-02,\n",
            "         -4.4798e-01,  2.9365e+00, -1.2869e+00,  1.2059e+00, -1.7883e-01],\n",
            "        [ 3.0281e+00, -3.9020e-01, -5.3383e-01,  2.2077e+00, -1.8063e+00,\n",
            "         -6.3942e-01, -1.5499e+00,  1.1936e+00,  1.9557e+00, -1.6075e+00],\n",
            "        [ 2.0208e+00,  1.0971e+00, -2.3211e+00, -7.6592e-01,  2.4017e+00,\n",
            "         -9.9526e-01,  3.5517e+00, -6.7061e-01, -2.5515e-01,  2.5530e-01],\n",
            "        [-3.3597e-01,  2.9892e-01,  2.7922e+00,  1.2376e+00, -1.0478e+00,\n",
            "         -4.1413e-03,  1.9885e+00, -9.1241e-02, -2.2656e+00,  3.0172e+00],\n",
            "        [-1.5934e+00, -8.1009e-01, -1.3507e+00,  4.8029e+00,  6.2905e-02,\n",
            "         -3.9076e-01,  1.8995e+00,  1.8824e+00, -1.2161e-01,  1.6264e+00],\n",
            "        [ 2.4164e-01,  2.8945e+00, -1.7501e+00, -1.4533e-01,  1.5492e+00,\n",
            "          1.1704e+00,  1.8610e+00,  2.0569e+00, -1.4081e+00,  7.6315e-01],\n",
            "        [-8.4261e-01,  8.1755e-01,  4.5254e-01,  2.4339e+00, -9.0379e-01,\n",
            "         -5.8144e-01,  2.2496e+00, -1.1795e+00, -1.9540e-01, -5.3964e-01],\n",
            "        [-3.0245e-01, -2.3797e-01,  1.3535e+00, -1.9898e+00,  1.5498e+00,\n",
            "         -1.2270e+00,  1.8414e+00, -9.3504e-01, -5.8987e-01, -8.6406e-01],\n",
            "        [-1.1705e+00,  2.4542e+00,  1.3267e+00,  1.6173e+00,  2.0510e+00,\n",
            "          3.5748e+00,  1.2001e+00,  8.5624e-01,  9.0505e-01, -1.6109e-01],\n",
            "        [ 2.2777e+00, -6.9561e-01, -1.3574e+00, -6.3984e-01, -3.8269e-01,\n",
            "          3.7645e+00,  4.2747e+00, -5.3197e-02, -6.3474e-01,  1.5781e-01],\n",
            "        [ 2.1952e+00,  2.4274e+00,  2.2901e+00,  1.2790e+00, -3.1824e+00,\n",
            "         -1.6327e+00,  3.0121e+00,  4.2459e+00, -1.2371e+00,  1.2003e+00],\n",
            "        [ 7.6473e-01,  3.4601e+00, -1.4081e-01, -4.7311e-01,  3.5595e+00,\n",
            "         -4.8682e-02, -1.2613e+00, -6.9864e-01,  1.8926e+00, -1.2641e+00],\n",
            "        [-8.8431e-01,  1.0826e+00,  1.5571e-01, -4.8430e-01,  2.8082e+00,\n",
            "         -1.3980e+00, -2.5225e-01,  1.1013e+00,  4.6762e+00, -5.8721e-02],\n",
            "        [ 3.8880e+00, -2.9108e-02,  1.2201e+00, -4.3981e-01,  1.6738e+00,\n",
            "          6.5201e-01,  2.6734e+00,  1.2319e+00,  3.8024e-01,  3.1369e+00],\n",
            "        [-2.1126e+00, -1.5111e-01, -1.0183e+00,  6.1297e+00, -1.7784e-02,\n",
            "          2.0535e+00, -1.0177e+00,  1.0153e+00,  1.9192e+00,  6.6057e-01],\n",
            "        [ 2.9078e+00,  3.2094e+00,  8.9406e-01,  1.6183e+00,  6.5984e-01,\n",
            "          2.8016e+00,  2.8844e+00,  1.6438e+00, -2.3170e+00, -8.7710e-01],\n",
            "        [-4.0100e-01, -8.6793e-01, -1.5968e+00, -1.8445e+00, -2.5356e-01,\n",
            "          2.8142e+00, -1.2180e+00,  2.6795e+00, -1.5153e+00, -2.3342e-03],\n",
            "        [ 1.4767e-01,  4.1193e-01,  4.4711e+00,  3.0246e+00, -3.9777e-02,\n",
            "         -8.3296e-01, -6.8781e-02, -1.2247e+00,  2.4242e-02, -7.4083e-01],\n",
            "        [ 2.9234e+00, -4.6190e-01, -2.1507e+00,  2.0389e+00,  2.0790e+00,\n",
            "         -3.8021e-02,  1.5373e-02,  4.4674e+00, -1.1206e+00, -4.6027e-01],\n",
            "        [-1.0083e+00, -1.0006e+00,  4.3842e+00, -1.1822e-01, -5.6129e-01,\n",
            "         -3.6451e-01,  2.3735e+00, -2.5141e+00,  2.2874e+00, -6.6836e-01],\n",
            "        [-2.4597e-01, -8.1941e-01,  4.0298e+00, -3.2075e-02,  6.6569e-01,\n",
            "         -1.3218e+00,  1.6162e+00, -3.0065e+00,  2.0866e+00, -6.8495e-01],\n",
            "        [ 2.2343e-02, -5.2138e-02, -1.5122e-01, -8.4507e-01, -7.6638e-01,\n",
            "          2.4105e+00, -7.6064e-01, -8.6183e-01,  8.8904e-01,  1.1886e+00],\n",
            "        [-1.1694e+00, -1.1910e+00,  4.7664e+00,  9.6367e-01, -6.5250e-01,\n",
            "         -5.0327e-01,  1.0671e+00, -5.7901e-01,  7.8555e+00,  2.2768e+00],\n",
            "        [ 2.6936e-01, -1.0913e+00, -1.3238e+00,  1.8162e+00,  2.7798e+00,\n",
            "          2.6272e-01, -1.5294e+00, -8.6298e-01, -7.9793e-01,  3.0159e+00],\n",
            "        [ 1.2989e+00,  7.7681e+00, -1.2026e+00, -5.5012e-01, -8.2339e-01,\n",
            "         -2.3671e-01,  1.4637e+00, -9.1233e-01,  6.1476e-01,  2.6208e+00],\n",
            "        [-1.1138e+00, -1.2000e+00,  2.2413e+00, -1.0577e-01,  2.3645e-01,\n",
            "         -3.2742e-01, -4.3629e-01,  2.7406e+00,  3.9984e+00, -1.0790e+00],\n",
            "        [-5.0109e-01,  6.5314e+00,  4.2578e-02, -1.0347e+00, -1.3522e+00,\n",
            "          3.0513e+00,  1.8696e+00,  7.4517e-01,  2.1320e-01,  3.8019e+00],\n",
            "        [ 3.1553e-01, -1.4083e+00,  5.3888e+00, -6.7947e-01, -8.2291e-01,\n",
            "          7.2822e+00, -6.6451e-01,  6.0985e-02, -9.3183e-01,  2.6842e-01],\n",
            "        [-2.2850e-01, -1.1747e-01,  1.0662e+01, -2.4850e+00, -6.7548e-01,\n",
            "          3.6529e-01, -7.2299e-01, -5.9168e-01,  4.1217e+00,  4.0904e+00],\n",
            "        [-1.2417e+00,  7.1254e+00, -1.2427e+00, -1.3383e+00, -2.0581e-01,\n",
            "         -2.8464e-01, -4.7099e-01, -1.9154e-01,  8.6623e-01,  8.7525e-01],\n",
            "        [ 3.9111e+00,  1.8173e+00, -1.1905e-01, -7.6525e-01,  2.0777e+00,\n",
            "         -1.3739e+00,  1.2310e+00, -1.5531e-01, -3.3342e-01,  1.8917e+00],\n",
            "        [ 2.3167e+00,  1.9701e+00, -1.5676e+00,  1.5676e-01,  1.0931e-01,\n",
            "         -6.5916e-01,  1.4789e+00,  1.6679e+00,  3.5592e+00, -8.9160e-02],\n",
            "        [ 4.5067e+00,  2.0801e+00,  9.6131e-03,  1.4271e+00, -4.3181e-01,\n",
            "          2.5730e-01,  2.2340e+00, -7.7084e-01,  1.3239e+00, -2.0329e+00],\n",
            "        [ 7.7646e+00, -3.7024e-01,  1.9142e+00,  2.4743e+00,  2.9844e+00,\n",
            "         -9.9226e-01,  3.2313e+00,  4.0284e-01,  5.6272e-01, -2.2614e-01],\n",
            "        [-6.9673e-01,  7.0295e-01, -1.1471e+00, -1.3848e-01, -2.8750e-01,\n",
            "         -1.1716e+00,  2.4870e+00,  4.7003e+00,  1.7902e+00,  6.5536e-01],\n",
            "        [-5.7483e-01,  2.0492e+00,  3.5502e+00,  1.7251e+00, -6.7809e-01,\n",
            "          1.5820e+00,  3.1328e+00,  2.7163e+00, -1.0537e+00, -2.6005e-01],\n",
            "        [-6.5648e-01,  1.6490e+00,  8.2086e-01, -4.6989e-01, -2.2896e-01,\n",
            "          2.8552e-02,  1.2625e+00,  5.8768e+00,  1.8968e-01, -3.2426e+00],\n",
            "        [-6.6332e-01,  3.4034e+00, -5.6954e-01, -6.8358e-01,  6.5641e-01,\n",
            "          2.8134e+00,  2.8480e+00, -2.0741e+00,  2.5844e-01,  1.0369e+00],\n",
            "        [-1.1142e+00,  5.7759e+00,  5.3206e+00, -3.8869e-01,  4.9255e+00,\n",
            "          2.7803e+00,  2.1043e-01,  1.2245e+00,  1.7482e+00, -1.7189e-02]])\n"
          ]
        }
      ]
    },
    {
      "cell_type": "code",
      "source": [
        "# 평균치 구하기\n",
        "m = torch.mean(X)\n",
        "print('m=', m)"
      ],
      "metadata": {
        "id": "nlC4uDoFFb0o",
        "colab": {
          "base_uri": "https://localhost:8080/"
        },
        "outputId": "35814461-d627-41ae-884c-259f67489905"
      },
      "execution_count": 62,
      "outputs": [
        {
          "output_type": "stream",
          "name": "stdout",
          "text": [
            "m= tensor(0.0063)\n"
          ]
        }
      ]
    },
    {
      "cell_type": "code",
      "source": [
        "# 함수가 아닌 메서드로도 사용할 수 있다\n",
        "m = X.mean()\n",
        "print('m=', m)"
      ],
      "metadata": {
        "id": "TUJf63VYFbxV",
        "colab": {
          "base_uri": "https://localhost:8080/"
        },
        "outputId": "e6de2695-2c9a-45a1-95a5-b5f161e49550"
      },
      "execution_count": 63,
      "outputs": [
        {
          "output_type": "stream",
          "name": "stdout",
          "text": [
            "m= tensor(0.0063)\n"
          ]
        }
      ]
    },
    {
      "cell_type": "code",
      "source": [
        "# 집계 결과는 0차원의 Tensor로 item 메서드를 사용해서\n",
        "# 값을 추출할 수 있다\n",
        "m_value = m.item()\n",
        "print('m_value=', m_value)"
      ],
      "metadata": {
        "id": "OzJhmu5TFbtW",
        "colab": {
          "base_uri": "https://localhost:8080/"
        },
        "outputId": "5e260eeb-2dd9-44e1-d339-6e35ea4c9256"
      },
      "execution_count": 64,
      "outputs": [
        {
          "output_type": "stream",
          "name": "stdout",
          "text": [
            "m_value= 0.006345528177917004\n"
          ]
        }
      ]
    },
    {
      "cell_type": "code",
      "source": [
        "# 집계는 차원을 지정할 수도 있다. 다음은 행 방향으로 집계해서,\n",
        "# 열 단위로 평균값을 계산한다\n",
        "m2 = X.mean(0)\n",
        "print('m2=', m2)"
      ],
      "metadata": {
        "id": "VJ9HWvxdFbpr",
        "colab": {
          "base_uri": "https://localhost:8080/"
        },
        "outputId": "03ec8865-558e-496e-ff36-fad9c3926746"
      },
      "execution_count": 65,
      "outputs": [
        {
          "output_type": "stream",
          "name": "stdout",
          "text": [
            "m2= tensor([ 0.0836,  0.0678, -0.0545, -0.0537, -0.0773, -0.0004,  0.2559, -0.0571,\n",
            "        -0.1463,  0.0454])\n"
          ]
        }
      ]
    },
    {
      "cell_type": "code",
      "source": [
        "x1 = torch.tensor([[1, 2], [3, 4.]]) # 2×2\n",
        "x2 = torch.tensor([[10, 20, 30], [40, 50, 60.]]) # 2×3\n",
        "\n",
        "# 2×2를 4×1로 보여준다\n",
        "print(x1)\n",
        "print(x1.view(4, 1))\n",
        "print('----------------------------------------------')\n",
        "\n",
        "# -1는 나머지 차원을 나타내며 한 번만 사용할 수 있다\n",
        "# 아래 예에선 -1을 사용하면 자동으로 4가 된다\n",
        "print(x1.view(1, -1))\n",
        "print('----------------------------------------------')\n",
        "\n",
        "# 2×3을 전치해서 3×2로 만든다\n",
        "print(x2.t())\n",
        "print('----------------------------------------------')\n",
        "\n",
        "# dim=1로 결합하면 2×5의 Tensor를 만든다\n",
        "torch.cat([x1, x2], dim=1)"
      ],
      "metadata": {
        "id": "rXZ6AxLQFbmW",
        "colab": {
          "base_uri": "https://localhost:8080/"
        },
        "outputId": "798c31dd-846e-4ea7-c719-2c132090ddd8"
      },
      "execution_count": 67,
      "outputs": [
        {
          "output_type": "stream",
          "name": "stdout",
          "text": [
            "tensor([[1., 2.],\n",
            "        [3., 4.]])\n",
            "tensor([[1.],\n",
            "        [2.],\n",
            "        [3.],\n",
            "        [4.]])\n",
            "----------------------------------------------\n",
            "tensor([[1., 2., 3., 4.]])\n",
            "----------------------------------------------\n",
            "tensor([[10., 40.],\n",
            "        [20., 50.],\n",
            "        [30., 60.]])\n",
            "----------------------------------------------\n"
          ]
        },
        {
          "output_type": "execute_result",
          "data": {
            "text/plain": [
              "tensor([[ 1.,  2., 10., 20., 30.],\n",
              "        [ 3.,  4., 40., 50., 60.]])"
            ]
          },
          "metadata": {},
          "execution_count": 67
        }
      ]
    },
    {
      "cell_type": "code",
      "source": [
        "# HWC을 CHW로 변환\n",
        "# 64×32×3의 데이터가 100개\n",
        "hwc_img_data = torch.rand(100, 64, 32, 3)\n",
        "print(hwc_img_data)\n",
        "print('----------------------------------------------')\n",
        "chw_img_data = hwc_img_data.transpose(1, 2).transpose(1, 3)\n",
        "print(chw_img_data)"
      ],
      "metadata": {
        "id": "cVvR20dBFbir",
        "colab": {
          "base_uri": "https://localhost:8080/"
        },
        "outputId": "12f4092b-f1ae-421e-bce6-120c2a4a84b0"
      },
      "execution_count": 68,
      "outputs": [
        {
          "output_type": "stream",
          "name": "stdout",
          "text": [
            "tensor([[[[4.5841e-01, 5.4336e-01, 7.0780e-01],\n",
            "          [1.6569e-01, 9.6246e-01, 1.8309e-01],\n",
            "          [6.2982e-01, 6.6633e-01, 4.4143e-02],\n",
            "          ...,\n",
            "          [2.8192e-01, 8.1077e-01, 6.8110e-01],\n",
            "          [7.9071e-01, 5.4127e-01, 1.1267e-01],\n",
            "          [2.5943e-01, 9.2789e-01, 3.8819e-01]],\n",
            "\n",
            "         [[3.6048e-02, 2.9151e-01, 8.0195e-01],\n",
            "          [5.8008e-01, 9.4303e-01, 4.3155e-01],\n",
            "          [4.8782e-01, 8.5865e-01, 8.5979e-01],\n",
            "          ...,\n",
            "          [4.4143e-01, 7.7294e-01, 2.0353e-01],\n",
            "          [5.0838e-01, 5.0845e-01, 6.2164e-01],\n",
            "          [7.2018e-01, 7.6370e-01, 6.9035e-01]],\n",
            "\n",
            "         [[8.7772e-01, 6.7926e-01, 8.8493e-01],\n",
            "          [6.1764e-01, 6.8482e-01, 8.3903e-02],\n",
            "          [4.0031e-01, 3.4535e-01, 2.5176e-01],\n",
            "          ...,\n",
            "          [7.5298e-01, 5.5387e-01, 8.0554e-01],\n",
            "          [1.6252e-01, 6.9894e-01, 1.3749e-01],\n",
            "          [6.6442e-01, 5.4370e-01, 4.6602e-02]],\n",
            "\n",
            "         ...,\n",
            "\n",
            "         [[5.3400e-02, 2.0980e-01, 8.6052e-01],\n",
            "          [5.4886e-01, 5.2170e-01, 1.7648e-01],\n",
            "          [4.9736e-01, 7.2587e-01, 4.6207e-01],\n",
            "          ...,\n",
            "          [7.8901e-03, 8.1785e-01, 9.6138e-01],\n",
            "          [2.3571e-01, 6.9539e-01, 3.0688e-01],\n",
            "          [2.1796e-01, 5.6998e-01, 9.6681e-01]],\n",
            "\n",
            "         [[7.3076e-01, 1.1978e-01, 9.5676e-01],\n",
            "          [1.2482e-01, 8.3009e-01, 2.1380e-01],\n",
            "          [7.4576e-01, 3.1039e-01, 1.4861e-01],\n",
            "          ...,\n",
            "          [4.7728e-01, 2.9810e-02, 4.6867e-01],\n",
            "          [7.2625e-01, 5.6320e-01, 7.6280e-01],\n",
            "          [9.4028e-03, 6.0810e-01, 6.1518e-03]],\n",
            "\n",
            "         [[6.4637e-02, 3.7815e-01, 1.3730e-01],\n",
            "          [7.5522e-02, 7.1708e-01, 6.6647e-01],\n",
            "          [4.4288e-01, 3.6470e-01, 3.0650e-02],\n",
            "          ...,\n",
            "          [3.5331e-01, 9.3092e-01, 3.2285e-01],\n",
            "          [7.5228e-01, 7.8349e-01, 1.9574e-01],\n",
            "          [1.6968e-01, 5.7346e-01, 8.1214e-01]]],\n",
            "\n",
            "\n",
            "        [[[7.4689e-02, 5.0423e-01, 4.4216e-01],\n",
            "          [8.1849e-01, 8.5815e-01, 2.4981e-01],\n",
            "          [9.7215e-01, 1.1990e-02, 8.3134e-01],\n",
            "          ...,\n",
            "          [7.6683e-01, 3.5582e-01, 6.4638e-01],\n",
            "          [6.1051e-01, 8.6502e-01, 1.2472e-01],\n",
            "          [4.1229e-01, 4.0187e-01, 2.4667e-01]],\n",
            "\n",
            "         [[1.8640e-01, 7.9671e-01, 5.3769e-01],\n",
            "          [5.9411e-01, 1.2716e-01, 4.5304e-01],\n",
            "          [5.6353e-01, 5.5090e-01, 4.2222e-01],\n",
            "          ...,\n",
            "          [9.6279e-01, 8.5359e-01, 5.9936e-01],\n",
            "          [9.9259e-01, 7.9110e-01, 8.8372e-01],\n",
            "          [5.1310e-01, 2.1786e-01, 3.5717e-01]],\n",
            "\n",
            "         [[2.1177e-02, 2.1817e-01, 4.2282e-01],\n",
            "          [1.6324e-02, 4.6638e-01, 9.1093e-01],\n",
            "          [4.5629e-01, 8.1689e-01, 5.1830e-01],\n",
            "          ...,\n",
            "          [8.7311e-03, 5.0943e-01, 8.1229e-01],\n",
            "          [7.6130e-01, 9.1474e-01, 8.9357e-01],\n",
            "          [4.8575e-01, 9.8620e-01, 1.2731e-01]],\n",
            "\n",
            "         ...,\n",
            "\n",
            "         [[4.9703e-01, 5.9411e-01, 4.3579e-01],\n",
            "          [2.3470e-01, 1.3822e-01, 3.7107e-01],\n",
            "          [9.1383e-01, 2.3202e-01, 3.3947e-01],\n",
            "          ...,\n",
            "          [3.5919e-01, 7.5910e-01, 2.8674e-01],\n",
            "          [2.6676e-01, 2.6636e-01, 1.0483e-01],\n",
            "          [7.6025e-01, 4.7229e-01, 3.4372e-01]],\n",
            "\n",
            "         [[7.6047e-01, 8.6007e-01, 8.6054e-01],\n",
            "          [2.8205e-01, 5.5192e-01, 6.1403e-01],\n",
            "          [7.6119e-01, 3.2776e-01, 2.4748e-01],\n",
            "          ...,\n",
            "          [8.0287e-01, 3.1039e-01, 7.0098e-01],\n",
            "          [4.4517e-01, 4.4033e-02, 6.1279e-01],\n",
            "          [6.3666e-01, 1.7998e-01, 7.4101e-01]],\n",
            "\n",
            "         [[2.5997e-01, 6.5842e-01, 5.4654e-02],\n",
            "          [6.6309e-02, 5.9202e-01, 4.5345e-01],\n",
            "          [9.0786e-01, 2.7944e-02, 2.2385e-01],\n",
            "          ...,\n",
            "          [1.7405e-01, 3.4930e-01, 4.6710e-02],\n",
            "          [3.8528e-03, 5.1928e-01, 9.6737e-01],\n",
            "          [6.4723e-01, 2.5441e-01, 9.9835e-01]]],\n",
            "\n",
            "\n",
            "        [[[2.8629e-01, 5.8893e-01, 1.4001e-03],\n",
            "          [2.4230e-01, 4.7848e-03, 5.8340e-01],\n",
            "          [6.3058e-01, 7.6056e-01, 8.9745e-01],\n",
            "          ...,\n",
            "          [1.4423e-01, 9.3652e-02, 5.1931e-01],\n",
            "          [1.0836e-02, 3.9422e-01, 8.0384e-01],\n",
            "          [9.1329e-01, 9.8764e-01, 7.0496e-01]],\n",
            "\n",
            "         [[3.2178e-01, 3.6559e-01, 4.0032e-01],\n",
            "          [5.6930e-01, 1.2060e-01, 8.8899e-01],\n",
            "          [7.2282e-01, 1.2421e-01, 4.7488e-01],\n",
            "          ...,\n",
            "          [3.7392e-01, 3.9523e-01, 4.4118e-01],\n",
            "          [4.6490e-01, 4.4472e-01, 9.6710e-01],\n",
            "          [5.3225e-01, 2.4468e-02, 2.4812e-01]],\n",
            "\n",
            "         [[4.1638e-01, 4.1302e-01, 8.2999e-01],\n",
            "          [5.8964e-01, 5.2242e-01, 6.4407e-02],\n",
            "          [1.3395e-01, 8.6022e-01, 8.4740e-01],\n",
            "          ...,\n",
            "          [7.9957e-01, 6.7814e-01, 5.3748e-01],\n",
            "          [1.6217e-01, 5.7305e-02, 2.4856e-01],\n",
            "          [2.8596e-01, 4.7121e-02, 1.2341e-01]],\n",
            "\n",
            "         ...,\n",
            "\n",
            "         [[5.5158e-01, 8.4015e-01, 2.2124e-01],\n",
            "          [3.6094e-01, 3.5543e-02, 2.1791e-02],\n",
            "          [8.0890e-01, 5.6177e-01, 5.4292e-01],\n",
            "          ...,\n",
            "          [2.0961e-01, 4.4371e-01, 2.3748e-01],\n",
            "          [9.1303e-01, 3.1118e-01, 2.2807e-01],\n",
            "          [9.6991e-01, 9.2958e-01, 4.2838e-02]],\n",
            "\n",
            "         [[4.2325e-02, 6.5096e-01, 5.0269e-01],\n",
            "          [5.5819e-01, 1.7881e-01, 6.5331e-01],\n",
            "          [6.3482e-01, 8.9428e-01, 7.5587e-01],\n",
            "          ...,\n",
            "          [1.0535e-01, 3.5993e-01, 5.5888e-01],\n",
            "          [6.8139e-01, 6.3358e-01, 7.1528e-01],\n",
            "          [7.4251e-01, 6.9770e-01, 7.7459e-01]],\n",
            "\n",
            "         [[5.1527e-01, 1.7751e-01, 8.1222e-01],\n",
            "          [6.9204e-01, 8.6121e-01, 6.7492e-01],\n",
            "          [5.1538e-01, 2.3677e-01, 5.3578e-01],\n",
            "          ...,\n",
            "          [1.8888e-01, 5.8626e-01, 7.4913e-01],\n",
            "          [6.3194e-02, 3.7770e-01, 4.1596e-01],\n",
            "          [1.4682e-01, 4.6583e-01, 8.7125e-02]]],\n",
            "\n",
            "\n",
            "        ...,\n",
            "\n",
            "\n",
            "        [[[3.8683e-01, 6.0031e-01, 1.4383e-01],\n",
            "          [1.5195e-01, 6.4728e-01, 7.5743e-01],\n",
            "          [6.5084e-01, 5.1451e-01, 4.7272e-01],\n",
            "          ...,\n",
            "          [2.8079e-01, 5.3831e-01, 1.6520e-01],\n",
            "          [1.7135e-01, 1.1489e-02, 9.2433e-01],\n",
            "          [6.3903e-01, 8.2695e-02, 7.7631e-01]],\n",
            "\n",
            "         [[1.3270e-01, 1.7838e-01, 2.1709e-01],\n",
            "          [7.8438e-01, 4.1140e-01, 4.4695e-01],\n",
            "          [5.4913e-01, 3.2926e-01, 2.3800e-01],\n",
            "          ...,\n",
            "          [8.4995e-01, 4.3289e-01, 4.6634e-02],\n",
            "          [8.6002e-01, 4.3659e-01, 3.0819e-02],\n",
            "          [3.2550e-03, 1.5462e-01, 7.8818e-01]],\n",
            "\n",
            "         [[9.8269e-01, 4.2443e-01, 9.7003e-01],\n",
            "          [3.1353e-01, 9.3997e-01, 4.3170e-01],\n",
            "          [9.9993e-01, 5.0152e-01, 7.2141e-01],\n",
            "          ...,\n",
            "          [6.0826e-01, 3.7663e-01, 9.3019e-01],\n",
            "          [6.7623e-02, 7.8939e-01, 1.0724e-01],\n",
            "          [6.3022e-03, 1.1320e-01, 7.0056e-01]],\n",
            "\n",
            "         ...,\n",
            "\n",
            "         [[4.7031e-01, 4.6606e-01, 9.3080e-01],\n",
            "          [7.9705e-02, 3.4935e-02, 8.3119e-02],\n",
            "          [1.4476e-01, 8.2511e-01, 9.6276e-01],\n",
            "          ...,\n",
            "          [5.6496e-01, 5.1601e-01, 6.4644e-01],\n",
            "          [5.8197e-01, 7.6771e-01, 5.9379e-01],\n",
            "          [7.5916e-01, 4.0060e-01, 7.6959e-01]],\n",
            "\n",
            "         [[2.6898e-01, 9.2467e-01, 5.7887e-02],\n",
            "          [7.9720e-01, 3.5824e-01, 5.5347e-01],\n",
            "          [5.1324e-01, 6.7469e-01, 7.2312e-01],\n",
            "          ...,\n",
            "          [1.3687e-01, 1.6005e-01, 6.7978e-01],\n",
            "          [2.0622e-01, 8.7450e-01, 9.2448e-01],\n",
            "          [1.2805e-01, 2.7804e-01, 3.1918e-02]],\n",
            "\n",
            "         [[7.1085e-01, 2.1194e-01, 7.7628e-01],\n",
            "          [2.4214e-01, 6.1046e-01, 1.3556e-01],\n",
            "          [2.2053e-01, 5.0293e-01, 4.4549e-01],\n",
            "          ...,\n",
            "          [2.7168e-01, 3.2517e-01, 7.5861e-01],\n",
            "          [4.5942e-01, 6.9545e-01, 6.2834e-01],\n",
            "          [6.5751e-01, 3.3259e-01, 8.4872e-01]]],\n",
            "\n",
            "\n",
            "        [[[5.9836e-01, 1.2483e-01, 3.4762e-01],\n",
            "          [4.4084e-01, 6.6949e-03, 2.3062e-01],\n",
            "          [3.9134e-01, 1.2766e-01, 6.9060e-01],\n",
            "          ...,\n",
            "          [1.7031e-01, 4.3240e-01, 2.2821e-02],\n",
            "          [3.1414e-01, 8.6575e-01, 6.9486e-01],\n",
            "          [5.3482e-01, 5.5111e-01, 4.4228e-01]],\n",
            "\n",
            "         [[4.5714e-02, 5.7271e-01, 5.7336e-01],\n",
            "          [6.4633e-01, 5.5535e-01, 7.9119e-01],\n",
            "          [6.3220e-01, 8.1201e-01, 2.5774e-01],\n",
            "          ...,\n",
            "          [8.8435e-01, 7.8862e-01, 7.8101e-01],\n",
            "          [6.5997e-01, 2.4634e-01, 2.2238e-01],\n",
            "          [9.9635e-01, 7.3716e-01, 5.9464e-01]],\n",
            "\n",
            "         [[1.5142e-01, 3.4830e-01, 7.3133e-01],\n",
            "          [1.8506e-01, 8.6100e-02, 6.1888e-01],\n",
            "          [8.2105e-01, 7.9858e-02, 9.8971e-02],\n",
            "          ...,\n",
            "          [5.2216e-01, 7.8712e-01, 8.4444e-01],\n",
            "          [5.9229e-01, 9.4801e-01, 3.5355e-01],\n",
            "          [9.3001e-01, 4.3894e-01, 3.5031e-01]],\n",
            "\n",
            "         ...,\n",
            "\n",
            "         [[7.6860e-01, 9.3860e-01, 6.3822e-02],\n",
            "          [7.1135e-01, 2.1470e-01, 7.8901e-01],\n",
            "          [5.3335e-01, 3.3358e-02, 5.7229e-01],\n",
            "          ...,\n",
            "          [4.4743e-01, 5.6496e-01, 3.3564e-01],\n",
            "          [6.6079e-01, 3.1231e-01, 7.9074e-01],\n",
            "          [4.8732e-01, 8.4817e-02, 7.7315e-01]],\n",
            "\n",
            "         [[5.9568e-01, 1.3995e-01, 1.1229e-01],\n",
            "          [8.2783e-01, 1.4425e-01, 7.5546e-01],\n",
            "          [6.3578e-01, 3.1346e-01, 5.3564e-01],\n",
            "          ...,\n",
            "          [2.5445e-01, 4.8309e-01, 5.7035e-01],\n",
            "          [1.3550e-01, 8.5787e-01, 7.3248e-01],\n",
            "          [9.7956e-01, 4.0983e-01, 8.8858e-02]],\n",
            "\n",
            "         [[5.8316e-01, 8.7588e-01, 5.2392e-01],\n",
            "          [2.5669e-01, 2.6770e-01, 5.1111e-01],\n",
            "          [6.0702e-01, 6.4119e-01, 6.2079e-01],\n",
            "          ...,\n",
            "          [6.8894e-01, 5.3046e-01, 9.5438e-01],\n",
            "          [3.6607e-01, 1.0488e-01, 2.1509e-01],\n",
            "          [5.8659e-01, 7.9074e-01, 2.4449e-02]]],\n",
            "\n",
            "\n",
            "        [[[3.0019e-02, 1.5009e-01, 6.4686e-01],\n",
            "          [5.2975e-01, 8.0418e-01, 4.8154e-01],\n",
            "          [9.7951e-01, 5.7930e-01, 5.4879e-01],\n",
            "          ...,\n",
            "          [1.6179e-01, 9.9319e-01, 5.9460e-01],\n",
            "          [8.3294e-01, 2.5856e-01, 8.1901e-01],\n",
            "          [8.7417e-01, 9.5773e-01, 8.8391e-01]],\n",
            "\n",
            "         [[2.6967e-01, 6.5898e-01, 8.8210e-01],\n",
            "          [8.2112e-02, 9.5863e-01, 7.6877e-01],\n",
            "          [1.2527e-01, 7.9895e-01, 3.4282e-02],\n",
            "          ...,\n",
            "          [2.1243e-01, 8.0127e-02, 6.6090e-01],\n",
            "          [3.0647e-01, 9.1179e-01, 4.3087e-01],\n",
            "          [6.5585e-01, 4.6424e-01, 5.3641e-01]],\n",
            "\n",
            "         [[1.5611e-01, 1.4633e-01, 1.7630e-01],\n",
            "          [4.4891e-01, 3.3114e-01, 5.4655e-01],\n",
            "          [4.7765e-01, 9.7207e-01, 1.8262e-01],\n",
            "          ...,\n",
            "          [7.8661e-01, 8.4613e-01, 7.1218e-01],\n",
            "          [1.3027e-01, 1.2332e-01, 6.0857e-01],\n",
            "          [3.6104e-01, 5.1753e-01, 1.0795e-01]],\n",
            "\n",
            "         ...,\n",
            "\n",
            "         [[4.4367e-02, 2.8740e-01, 1.3431e-02],\n",
            "          [6.4734e-01, 9.9860e-02, 1.5420e-02],\n",
            "          [5.7518e-02, 2.4615e-01, 3.5490e-01],\n",
            "          ...,\n",
            "          [8.0242e-01, 7.4486e-01, 6.1677e-01],\n",
            "          [6.3355e-01, 7.6789e-01, 9.5921e-01],\n",
            "          [3.3882e-01, 8.9409e-01, 4.3585e-01]],\n",
            "\n",
            "         [[5.0974e-01, 7.9691e-01, 6.3344e-01],\n",
            "          [6.7676e-02, 1.2261e-01, 8.4402e-01],\n",
            "          [2.3679e-01, 6.6980e-01, 2.7520e-01],\n",
            "          ...,\n",
            "          [6.5209e-01, 8.4652e-01, 4.9724e-01],\n",
            "          [9.6429e-01, 7.7706e-01, 8.7004e-01],\n",
            "          [3.4328e-01, 3.4743e-01, 5.9694e-02]],\n",
            "\n",
            "         [[5.6697e-01, 6.5341e-01, 8.3399e-01],\n",
            "          [6.7920e-02, 3.9532e-01, 4.1123e-01],\n",
            "          [2.6253e-01, 4.5553e-01, 2.3320e-01],\n",
            "          ...,\n",
            "          [3.2821e-01, 3.5569e-01, 7.3118e-01],\n",
            "          [9.6896e-01, 5.6807e-01, 1.6025e-01],\n",
            "          [2.3577e-01, 8.2415e-04, 8.6664e-01]]]])\n",
            "----------------------------------------------\n",
            "tensor([[[[4.5841e-01, 1.6569e-01, 6.2982e-01,  ..., 2.8192e-01,\n",
            "           7.9071e-01, 2.5943e-01],\n",
            "          [3.6048e-02, 5.8008e-01, 4.8782e-01,  ..., 4.4143e-01,\n",
            "           5.0838e-01, 7.2018e-01],\n",
            "          [8.7772e-01, 6.1764e-01, 4.0031e-01,  ..., 7.5298e-01,\n",
            "           1.6252e-01, 6.6442e-01],\n",
            "          ...,\n",
            "          [5.3400e-02, 5.4886e-01, 4.9736e-01,  ..., 7.8901e-03,\n",
            "           2.3571e-01, 2.1796e-01],\n",
            "          [7.3076e-01, 1.2482e-01, 7.4576e-01,  ..., 4.7728e-01,\n",
            "           7.2625e-01, 9.4028e-03],\n",
            "          [6.4637e-02, 7.5522e-02, 4.4288e-01,  ..., 3.5331e-01,\n",
            "           7.5228e-01, 1.6968e-01]],\n",
            "\n",
            "         [[5.4336e-01, 9.6246e-01, 6.6633e-01,  ..., 8.1077e-01,\n",
            "           5.4127e-01, 9.2789e-01],\n",
            "          [2.9151e-01, 9.4303e-01, 8.5865e-01,  ..., 7.7294e-01,\n",
            "           5.0845e-01, 7.6370e-01],\n",
            "          [6.7926e-01, 6.8482e-01, 3.4535e-01,  ..., 5.5387e-01,\n",
            "           6.9894e-01, 5.4370e-01],\n",
            "          ...,\n",
            "          [2.0980e-01, 5.2170e-01, 7.2587e-01,  ..., 8.1785e-01,\n",
            "           6.9539e-01, 5.6998e-01],\n",
            "          [1.1978e-01, 8.3009e-01, 3.1039e-01,  ..., 2.9810e-02,\n",
            "           5.6320e-01, 6.0810e-01],\n",
            "          [3.7815e-01, 7.1708e-01, 3.6470e-01,  ..., 9.3092e-01,\n",
            "           7.8349e-01, 5.7346e-01]],\n",
            "\n",
            "         [[7.0780e-01, 1.8309e-01, 4.4143e-02,  ..., 6.8110e-01,\n",
            "           1.1267e-01, 3.8819e-01],\n",
            "          [8.0195e-01, 4.3155e-01, 8.5979e-01,  ..., 2.0353e-01,\n",
            "           6.2164e-01, 6.9035e-01],\n",
            "          [8.8493e-01, 8.3903e-02, 2.5176e-01,  ..., 8.0554e-01,\n",
            "           1.3749e-01, 4.6602e-02],\n",
            "          ...,\n",
            "          [8.6052e-01, 1.7648e-01, 4.6207e-01,  ..., 9.6138e-01,\n",
            "           3.0688e-01, 9.6681e-01],\n",
            "          [9.5676e-01, 2.1380e-01, 1.4861e-01,  ..., 4.6867e-01,\n",
            "           7.6280e-01, 6.1518e-03],\n",
            "          [1.3730e-01, 6.6647e-01, 3.0650e-02,  ..., 3.2285e-01,\n",
            "           1.9574e-01, 8.1214e-01]]],\n",
            "\n",
            "\n",
            "        [[[7.4689e-02, 8.1849e-01, 9.7215e-01,  ..., 7.6683e-01,\n",
            "           6.1051e-01, 4.1229e-01],\n",
            "          [1.8640e-01, 5.9411e-01, 5.6353e-01,  ..., 9.6279e-01,\n",
            "           9.9259e-01, 5.1310e-01],\n",
            "          [2.1177e-02, 1.6324e-02, 4.5629e-01,  ..., 8.7311e-03,\n",
            "           7.6130e-01, 4.8575e-01],\n",
            "          ...,\n",
            "          [4.9703e-01, 2.3470e-01, 9.1383e-01,  ..., 3.5919e-01,\n",
            "           2.6676e-01, 7.6025e-01],\n",
            "          [7.6047e-01, 2.8205e-01, 7.6119e-01,  ..., 8.0287e-01,\n",
            "           4.4517e-01, 6.3666e-01],\n",
            "          [2.5997e-01, 6.6309e-02, 9.0786e-01,  ..., 1.7405e-01,\n",
            "           3.8528e-03, 6.4723e-01]],\n",
            "\n",
            "         [[5.0423e-01, 8.5815e-01, 1.1990e-02,  ..., 3.5582e-01,\n",
            "           8.6502e-01, 4.0187e-01],\n",
            "          [7.9671e-01, 1.2716e-01, 5.5090e-01,  ..., 8.5359e-01,\n",
            "           7.9110e-01, 2.1786e-01],\n",
            "          [2.1817e-01, 4.6638e-01, 8.1689e-01,  ..., 5.0943e-01,\n",
            "           9.1474e-01, 9.8620e-01],\n",
            "          ...,\n",
            "          [5.9411e-01, 1.3822e-01, 2.3202e-01,  ..., 7.5910e-01,\n",
            "           2.6636e-01, 4.7229e-01],\n",
            "          [8.6007e-01, 5.5192e-01, 3.2776e-01,  ..., 3.1039e-01,\n",
            "           4.4033e-02, 1.7998e-01],\n",
            "          [6.5842e-01, 5.9202e-01, 2.7944e-02,  ..., 3.4930e-01,\n",
            "           5.1928e-01, 2.5441e-01]],\n",
            "\n",
            "         [[4.4216e-01, 2.4981e-01, 8.3134e-01,  ..., 6.4638e-01,\n",
            "           1.2472e-01, 2.4667e-01],\n",
            "          [5.3769e-01, 4.5304e-01, 4.2222e-01,  ..., 5.9936e-01,\n",
            "           8.8372e-01, 3.5717e-01],\n",
            "          [4.2282e-01, 9.1093e-01, 5.1830e-01,  ..., 8.1229e-01,\n",
            "           8.9357e-01, 1.2731e-01],\n",
            "          ...,\n",
            "          [4.3579e-01, 3.7107e-01, 3.3947e-01,  ..., 2.8674e-01,\n",
            "           1.0483e-01, 3.4372e-01],\n",
            "          [8.6054e-01, 6.1403e-01, 2.4748e-01,  ..., 7.0098e-01,\n",
            "           6.1279e-01, 7.4101e-01],\n",
            "          [5.4654e-02, 4.5345e-01, 2.2385e-01,  ..., 4.6710e-02,\n",
            "           9.6737e-01, 9.9835e-01]]],\n",
            "\n",
            "\n",
            "        [[[2.8629e-01, 2.4230e-01, 6.3058e-01,  ..., 1.4423e-01,\n",
            "           1.0836e-02, 9.1329e-01],\n",
            "          [3.2178e-01, 5.6930e-01, 7.2282e-01,  ..., 3.7392e-01,\n",
            "           4.6490e-01, 5.3225e-01],\n",
            "          [4.1638e-01, 5.8964e-01, 1.3395e-01,  ..., 7.9957e-01,\n",
            "           1.6217e-01, 2.8596e-01],\n",
            "          ...,\n",
            "          [5.5158e-01, 3.6094e-01, 8.0890e-01,  ..., 2.0961e-01,\n",
            "           9.1303e-01, 9.6991e-01],\n",
            "          [4.2325e-02, 5.5819e-01, 6.3482e-01,  ..., 1.0535e-01,\n",
            "           6.8139e-01, 7.4251e-01],\n",
            "          [5.1527e-01, 6.9204e-01, 5.1538e-01,  ..., 1.8888e-01,\n",
            "           6.3194e-02, 1.4682e-01]],\n",
            "\n",
            "         [[5.8893e-01, 4.7848e-03, 7.6056e-01,  ..., 9.3652e-02,\n",
            "           3.9422e-01, 9.8764e-01],\n",
            "          [3.6559e-01, 1.2060e-01, 1.2421e-01,  ..., 3.9523e-01,\n",
            "           4.4472e-01, 2.4468e-02],\n",
            "          [4.1302e-01, 5.2242e-01, 8.6022e-01,  ..., 6.7814e-01,\n",
            "           5.7305e-02, 4.7121e-02],\n",
            "          ...,\n",
            "          [8.4015e-01, 3.5543e-02, 5.6177e-01,  ..., 4.4371e-01,\n",
            "           3.1118e-01, 9.2958e-01],\n",
            "          [6.5096e-01, 1.7881e-01, 8.9428e-01,  ..., 3.5993e-01,\n",
            "           6.3358e-01, 6.9770e-01],\n",
            "          [1.7751e-01, 8.6121e-01, 2.3677e-01,  ..., 5.8626e-01,\n",
            "           3.7770e-01, 4.6583e-01]],\n",
            "\n",
            "         [[1.4001e-03, 5.8340e-01, 8.9745e-01,  ..., 5.1931e-01,\n",
            "           8.0384e-01, 7.0496e-01],\n",
            "          [4.0032e-01, 8.8899e-01, 4.7488e-01,  ..., 4.4118e-01,\n",
            "           9.6710e-01, 2.4812e-01],\n",
            "          [8.2999e-01, 6.4407e-02, 8.4740e-01,  ..., 5.3748e-01,\n",
            "           2.4856e-01, 1.2341e-01],\n",
            "          ...,\n",
            "          [2.2124e-01, 2.1791e-02, 5.4292e-01,  ..., 2.3748e-01,\n",
            "           2.2807e-01, 4.2838e-02],\n",
            "          [5.0269e-01, 6.5331e-01, 7.5587e-01,  ..., 5.5888e-01,\n",
            "           7.1528e-01, 7.7459e-01],\n",
            "          [8.1222e-01, 6.7492e-01, 5.3578e-01,  ..., 7.4913e-01,\n",
            "           4.1596e-01, 8.7125e-02]]],\n",
            "\n",
            "\n",
            "        ...,\n",
            "\n",
            "\n",
            "        [[[3.8683e-01, 1.5195e-01, 6.5084e-01,  ..., 2.8079e-01,\n",
            "           1.7135e-01, 6.3903e-01],\n",
            "          [1.3270e-01, 7.8438e-01, 5.4913e-01,  ..., 8.4995e-01,\n",
            "           8.6002e-01, 3.2550e-03],\n",
            "          [9.8269e-01, 3.1353e-01, 9.9993e-01,  ..., 6.0826e-01,\n",
            "           6.7623e-02, 6.3022e-03],\n",
            "          ...,\n",
            "          [4.7031e-01, 7.9705e-02, 1.4476e-01,  ..., 5.6496e-01,\n",
            "           5.8197e-01, 7.5916e-01],\n",
            "          [2.6898e-01, 7.9720e-01, 5.1324e-01,  ..., 1.3687e-01,\n",
            "           2.0622e-01, 1.2805e-01],\n",
            "          [7.1085e-01, 2.4214e-01, 2.2053e-01,  ..., 2.7168e-01,\n",
            "           4.5942e-01, 6.5751e-01]],\n",
            "\n",
            "         [[6.0031e-01, 6.4728e-01, 5.1451e-01,  ..., 5.3831e-01,\n",
            "           1.1489e-02, 8.2695e-02],\n",
            "          [1.7838e-01, 4.1140e-01, 3.2926e-01,  ..., 4.3289e-01,\n",
            "           4.3659e-01, 1.5462e-01],\n",
            "          [4.2443e-01, 9.3997e-01, 5.0152e-01,  ..., 3.7663e-01,\n",
            "           7.8939e-01, 1.1320e-01],\n",
            "          ...,\n",
            "          [4.6606e-01, 3.4935e-02, 8.2511e-01,  ..., 5.1601e-01,\n",
            "           7.6771e-01, 4.0060e-01],\n",
            "          [9.2467e-01, 3.5824e-01, 6.7469e-01,  ..., 1.6005e-01,\n",
            "           8.7450e-01, 2.7804e-01],\n",
            "          [2.1194e-01, 6.1046e-01, 5.0293e-01,  ..., 3.2517e-01,\n",
            "           6.9545e-01, 3.3259e-01]],\n",
            "\n",
            "         [[1.4383e-01, 7.5743e-01, 4.7272e-01,  ..., 1.6520e-01,\n",
            "           9.2433e-01, 7.7631e-01],\n",
            "          [2.1709e-01, 4.4695e-01, 2.3800e-01,  ..., 4.6634e-02,\n",
            "           3.0819e-02, 7.8818e-01],\n",
            "          [9.7003e-01, 4.3170e-01, 7.2141e-01,  ..., 9.3019e-01,\n",
            "           1.0724e-01, 7.0056e-01],\n",
            "          ...,\n",
            "          [9.3080e-01, 8.3119e-02, 9.6276e-01,  ..., 6.4644e-01,\n",
            "           5.9379e-01, 7.6959e-01],\n",
            "          [5.7887e-02, 5.5347e-01, 7.2312e-01,  ..., 6.7978e-01,\n",
            "           9.2448e-01, 3.1918e-02],\n",
            "          [7.7628e-01, 1.3556e-01, 4.4549e-01,  ..., 7.5861e-01,\n",
            "           6.2834e-01, 8.4872e-01]]],\n",
            "\n",
            "\n",
            "        [[[5.9836e-01, 4.4084e-01, 3.9134e-01,  ..., 1.7031e-01,\n",
            "           3.1414e-01, 5.3482e-01],\n",
            "          [4.5714e-02, 6.4633e-01, 6.3220e-01,  ..., 8.8435e-01,\n",
            "           6.5997e-01, 9.9635e-01],\n",
            "          [1.5142e-01, 1.8506e-01, 8.2105e-01,  ..., 5.2216e-01,\n",
            "           5.9229e-01, 9.3001e-01],\n",
            "          ...,\n",
            "          [7.6860e-01, 7.1135e-01, 5.3335e-01,  ..., 4.4743e-01,\n",
            "           6.6079e-01, 4.8732e-01],\n",
            "          [5.9568e-01, 8.2783e-01, 6.3578e-01,  ..., 2.5445e-01,\n",
            "           1.3550e-01, 9.7956e-01],\n",
            "          [5.8316e-01, 2.5669e-01, 6.0702e-01,  ..., 6.8894e-01,\n",
            "           3.6607e-01, 5.8659e-01]],\n",
            "\n",
            "         [[1.2483e-01, 6.6949e-03, 1.2766e-01,  ..., 4.3240e-01,\n",
            "           8.6575e-01, 5.5111e-01],\n",
            "          [5.7271e-01, 5.5535e-01, 8.1201e-01,  ..., 7.8862e-01,\n",
            "           2.4634e-01, 7.3716e-01],\n",
            "          [3.4830e-01, 8.6100e-02, 7.9858e-02,  ..., 7.8712e-01,\n",
            "           9.4801e-01, 4.3894e-01],\n",
            "          ...,\n",
            "          [9.3860e-01, 2.1470e-01, 3.3358e-02,  ..., 5.6496e-01,\n",
            "           3.1231e-01, 8.4817e-02],\n",
            "          [1.3995e-01, 1.4425e-01, 3.1346e-01,  ..., 4.8309e-01,\n",
            "           8.5787e-01, 4.0983e-01],\n",
            "          [8.7588e-01, 2.6770e-01, 6.4119e-01,  ..., 5.3046e-01,\n",
            "           1.0488e-01, 7.9074e-01]],\n",
            "\n",
            "         [[3.4762e-01, 2.3062e-01, 6.9060e-01,  ..., 2.2821e-02,\n",
            "           6.9486e-01, 4.4228e-01],\n",
            "          [5.7336e-01, 7.9119e-01, 2.5774e-01,  ..., 7.8101e-01,\n",
            "           2.2238e-01, 5.9464e-01],\n",
            "          [7.3133e-01, 6.1888e-01, 9.8971e-02,  ..., 8.4444e-01,\n",
            "           3.5355e-01, 3.5031e-01],\n",
            "          ...,\n",
            "          [6.3822e-02, 7.8901e-01, 5.7229e-01,  ..., 3.3564e-01,\n",
            "           7.9074e-01, 7.7315e-01],\n",
            "          [1.1229e-01, 7.5546e-01, 5.3564e-01,  ..., 5.7035e-01,\n",
            "           7.3248e-01, 8.8858e-02],\n",
            "          [5.2392e-01, 5.1111e-01, 6.2079e-01,  ..., 9.5438e-01,\n",
            "           2.1509e-01, 2.4449e-02]]],\n",
            "\n",
            "\n",
            "        [[[3.0019e-02, 5.2975e-01, 9.7951e-01,  ..., 1.6179e-01,\n",
            "           8.3294e-01, 8.7417e-01],\n",
            "          [2.6967e-01, 8.2112e-02, 1.2527e-01,  ..., 2.1243e-01,\n",
            "           3.0647e-01, 6.5585e-01],\n",
            "          [1.5611e-01, 4.4891e-01, 4.7765e-01,  ..., 7.8661e-01,\n",
            "           1.3027e-01, 3.6104e-01],\n",
            "          ...,\n",
            "          [4.4367e-02, 6.4734e-01, 5.7518e-02,  ..., 8.0242e-01,\n",
            "           6.3355e-01, 3.3882e-01],\n",
            "          [5.0974e-01, 6.7676e-02, 2.3679e-01,  ..., 6.5209e-01,\n",
            "           9.6429e-01, 3.4328e-01],\n",
            "          [5.6697e-01, 6.7920e-02, 2.6253e-01,  ..., 3.2821e-01,\n",
            "           9.6896e-01, 2.3577e-01]],\n",
            "\n",
            "         [[1.5009e-01, 8.0418e-01, 5.7930e-01,  ..., 9.9319e-01,\n",
            "           2.5856e-01, 9.5773e-01],\n",
            "          [6.5898e-01, 9.5863e-01, 7.9895e-01,  ..., 8.0127e-02,\n",
            "           9.1179e-01, 4.6424e-01],\n",
            "          [1.4633e-01, 3.3114e-01, 9.7207e-01,  ..., 8.4613e-01,\n",
            "           1.2332e-01, 5.1753e-01],\n",
            "          ...,\n",
            "          [2.8740e-01, 9.9860e-02, 2.4615e-01,  ..., 7.4486e-01,\n",
            "           7.6789e-01, 8.9409e-01],\n",
            "          [7.9691e-01, 1.2261e-01, 6.6980e-01,  ..., 8.4652e-01,\n",
            "           7.7706e-01, 3.4743e-01],\n",
            "          [6.5341e-01, 3.9532e-01, 4.5553e-01,  ..., 3.5569e-01,\n",
            "           5.6807e-01, 8.2415e-04]],\n",
            "\n",
            "         [[6.4686e-01, 4.8154e-01, 5.4879e-01,  ..., 5.9460e-01,\n",
            "           8.1901e-01, 8.8391e-01],\n",
            "          [8.8210e-01, 7.6877e-01, 3.4282e-02,  ..., 6.6090e-01,\n",
            "           4.3087e-01, 5.3641e-01],\n",
            "          [1.7630e-01, 5.4655e-01, 1.8262e-01,  ..., 7.1218e-01,\n",
            "           6.0857e-01, 1.0795e-01],\n",
            "          ...,\n",
            "          [1.3431e-02, 1.5420e-02, 3.5490e-01,  ..., 6.1677e-01,\n",
            "           9.5921e-01, 4.3585e-01],\n",
            "          [6.3344e-01, 8.4402e-01, 2.7520e-01,  ..., 4.9724e-01,\n",
            "           8.7004e-01, 5.9694e-02],\n",
            "          [8.3399e-01, 4.1123e-01, 2.3320e-01,  ..., 7.3118e-01,\n",
            "           1.6025e-01, 8.6664e-01]]]])\n"
          ]
        }
      ]
    },
    {
      "cell_type": "code",
      "source": [
        "m = torch.randn(100, 10)\n",
        "v = torch.randn(10)\n",
        "print('m = ', m)\n",
        "print('v = ', v)"
      ],
      "metadata": {
        "id": "2oLMIE6uFbfR",
        "colab": {
          "base_uri": "https://localhost:8080/"
        },
        "outputId": "0e0d6c98-fdf7-4976-a996-6279bac136c3"
      },
      "execution_count": 69,
      "outputs": [
        {
          "output_type": "stream",
          "name": "stdout",
          "text": [
            "m =  tensor([[ 2.4393e-01, -2.2840e-01,  8.4966e-01, -1.6049e+00, -7.4728e-01,\n",
            "         -3.2176e-01, -7.1624e-02, -2.1428e+00, -4.3624e-01,  1.0376e+00],\n",
            "        [ 3.5811e-03, -2.6071e+00, -8.0200e-01, -1.0605e-01, -8.1061e-01,\n",
            "          1.2533e-01,  6.5406e-01, -2.0924e+00,  4.9468e-01, -8.7839e-01],\n",
            "        [ 4.6076e-01, -1.9317e+00,  1.7870e-01,  3.0641e-01, -6.5314e-01,\n",
            "         -1.7130e-01, -1.3050e-01,  4.5769e-01,  1.0644e+00, -1.9430e+00],\n",
            "        [ 1.0661e+00,  1.3346e+00,  1.6649e-01,  5.0962e-01,  5.6153e-02,\n",
            "          1.8223e+00,  3.4782e-01, -9.2432e-01, -1.4094e+00,  6.3837e-01],\n",
            "        [-3.1816e-02, -2.1854e+00,  3.0231e-01, -1.3174e-02,  4.9220e-01,\n",
            "         -6.6083e-01, -1.1656e+00, -1.8200e+00,  1.2969e+00, -3.0407e-01],\n",
            "        [ 3.8018e-01,  1.7108e+00, -6.5843e-01,  2.6473e+00, -6.5501e-01,\n",
            "          7.9631e-02, -1.0449e+00, -3.4581e-01,  1.6152e+00,  1.2380e+00],\n",
            "        [-1.2376e-01, -7.4597e-01,  5.9512e-01, -1.2890e+00, -7.6353e-01,\n",
            "          1.6315e-02,  1.0112e+00,  1.6080e+00,  7.4900e-01,  5.8016e-01],\n",
            "        [-4.8377e-01,  1.1175e+00,  8.6779e-01, -9.8727e-01, -1.9552e-01,\n",
            "          2.7181e-01,  9.8215e-01, -1.0900e-01, -8.0333e-01, -9.4002e-01],\n",
            "        [-1.5980e+00,  2.9736e-01, -1.1924e+00,  4.7301e-02, -1.0213e+00,\n",
            "         -3.5771e-01,  4.6968e-01, -2.3315e-01,  1.2776e+00,  8.6967e-01],\n",
            "        [-2.9706e-01, -4.2360e-01, -8.8363e-01,  1.5921e+00, -3.0268e-03,\n",
            "         -4.0438e-01, -5.6923e-01,  8.2821e-02,  4.2628e-01,  1.7102e-01],\n",
            "        [-3.7934e-01, -9.1833e-01,  3.1999e-01,  1.4529e+00, -8.6951e-02,\n",
            "         -5.5393e-01, -7.2713e-01, -2.4651e-02, -3.1921e-01,  3.9474e-02],\n",
            "        [-9.1672e-01,  1.7735e-01, -2.0021e+00, -2.0146e-01,  6.0191e-01,\n",
            "         -5.7403e-01,  1.3585e+00, -4.6684e-01, -1.1950e+00, -8.4263e-01],\n",
            "        [-1.0278e-01, -9.7908e-01, -6.1885e-01, -3.7652e-02, -2.1847e+00,\n",
            "         -2.3710e-01,  6.6577e-01, -1.0426e+00,  3.7984e-01,  1.1966e+00],\n",
            "        [-9.4789e-01, -3.4829e-01,  4.6818e-01,  3.5468e-01, -1.5505e+00,\n",
            "          9.4515e-01,  1.8919e+00,  5.1814e-01,  7.7002e-01, -4.6349e-01],\n",
            "        [ 1.0377e+00, -1.5584e+00,  1.1252e+00,  1.3417e+00,  4.7464e-01,\n",
            "          5.3879e-01,  2.0753e+00,  7.0712e-01, -1.6089e-01, -8.4697e-01],\n",
            "        [-8.5698e-01, -5.8532e-01, -1.1397e+00, -1.1840e+00,  4.9206e-01,\n",
            "         -2.6107e+00, -2.5202e+00,  6.0858e-01, -9.2530e-01,  5.1596e-01],\n",
            "        [-7.8126e-01,  2.0380e+00, -8.9424e-01,  1.7301e+00, -9.1737e-01,\n",
            "          6.1151e-01,  2.6115e+00, -1.5379e+00,  6.2047e-01, -4.8869e-01],\n",
            "        [-7.5849e-01,  8.9954e-01,  2.2861e+00, -1.8315e+00,  2.3402e-02,\n",
            "          2.1186e+00, -2.3793e+00,  3.5047e-01,  5.0442e-02,  9.5449e-01],\n",
            "        [-5.3846e-01, -1.5739e+00,  9.8284e-01,  2.1764e-01, -1.0746e+00,\n",
            "         -6.0633e-01,  9.3129e-01,  1.1841e-01,  2.8460e-01,  5.3150e-01],\n",
            "        [-5.2252e-02, -1.0085e+00,  3.3979e-02, -2.2299e+00,  4.6224e-01,\n",
            "          1.1301e-01, -7.3269e-01, -1.9132e+00, -1.8350e+00, -3.2025e-01],\n",
            "        [-1.1328e+00,  1.2603e+00, -2.0477e+00, -3.2262e-02,  3.2911e-01,\n",
            "          8.2335e-01,  4.0152e-01,  3.8436e-01, -5.2212e-01,  5.1101e-01],\n",
            "        [ 1.6830e+00, -6.0690e-02,  5.7830e-01,  3.3456e-01,  4.8993e-01,\n",
            "          9.5538e-01, -1.2466e+00,  1.1100e-01,  1.4630e+00, -1.6089e+00],\n",
            "        [ 5.2272e-01, -1.6096e+00,  1.6804e+00, -5.9546e-01,  1.2310e+00,\n",
            "          6.3624e-01, -1.6000e-01, -6.0485e-01, -9.8462e-02,  1.3591e+00],\n",
            "        [ 5.1862e-01, -1.9037e+00,  3.3084e-01, -5.9594e-01,  6.7783e-01,\n",
            "          8.2335e-01,  1.1880e-01, -7.6986e-01, -1.7636e-01,  1.0879e-01],\n",
            "        [ 8.9923e-02,  3.0508e-01,  3.3180e-01, -7.8650e-01, -1.5785e-01,\n",
            "         -1.3524e+00,  1.3194e+00,  8.1955e-01,  3.9855e-01,  7.3166e-01],\n",
            "        [-1.9885e-01,  8.3241e-01, -2.5098e-01, -7.7390e-01, -1.1276e+00,\n",
            "          8.2023e-02, -8.3522e-01, -1.4049e+00, -1.2192e+00,  1.1403e+00],\n",
            "        [-5.3094e-01,  1.5110e+00, -1.0338e+00, -1.2737e+00,  1.6212e-01,\n",
            "         -2.7328e-01, -1.1739e+00, -2.2141e-01, -3.8477e-01,  1.4734e-01],\n",
            "        [-1.4341e-01,  1.5386e+00, -4.3763e-01,  7.4742e-01,  3.2311e-01,\n",
            "         -4.5327e-01, -1.0714e+00,  6.4022e-01, -5.5254e-01,  6.1802e-01],\n",
            "        [ 8.1931e-01, -7.5242e-02, -1.5589e+00,  1.2159e-01,  9.7361e-01,\n",
            "          3.5745e-01, -8.7838e-01,  8.1191e-01, -1.5765e-01,  9.9740e-01],\n",
            "        [-4.1666e-01, -6.4415e-01,  6.1865e-01,  3.3824e-01, -6.9247e-01,\n",
            "         -7.7071e-01,  1.4799e-01,  5.3183e-01,  8.7277e-01, -1.5631e-01],\n",
            "        [-4.7813e-01,  7.4788e-01,  4.4420e-01,  4.6064e-01,  7.7636e-01,\n",
            "          5.5661e-01, -4.1480e-01, -1.1051e+00, -2.1586e+00, -1.4775e+00],\n",
            "        [-3.5807e-01,  1.3621e-01, -1.6212e+00, -1.8789e+00, -1.8878e+00,\n",
            "          1.1933e+00, -9.7219e-01,  5.3470e-01, -9.3075e-01,  3.9849e-02],\n",
            "        [-1.2090e-01, -1.5890e-01, -1.9617e+00,  1.1041e+00,  6.3476e-01,\n",
            "          6.9613e-01, -8.9980e-02, -2.3738e-01,  1.6737e+00, -2.1291e-01],\n",
            "        [ 7.0012e-01,  8.0161e-01, -3.2561e-01,  3.7811e-01, -1.2433e+00,\n",
            "         -2.7761e+00, -2.2470e-01,  8.5507e-01, -2.5952e-01,  1.9862e-01],\n",
            "        [-1.1312e+00, -2.0655e+00, -2.0372e-01,  3.9896e-01, -6.9470e-02,\n",
            "         -9.3959e-01,  7.6800e-01, -1.0383e+00,  1.0680e+00,  3.0035e+00],\n",
            "        [-3.6612e-01, -5.5429e-01, -3.4035e-01, -2.3528e-01, -8.3664e-02,\n",
            "         -1.5400e+00,  2.8680e+00,  1.0168e+00,  9.3195e-02,  1.6435e+00],\n",
            "        [ 1.2947e+00, -2.0423e-01, -4.0443e-01, -1.1154e+00, -7.4464e-01,\n",
            "         -1.8076e+00,  2.3905e+00,  2.1906e-01,  7.5664e-01,  1.7450e+00],\n",
            "        [ 1.2953e+00,  1.9101e-01,  3.2242e-01,  1.8111e+00, -5.2124e-01,\n",
            "         -2.4185e-01,  2.0414e-01, -6.9935e-01,  1.9360e-01,  9.7349e-01],\n",
            "        [-1.2037e-01,  3.1892e-01,  1.1952e+00, -1.1881e-01,  4.9130e-01,\n",
            "          2.0895e+00, -3.4059e-01,  1.3430e+00,  1.8184e+00, -3.5744e-02],\n",
            "        [ 1.3282e+00,  1.0698e+00, -1.2038e+00,  3.8548e-01, -1.6748e+00,\n",
            "         -1.8806e+00, -7.4399e-01,  8.8462e-01, -9.9975e-01, -3.5991e-02],\n",
            "        [ 8.8986e-01,  1.4852e+00, -7.0596e-01,  8.9972e-01,  5.6660e-03,\n",
            "          3.7917e-01, -2.1217e-01,  3.2371e-02,  1.0853e-01, -9.0193e-02],\n",
            "        [ 1.2070e-01, -5.8203e-01,  2.4137e+00,  1.1223e+00,  3.8248e-01,\n",
            "          1.4294e+00, -1.5271e-01,  1.8036e-02, -7.8701e-01, -4.5749e-01],\n",
            "        [ 5.8154e-01,  4.9760e-01,  8.0188e-01, -1.2350e+00,  6.8473e-01,\n",
            "          7.5335e-01, -4.7178e-01,  9.9185e-02,  8.0187e-01,  4.6967e-02],\n",
            "        [-8.2711e-01, -2.2406e-01, -3.5724e-01,  1.5926e+00, -5.5016e-01,\n",
            "          2.9592e-01, -1.6544e+00, -1.1838e+00, -4.6119e-01,  1.7319e+00],\n",
            "        [ 2.1454e-01,  1.2637e+00,  1.0959e+00,  1.0641e+00,  2.1764e-01,\n",
            "         -2.7260e+00,  7.6446e-01,  2.0340e+00,  6.7103e-01,  3.5530e-01],\n",
            "        [ 5.9535e-01,  7.1394e-01,  1.3440e+00, -1.0762e+00, -1.2222e-01,\n",
            "         -1.0534e+00,  5.5886e-01,  1.0273e+00, -1.5405e+00, -6.8142e-01],\n",
            "        [-3.5159e-01,  2.4848e+00,  2.2512e-01, -1.8542e-01, -2.3770e-01,\n",
            "         -9.6484e-01, -1.3913e-01,  2.1648e+00, -7.8143e-01,  1.3457e-02],\n",
            "        [-5.5929e-01,  9.4218e-01, -9.0272e-01,  1.2662e+00, -9.5472e-01,\n",
            "          1.9443e-01, -1.7267e+00, -1.9054e+00, -7.7995e-01,  1.2283e+00],\n",
            "        [-1.1133e+00, -2.4657e-01,  1.9681e-01,  9.2110e-01,  6.8875e-01,\n",
            "          1.1502e+00,  1.6811e+00,  7.8992e-01, -2.2929e-02, -6.7950e-01],\n",
            "        [ 1.4385e+00, -9.2164e-01, -7.9065e-01, -3.5649e-01, -6.9467e-02,\n",
            "         -1.5706e-01, -1.3064e+00, -1.1181e+00, -9.1597e-01,  1.0288e+00],\n",
            "        [-8.4027e-01,  7.9737e-01,  1.5529e-01,  2.2241e+00, -1.1058e+00,\n",
            "         -4.4865e-01,  1.6674e+00,  4.3174e-01, -3.6696e-01, -1.4858e-01],\n",
            "        [-2.0929e-01,  2.8125e-01,  8.0505e-01, -5.5857e-01, -5.7887e-01,\n",
            "         -2.8222e-01, -7.8349e-01,  2.0235e+00, -1.1173e+00, -6.6099e-01],\n",
            "        [-1.1876e+00, -2.1204e-01,  9.9912e-01,  2.2771e+00,  5.0312e-01,\n",
            "         -4.5400e-01, -2.3274e-01,  8.1148e-01, -1.0094e+00,  8.0246e-02],\n",
            "        [ 1.1255e-01,  4.2552e-01,  2.8485e+00, -2.0529e+00, -6.2650e-01,\n",
            "         -1.2324e+00, -5.7978e-01, -1.2213e+00,  1.1281e+00,  4.9012e-01],\n",
            "        [-1.7311e+00, -6.4112e-02,  3.0691e-01, -1.2067e+00,  7.1350e-02,\n",
            "         -1.2206e+00,  5.7005e-01, -1.2493e+00, -5.3902e-01, -4.9252e-01],\n",
            "        [-9.7860e-02, -8.3087e-01, -3.7010e-01, -1.1034e+00, -7.8754e-01,\n",
            "          1.5231e+00, -1.1874e+00, -1.7034e+00, -2.1951e-01, -1.9426e-01],\n",
            "        [-6.1552e-01, -2.4456e+00, -6.5303e-01, -5.9509e-01,  1.7288e+00,\n",
            "         -1.0228e-01, -9.3205e-01, -5.2812e-01,  2.1907e+00, -9.8129e-01],\n",
            "        [-1.0477e+00, -5.2583e-01,  1.3945e+00,  1.3633e-01, -7.0595e-01,\n",
            "          1.5205e+00,  2.7769e-02, -4.9135e-01, -6.1394e-04, -1.9284e+00],\n",
            "        [ 4.0319e-01, -5.2311e-01,  1.0846e+00, -1.3155e-01,  1.3262e-01,\n",
            "          5.5041e-01,  5.2776e-01,  8.4426e-01, -8.4646e-01, -4.3002e-01],\n",
            "        [ 8.1509e-01, -1.4087e+00, -2.6509e-01,  1.2654e+00,  1.6505e+00,\n",
            "          5.4485e-01, -1.0570e+00,  1.0397e+00, -1.0746e+00, -3.4802e-01],\n",
            "        [-1.9356e+00,  7.8428e-01,  4.0878e-01, -9.4823e-01,  1.2418e-03,\n",
            "         -1.8915e+00, -7.0094e-02, -2.8241e-01,  8.2129e-01,  1.0039e+00],\n",
            "        [-1.0116e+00, -1.2510e+00, -2.6701e-01, -1.2262e+00, -7.9743e-01,\n",
            "          6.1261e-01, -1.1832e+00,  9.9067e-01,  1.7197e+00,  2.0596e+00],\n",
            "        [ 2.7872e-01,  1.2384e+00, -4.0036e-01, -5.0011e-01, -1.7245e+00,\n",
            "          1.3641e+00,  5.1542e-01, -3.0726e-01, -2.3527e+00,  6.8736e-01],\n",
            "        [-1.4525e+00, -2.0199e-01,  5.4807e-01, -6.8346e-02, -1.2727e+00,\n",
            "          7.4647e-01, -1.0296e+00,  3.1661e+00, -1.1734e+00,  1.2212e-01],\n",
            "        [-3.9510e-01,  2.3346e-01, -5.0965e-01,  2.3437e+00, -1.5185e+00,\n",
            "         -1.2228e+00,  6.8040e-01, -1.5440e+00, -5.9918e-01,  1.5510e+00],\n",
            "        [-1.5812e+00,  5.0759e-01,  6.6550e-01,  1.6687e+00,  1.9850e+00,\n",
            "          8.4882e-01, -1.7859e+00,  3.2327e-01, -1.5041e+00,  7.5845e-01],\n",
            "        [ 1.2714e+00, -5.4098e-01,  1.5491e+00,  5.9411e-02,  5.2158e-02,\n",
            "         -4.0557e-01,  7.3431e-02,  6.0429e-01,  8.1901e-01, -5.1912e-01],\n",
            "        [-1.0687e+00, -2.1565e-01, -5.7765e-01,  1.6504e+00,  2.3355e-01,\n",
            "          7.4523e-01,  1.6037e-01, -9.8761e-01, -3.1266e+00, -3.7598e-01],\n",
            "        [-1.3007e+00, -1.3870e+00,  2.4247e+00, -8.9662e-01, -1.2888e+00,\n",
            "          3.7573e-01,  1.9616e+00,  1.5181e+00, -3.8927e-01, -1.1793e+00],\n",
            "        [-1.1051e+00,  1.4131e-01, -1.1699e+00,  8.3131e-01, -6.5605e-01,\n",
            "         -5.7785e-01, -8.2835e-01, -1.8113e+00,  1.7685e+00,  6.3532e-01],\n",
            "        [ 1.9502e+00,  6.7471e-01, -2.2325e+00,  1.7658e+00, -1.0590e+00,\n",
            "         -8.3540e-01,  5.5807e-01, -2.9786e-01,  1.0583e+00,  2.1754e+00],\n",
            "        [-9.8642e-01,  6.0766e-01, -4.7032e-01, -1.9120e+00,  9.7972e-01,\n",
            "          2.2443e-01, -1.1803e+00,  5.9431e-01,  3.9366e-01, -5.7403e-01],\n",
            "        [-7.6797e-01, -1.3146e-01,  2.3095e+00, -8.3535e-01, -4.7927e-01,\n",
            "          3.1361e-01, -1.1733e+00,  4.7494e-02, -4.6039e-01,  1.4565e+00],\n",
            "        [ 5.0934e-01,  7.1116e-01,  9.1835e-01,  1.4187e+00,  1.0778e+00,\n",
            "         -5.6976e-01, -9.1194e-01,  5.1253e-01,  9.6397e-01,  8.1878e-01],\n",
            "        [ 6.6310e-01, -6.7212e-01,  2.0304e+00,  2.3329e-01, -1.4712e+00,\n",
            "         -2.3629e-01,  2.6927e+00, -8.3054e-01,  1.7389e+00,  4.2838e-01],\n",
            "        [ 5.7443e-01, -7.9675e-01,  1.3153e+00,  4.7844e-01, -1.1237e+00,\n",
            "          1.2985e+00, -1.3358e+00, -2.2882e-01,  3.8967e-01, -9.5246e-02],\n",
            "        [-4.0892e-01,  1.0816e+00, -7.7906e-01, -7.9760e-01,  1.9824e-01,\n",
            "         -3.0605e-01, -7.8987e-01,  6.1649e-01,  1.1074e+00,  6.4022e-01],\n",
            "        [-1.8612e+00, -1.6403e-01, -2.6871e-01,  3.5805e-02,  1.0894e+00,\n",
            "         -2.7629e-01, -4.7697e-01, -9.7599e-01,  3.3859e+00,  7.8190e-01],\n",
            "        [-1.9949e+00, -1.0449e+00, -8.2071e-01,  4.6351e-01,  7.9723e-01,\n",
            "          1.0403e-01,  9.5830e-01, -6.9598e-01, -4.6254e-01, -9.2114e-01],\n",
            "        [-5.1717e-01,  2.7190e-01, -6.1213e-02,  1.2743e-01, -7.1976e-01,\n",
            "         -7.9082e-01, -1.4654e+00,  4.2570e-01, -2.7412e-01,  1.2099e+00],\n",
            "        [-9.6299e-01,  1.0893e+00,  9.2716e-01, -7.6268e-01,  6.3871e-01,\n",
            "          1.5379e+00,  1.9105e-01, -6.6072e-01,  9.0905e-03,  9.5103e-02],\n",
            "        [-5.9978e-01,  7.1270e-01, -1.5925e+00,  6.9266e-01, -4.1633e-01,\n",
            "         -2.0773e+00, -3.0469e+00, -7.6112e-01, -1.5016e+00, -2.7095e-01],\n",
            "        [-8.0936e-02, -1.9839e-03, -4.2072e-01,  4.4054e-02,  1.0490e+00,\n",
            "         -1.4120e+00, -6.6154e-01,  1.0191e+00,  3.4369e-01, -1.1208e+00],\n",
            "        [-3.7479e-01,  1.4775e+00, -3.4923e-01, -7.3683e-02,  1.4653e+00,\n",
            "          1.2252e-01,  1.1202e+00, -3.4522e-01, -9.8146e-01, -7.3851e-01],\n",
            "        [ 3.8452e-01,  2.8420e-01,  2.9962e-01,  5.3298e-01, -5.4334e-01,\n",
            "         -2.0975e+00, -1.1108e+00, -7.7714e-01,  4.5067e-01, -8.7219e-01],\n",
            "        [ 5.3792e-03, -4.3030e-01, -8.1683e-01,  3.3577e-01,  5.6147e-01,\n",
            "          1.1659e+00, -6.9256e-01,  6.3244e-01, -8.7974e-01,  9.1835e-01],\n",
            "        [ 1.3336e-01,  4.9806e-01,  1.3404e+00,  3.4582e-01,  5.4950e-01,\n",
            "         -6.9431e-01,  1.2461e+00,  1.7172e+00, -2.0506e-01, -8.2513e-01],\n",
            "        [ 1.7142e+00,  1.2555e+00, -1.2282e+00, -6.8162e-02,  1.6036e+00,\n",
            "         -1.4155e+00, -1.9182e-02, -1.9719e-01,  3.8631e-01,  9.2615e-01],\n",
            "        [-1.0452e+00, -7.9928e-01,  1.9161e+00, -1.0147e-01,  2.9304e-01,\n",
            "          4.7148e-01,  1.3916e-01,  7.1007e-01, -1.2583e+00,  1.2912e+00],\n",
            "        [-3.7747e-01, -1.2788e+00, -1.2777e+00,  2.8712e-01, -1.3834e-01,\n",
            "         -1.4950e+00,  1.3069e+00,  2.3541e-01,  2.5286e-01, -3.5210e-01],\n",
            "        [ 9.9026e-01,  1.7845e+00, -7.2805e-01,  4.7635e-01,  7.5811e-01,\n",
            "          2.4427e-01,  1.6904e-01,  9.4674e-01, -1.0503e+00,  4.6375e-01],\n",
            "        [ 1.0945e+00,  9.9356e-01,  8.9963e-01,  1.6717e+00, -9.9450e-01,\n",
            "          1.3987e-01,  5.3304e-01,  2.4472e-01,  7.2132e-02, -5.3359e-01],\n",
            "        [ 8.6620e-01, -7.8287e-01,  5.8112e-01,  1.3960e+00, -3.5450e-01,\n",
            "          2.3559e-01,  9.4133e-01, -1.5672e+00, -1.0387e-01, -1.1692e+00],\n",
            "        [ 1.1586e+00,  4.2229e-01,  2.4769e-01,  1.9189e-01,  2.5858e+00,\n",
            "          6.0815e-01,  1.1538e+00, -2.6683e-01, -6.3419e-01, -9.6606e-01],\n",
            "        [-1.0284e+00,  3.5878e-01, -5.5666e-01, -4.2019e-01, -2.0345e+00,\n",
            "         -1.2412e+00, -1.5905e+00, -6.1215e-02, -4.8548e-01, -9.9667e-01],\n",
            "        [-1.3988e-01,  7.1626e-01,  1.0542e-01,  4.7559e-01, -5.5577e-01,\n",
            "          5.1382e-01, -1.4066e+00,  9.7869e-01, -2.1374e+00,  9.0052e-01],\n",
            "        [ 6.8456e-01,  2.3499e-01,  1.1664e+00,  4.3376e-01,  2.2706e-03,\n",
            "          8.1992e-01,  3.9265e-01,  2.0994e-02, -4.1022e-01,  3.0275e-01],\n",
            "        [ 7.7395e-01, -1.0330e+00, -2.0542e+00,  6.6038e-01,  1.4917e+00,\n",
            "          5.4741e-01, -8.7259e-01, -5.5333e-01, -3.4347e-01,  3.9789e-01],\n",
            "        [-1.9723e-02, -1.2463e+00,  3.4206e-01, -1.8052e+00, -2.4486e+00,\n",
            "          2.4269e+00, -1.6951e+00,  2.2993e-01,  3.0884e-01,  7.8129e-02],\n",
            "        [ 1.7667e+00, -1.5455e+00, -1.7100e+00,  1.4012e+00,  2.7882e-02,\n",
            "          5.3124e-01,  5.1640e-01, -8.5741e-01,  1.5950e+00,  8.5185e-01]])\n",
            "v =  tensor([ 0.1540, -0.9912,  0.0955,  0.3805,  0.0736,  0.2534,  1.2410,  1.5473,\n",
            "         1.6129, -1.7393])\n"
          ]
        }
      ]
    },
    {
      "cell_type": "code",
      "source": [
        "# 내적\n",
        "d = torch.dot(v, v)\n",
        "print('d = v·v = ', d)"
      ],
      "metadata": {
        "id": "zfyQquLzFbcA",
        "colab": {
          "base_uri": "https://localhost:8080/"
        },
        "outputId": "b1794344-3346-47c2-8a2b-75504d762a43"
      },
      "execution_count": 70,
      "outputs": [
        {
          "output_type": "stream",
          "name": "stdout",
          "text": [
            "d = v·v =  tensor(10.7906)\n"
          ]
        }
      ]
    },
    {
      "cell_type": "code",
      "source": [
        "# 100 × 10의 행렬과 길이 10인 벡터의 곱\n",
        "# 결과는 길이 100인 벡터\n",
        "v2 = torch.mv(m, v)\n",
        "print('v2 = ', v2)"
      ],
      "metadata": {
        "id": "k8fHzQUgFbY0",
        "colab": {
          "base_uri": "https://localhost:8080/"
        },
        "outputId": "89b85ba3-5f6b-4280-8bbc-46455b07f7e6"
      },
      "execution_count": 71,
      "outputs": [
        {
          "output_type": "stream",
          "name": "stdout",
          "text": [
            "v2 =  tensor([-6.3149,  2.3397,  7.6702, -4.8651,  0.4119, -2.1010,  4.1766, -0.0308,\n",
            "        -0.0324,  0.6046, -0.2356, -0.1841, -1.5953,  5.7020,  7.3771, -5.3122,\n",
            "         1.2320, -4.9377,  2.2946, -6.0630, -2.0365,  4.5628, -1.7955,  0.5127,\n",
            "         1.3654, -8.3964, -4.8963, -3.7008, -1.5625,  3.2019, -3.5354, -2.8461,\n",
            "         3.1856, -1.0888, -2.3927,  2.3988,  0.9168, -1.5794,  4.9501, -2.5284,\n",
            "        -0.8450,  1.0081,  0.2239, -6.9402,  3.1755, -0.1895, -0.9349, -9.1311,\n",
            "         5.2378, -5.7390,  2.1501,  0.9455,  0.1102, -2.9141, -2.1751, -3.4441,\n",
            "         5.4082,  3.5055,  2.1273,  1.4065, -2.8218, -0.0554, -6.0203,  1.6144,\n",
            "        -5.0796, -5.1483,  4.0536, -4.8900,  7.2721, -2.3835, -2.0446, -0.3093,\n",
            "        -4.6995, -0.2721,  4.9990,  0.2144, -0.9297,  1.8732,  1.8801, -4.2664,\n",
            "        -1.9289, -8.1540,  2.9453, -0.8870, -0.8996, -2.0833,  4.9588, -2.6810,\n",
            "        -2.0874,  3.8141, -2.2129,  1.9525,  2.1391,  1.8774, -2.3094, -5.6962,\n",
            "        -0.3116, -1.7384, -0.3729,  2.7156])\n"
          ]
        }
      ]
    },
    {
      "cell_type": "code",
      "source": [
        "# 행렬곱\n",
        "m2 = torch.mm(m.t(), m)\n",
        "print('m2 = ', m2)"
      ],
      "metadata": {
        "id": "1VrP6p5TFbUr",
        "colab": {
          "base_uri": "https://localhost:8080/"
        },
        "outputId": "da9f55ef-597e-4cac-bc39-d4b47422d359"
      },
      "execution_count": 72,
      "outputs": [
        {
          "output_type": "stream",
          "name": "stdout",
          "text": [
            "m2 =  tensor([[ 8.1215e+01,  1.9441e+00, -3.2713e+00,  1.2706e+01,  5.7515e+00,\n",
            "         -5.9810e-01,  7.9745e+00, -1.6729e-01,  6.2405e+00, -4.8501e-01],\n",
            "        [ 1.9441e+00,  1.0926e+02, -1.2637e+01,  1.0479e+01, -9.5434e-01,\n",
            "         -1.1737e+01, -7.3769e+00,  1.9049e+01, -2.5790e+01,  6.8538e+00],\n",
            "        [-3.2713e+00, -1.2637e+01,  1.2030e+02, -2.0112e+01, -4.3150e+00,\n",
            "          2.1533e+01,  1.4874e+01,  2.1828e+01, -1.2200e+00, -1.5015e+01],\n",
            "        [ 1.2706e+01,  1.0479e+01, -2.0112e+01,  1.1542e+02,  4.7302e+00,\n",
            "         -6.3199e+00,  1.5723e+01, -5.6159e+00, -2.9745e-02,  4.3378e+00],\n",
            "        [ 5.7515e+00, -9.5434e-01, -4.3150e+00,  4.7302e+00,  9.2235e+01,\n",
            "          7.9395e+00, -6.3411e+00,  5.1828e+00, -9.4431e-01, -1.5134e+01],\n",
            "        [-5.9810e-01, -1.1737e+01,  2.1533e+01, -6.3199e+00,  7.9395e+00,\n",
            "          1.1291e+02, -7.8069e+00, -7.5377e+00, -1.1603e+01, -1.3451e+01],\n",
            "        [ 7.9745e+00, -7.3769e+00,  1.4874e+01,  1.5723e+01, -6.3411e+00,\n",
            "         -7.8069e+00,  1.3458e+02,  6.0058e+00,  1.4486e+01, -1.3195e+01],\n",
            "        [-1.6729e-01,  1.9049e+01,  2.1828e+01, -5.6159e+00,  5.1828e+00,\n",
            "         -7.5377e+00,  6.0058e+00,  1.0374e+02, -7.9708e+00, -8.5275e+00],\n",
            "        [ 6.2405e+00, -2.5790e+01, -1.2200e+00, -2.9745e-02, -9.4431e-01,\n",
            "         -1.1603e+01,  1.4486e+01, -7.9708e+00,  1.1557e+02,  1.0995e+01],\n",
            "        [-4.8501e-01,  6.8538e+00, -1.5015e+01,  4.3378e+00, -1.5134e+01,\n",
            "         -1.3451e+01, -1.3195e+01, -8.5275e+00,  1.0995e+01,  8.8011e+01]])\n"
          ]
        }
      ]
    },
    {
      "cell_type": "code",
      "source": [
        "# 특이값 분해\n",
        "u, s, v = torch.svd(m)\n",
        "print('u = ', u)\n",
        "print('s = ', s)\n",
        "print('v = ', v)"
      ],
      "metadata": {
        "id": "p2jp8ZnzFbQ_",
        "colab": {
          "base_uri": "https://localhost:8080/"
        },
        "outputId": "058bb3d1-0e49-4852-9210-54da8ffa1d2b"
      },
      "execution_count": 73,
      "outputs": [
        {
          "output_type": "stream",
          "name": "stdout",
          "text": [
            "u =  tensor([[ 2.1765e-02, -1.8884e-02,  1.2615e-01, -7.0581e-02,  1.6593e-01,\n",
            "         -3.8121e-02, -6.7652e-02,  1.4567e-01,  1.6233e-01,  5.8503e-02],\n",
            "        [ 2.8551e-02,  1.3568e-01,  1.9511e-01,  9.3268e-02,  1.0110e-01,\n",
            "         -1.4398e-01,  7.3739e-02,  6.7882e-02, -7.2349e-02, -6.2781e-02],\n",
            "        [ 8.9131e-02,  8.9278e-02,  6.4562e-02,  2.1135e-02, -8.2373e-02,\n",
            "         -2.7883e-02,  1.2851e-01,  6.7760e-02, -1.6292e-01, -1.8443e-01],\n",
            "        [-1.1049e-02, -7.0171e-02, -6.6000e-02,  1.6010e-01,  1.3127e-01,\n",
            "          8.7757e-02, -1.6162e-01,  5.9375e-02,  5.7765e-02,  6.6799e-02],\n",
            "        [ 8.4506e-03,  6.5947e-02,  2.3287e-01,  2.8240e-02, -7.0140e-02,\n",
            "         -2.6068e-02,  1.4115e-01,  8.3133e-02,  9.2845e-02, -4.6749e-02],\n",
            "        [-1.9723e-01,  5.2160e-02, -1.3732e-02,  3.9059e-02, -5.0844e-03,\n",
            "          2.8474e-01, -2.1513e-02, -8.6155e-02,  5.1726e-02, -1.1814e-01],\n",
            "        [ 1.1332e-01,  5.7171e-02, -6.5731e-03, -1.5639e-01, -2.7427e-03,\n",
            "          1.8965e-02, -4.4832e-02, -3.6973e-02, -1.3540e-01,  8.3056e-02],\n",
            "        [ 9.3118e-02, -4.3756e-02, -9.4062e-02, -2.0697e-02,  8.1192e-02,\n",
            "         -9.2686e-02, -7.5703e-02, -1.9868e-02,  8.7650e-02, -6.5536e-02],\n",
            "        [-8.7598e-02,  7.6383e-02,  5.4653e-02, -9.8453e-02,  7.9034e-02,\n",
            "         -9.2583e-03, -2.0021e-02, -2.1077e-01, -2.2801e-02, -2.9234e-02],\n",
            "        [-1.0197e-01,  4.1495e-02,  1.7814e-02,  4.5137e-02, -3.8354e-02,\n",
            "          5.1601e-02,  1.2017e-01, -5.5267e-02, -5.2549e-02, -2.1539e-02],\n",
            "        [-3.1859e-02,  8.2534e-03,  1.3285e-02,  3.6689e-02, -1.3134e-03,\n",
            "          5.5606e-02,  2.0982e-01,  1.5092e-02, -3.3573e-03,  4.0065e-03],\n",
            "        [-7.5341e-02,  2.1044e-02, -6.2677e-02,  6.1396e-02,  4.0522e-02,\n",
            "         -2.7510e-01, -1.2436e-02, -8.2519e-02, -2.6163e-02,  3.0779e-02],\n",
            "        [-4.8561e-02,  1.0583e-01,  1.0309e-01, -6.6982e-02,  2.0698e-01,\n",
            "          2.0327e-02,  3.3302e-03,  2.3389e-02, -9.0894e-02,  1.7759e-02],\n",
            "        [ 1.0929e-01,  1.2028e-01, -4.1485e-02, -1.3820e-02,  1.3237e-01,\n",
            "          2.7416e-02, -4.9706e-03, -1.5397e-01, -1.0421e-01, -7.8571e-02],\n",
            "        [ 1.4355e-01,  1.5503e-01, -9.6394e-02,  1.3378e-01, -2.6686e-02,\n",
            "          2.2678e-02,  8.4533e-02,  7.7545e-02, -7.6824e-02,  6.8554e-02],\n",
            "        [-1.4162e-01, -1.5030e-01,  7.6201e-02, -1.8405e-01, -1.1841e-01,\n",
            "         -1.4319e-01,  1.8518e-01,  6.3612e-02, -2.3573e-02,  7.5077e-02],\n",
            "        [-7.7379e-02,  1.6290e-01, -1.2061e-01,  1.1664e-01,  1.9431e-01,\n",
            "         -1.8597e-02, -1.3316e-01, -1.9228e-01,  1.1217e-01, -1.6281e-01],\n",
            "        [ 1.4541e-01, -2.4866e-01,  1.0003e-01, -7.8507e-02,  7.0811e-03,\n",
            "          2.0009e-01, -9.4133e-02, -7.3270e-02,  1.0940e-01,  1.9016e-02],\n",
            "        [ 7.2646e-02,  1.1012e-01,  3.1529e-02, -7.7924e-02,  9.2311e-02,\n",
            "          2.4903e-02,  1.4190e-01,  7.7626e-03, -3.6746e-02,  6.0967e-02],\n",
            "        [ 5.0431e-02, -1.3232e-01,  1.3918e-01,  2.9883e-02,  8.6359e-02,\n",
            "         -2.1697e-01, -1.4769e-02,  1.5420e-01,  8.5303e-02,  8.0003e-02],\n",
            "        [-1.0370e-01, -5.5227e-02, -5.2584e-02,  3.7797e-02,  3.4794e-02,\n",
            "         -7.6292e-02, -1.1946e-01, -2.1553e-01, -6.9909e-02,  6.4831e-02],\n",
            "        [ 6.0848e-02, -6.1877e-03,  5.0306e-02,  9.5657e-02, -1.7770e-01,\n",
            "          1.1657e-01, -6.0181e-02,  1.0488e-01, -2.6679e-02, -2.1451e-01],\n",
            "        [ 1.1570e-01, -1.2672e-03,  1.1331e-01,  3.1001e-02, -2.8957e-02,\n",
            "          7.4320e-02,  2.6439e-02,  9.8758e-02,  1.0933e-01,  2.4258e-01],\n",
            "        [ 8.9418e-02,  2.0086e-02,  1.2251e-01,  8.4800e-02, -8.0318e-03,\n",
            "         -4.0474e-02,  1.0705e-02,  8.4236e-02, -2.0049e-02,  1.2231e-01],\n",
            "        [ 1.2752e-02,  8.2792e-02, -7.3016e-02, -1.5883e-01, -9.4675e-03,\n",
            "         -3.3834e-02, -4.2962e-02,  1.6548e-02,  2.1364e-02,  8.6416e-02],\n",
            "        [-7.7704e-02, -1.1010e-01,  5.4933e-02, -3.9262e-02,  1.9035e-01,\n",
            "         -9.0952e-04, -5.9647e-02,  5.5863e-02,  6.8189e-02,  2.7160e-02],\n",
            "        [-9.1687e-02, -1.3733e-01,  1.5512e-02, -7.0821e-02, -1.0129e-02,\n",
            "         -7.8085e-02, -1.0820e-01, -4.5658e-02,  4.7873e-02, -3.9834e-02],\n",
            "        [-1.1828e-01, -9.4750e-02, -8.4886e-02, -1.9932e-02, -3.9782e-02,\n",
            "          7.2040e-02,  1.1615e-02, -3.6289e-02,  3.5981e-02,  9.9111e-03],\n",
            "        [-1.0222e-01, -5.1519e-02,  1.9032e-02,  4.0762e-02, -1.1660e-01,\n",
            "          3.2037e-02, -6.5919e-02,  7.2535e-03, -1.2508e-01,  1.4328e-01],\n",
            "        [ 3.1615e-02,  7.2421e-02,  6.9090e-03, -8.3865e-02, -1.1992e-02,\n",
            "          4.0268e-02,  1.0793e-01, -2.0850e-02, -2.6360e-02, -5.7666e-02],\n",
            "        [ 1.9417e-02, -1.3374e-01, -6.9843e-02,  1.6393e-01,  6.2640e-02,\n",
            "         -1.0636e-01,  6.8188e-02,  2.9200e-02,  1.3619e-01, -6.8262e-02],\n",
            "        [-1.9755e-02, -1.5258e-01,  6.7205e-02, -6.9407e-02,  1.3245e-01,\n",
            "         -7.0428e-02, -1.2632e-01, -3.7250e-02, -2.6187e-01, -4.6317e-02],\n",
            "        [-1.0151e-01,  8.4604e-02,  7.1916e-02,  1.0914e-01, -1.0506e-01,\n",
            "          1.4454e-02, -5.7255e-02, -1.5193e-01, -8.0504e-02, -6.5010e-02],\n",
            "        [-1.3033e-01,  3.2017e-02, -1.1270e-01, -1.8034e-01, -6.3739e-04,\n",
            "         -1.5477e-03,  8.8875e-02,  1.4841e-01, -3.3977e-02, -7.1787e-02],\n",
            "        [-6.3028e-02,  1.6587e-01,  1.6871e-01, -8.5569e-02,  8.3458e-02,\n",
            "          4.7393e-02,  1.1632e-01, -8.5950e-02,  5.8941e-02,  2.9563e-01],\n",
            "        [-7.1917e-03,  1.8577e-01, -1.0024e-01, -1.4255e-01,  4.8699e-02,\n",
            "         -8.2543e-02, -3.2148e-03, -4.9583e-02, -4.1221e-02,  2.5944e-01],\n",
            "        [-3.4488e-02,  1.9758e-01, -3.5865e-02, -1.8819e-01,  5.0031e-02,\n",
            "         -4.8130e-02, -1.4315e-01,  1.2906e-01, -2.9849e-02,  1.7611e-01],\n",
            "        [-7.8067e-02,  8.9486e-02, -2.6888e-02,  6.0586e-02,  5.7729e-02,\n",
            "          1.6720e-01,  2.2026e-02,  1.1536e-01,  4.5446e-02,  1.7015e-02],\n",
            "        [ 1.3716e-01, -1.6701e-02,  1.9280e-02,  1.2193e-02, -1.2219e-01,\n",
            "          1.9808e-01, -1.0830e-01, -1.5930e-01, -3.1165e-02, -4.2148e-02],\n",
            "        [-1.6563e-01, -3.7056e-02, -1.1556e-01, -1.1064e-01,  3.5961e-02,\n",
            "          1.3325e-03,  2.3079e-02,  1.8686e-01, -1.4820e-01, -1.0265e-01],\n",
            "        [-8.9336e-02, -1.3236e-02, -7.2678e-02,  6.5785e-02, -2.0509e-02,\n",
            "          7.6331e-02, -1.0385e-01,  9.8638e-03, -4.2656e-03, -8.0218e-02],\n",
            "        [ 1.5727e-01, -4.1635e-02, -3.6794e-02,  1.3383e-01,  2.7945e-02,\n",
            "          1.4351e-01,  1.2124e-01,  3.8827e-02,  7.6097e-02,  1.7200e-02],\n",
            "        [ 7.5866e-02, -4.7976e-02,  4.2161e-02, -2.7904e-02, -8.7149e-02,\n",
            "          5.2267e-02, -1.4368e-01,  1.9948e-02,  6.6518e-02, -6.8512e-03],\n",
            "        [-1.3649e-01, -5.9036e-02,  1.0160e-01,  5.7271e-02,  1.1641e-01,\n",
            "          1.4872e-01,  1.3615e-01, -5.4011e-02,  4.7570e-02,  7.0538e-02],\n",
            "        [-4.3550e-02,  9.6070e-02, -2.1638e-01, -1.8834e-01, -1.3030e-01,\n",
            "          8.5037e-02,  1.0809e-01,  2.4119e-02,  8.4076e-02,  6.7878e-04],\n",
            "        [ 8.6687e-02, -6.4405e-02, -1.5705e-01, -1.0101e-01,  9.9357e-03,\n",
            "         -7.6666e-02,  8.5666e-03,  1.5531e-01,  3.2839e-02,  1.0821e-02],\n",
            "        [-4.2227e-02, -1.0632e-01, -2.2368e-01, -1.4920e-01, -3.8151e-02,\n",
            "          2.9027e-02, -3.3677e-02, -5.5932e-02, -2.9088e-03, -3.6886e-02],\n",
            "        [-1.8929e-01, -9.3764e-02,  7.7023e-02,  6.4635e-02,  1.6800e-01,\n",
            "          9.5898e-02,  4.4089e-02, -2.0467e-02,  8.8916e-02, -3.6517e-02],\n",
            "        [ 9.3260e-02,  6.4767e-02, -9.2555e-02,  1.0558e-01, -2.6544e-03,\n",
            "         -2.7579e-02,  3.2939e-02, -1.9524e-01, -3.4239e-02,  3.9448e-02],\n",
            "        [-8.9240e-02, -5.7300e-02,  1.2075e-01,  3.9161e-02,  2.9748e-02,\n",
            "          2.3942e-03, -9.8453e-03,  2.1409e-01, -4.2012e-02,  1.1035e-01],\n",
            "        [-3.8763e-02,  1.0836e-01, -1.7646e-01,  2.5896e-02,  1.3287e-01,\n",
            "          5.0429e-02,  1.1306e-01, -1.1083e-01, -4.0246e-03, -5.8204e-02],\n",
            "        [ 6.7834e-02, -1.2687e-01, -1.0628e-01, -1.0004e-01, -2.7564e-02,\n",
            "          9.7796e-03,  8.4925e-02,  2.8708e-02, -1.1612e-01, -3.5059e-02],\n",
            "        [-7.3566e-03, -1.6916e-02, -1.1206e-01,  5.8218e-02, -5.2933e-03,\n",
            "          8.4414e-02,  2.7480e-01, -8.3816e-02,  5.2707e-02,  5.9357e-02],\n",
            "        [ 1.1431e-01, -9.4892e-03,  9.7368e-02, -2.2153e-01,  3.6293e-02,\n",
            "          6.2251e-02, -3.6703e-02,  1.4376e-01,  2.8874e-01, -7.5045e-02],\n",
            "        [ 2.5004e-02, -5.9153e-03,  3.1457e-02, -8.0832e-02,  8.6231e-02,\n",
            "         -2.1022e-01,  6.8609e-02, -5.1585e-02,  1.7146e-01, -1.5249e-02],\n",
            "        [ 2.8018e-02, -8.7680e-02,  1.9286e-01,  6.8951e-02,  1.1385e-01,\n",
            "         -2.9655e-02, -6.0725e-02,  3.0278e-02, -3.3549e-02, -6.2535e-02],\n",
            "        [ 4.3501e-02,  7.0491e-02,  2.3521e-01,  3.6849e-02, -2.3726e-01,\n",
            "         -1.0494e-01,  8.3581e-02, -7.4913e-02, -9.3351e-03, -3.1652e-02],\n",
            "        [ 1.6654e-01, -2.7709e-02,  2.8651e-02,  9.1057e-02,  8.1917e-02,\n",
            "         -2.7967e-03,  7.7724e-02, -7.9801e-02,  1.2220e-02, -1.9855e-01],\n",
            "        [ 1.1796e-01, -1.9411e-02, -6.6429e-02,  2.8535e-02,  1.2936e-03,\n",
            "          8.7554e-03,  3.2119e-02,  5.9169e-02, -5.0015e-02,  5.5442e-02],\n",
            "        [ 2.0871e-03, -6.2018e-02, -1.4847e-02,  1.6332e-01, -1.6175e-01,\n",
            "          2.8790e-02,  1.4713e-01,  7.3065e-02, -1.2101e-01,  1.2648e-01],\n",
            "        [-4.6798e-02,  8.6769e-03,  2.6244e-02, -2.1734e-01,  1.0534e-02,\n",
            "         -5.3051e-02,  4.7426e-02, -1.3287e-01,  1.9859e-01,  2.2257e-02],\n",
            "        [ 1.3942e-02, -1.5271e-02,  1.9091e-01, -1.7128e-01, -2.2440e-02,\n",
            "          1.3087e-01, -1.8143e-02, -1.5179e-01, -1.4692e-01,  1.2298e-01],\n",
            "        [-1.6145e-02, -1.1529e-01, -8.4917e-02,  3.4088e-02,  2.7253e-01,\n",
            "         -6.2692e-04, -1.3664e-01,  4.2422e-02, -8.9355e-02,  4.9868e-02],\n",
            "        [ 8.0081e-02, -1.5950e-01, -9.6658e-02, -1.1233e-01,  2.4981e-02,\n",
            "          9.5919e-02,  1.5090e-01, -1.4671e-01, -2.6410e-01,  3.3565e-02],\n",
            "        [-1.7752e-01,  1.1227e-01, -3.0047e-02,  1.9176e-02,  2.2945e-01,\n",
            "          7.5453e-02,  1.3887e-01,  1.2616e-02,  7.7017e-02,  3.8069e-02],\n",
            "        [-3.7288e-02, -1.8193e-01, -4.1596e-02,  1.3371e-01, -6.3148e-02,\n",
            "          1.0517e-01,  1.8518e-01, -1.5736e-01,  1.4309e-01,  1.5183e-01],\n",
            "        [ 9.7715e-02,  6.0469e-02, -1.7966e-02, -3.4979e-02, -9.4831e-02,\n",
            "          9.0214e-02,  2.9199e-02,  1.4239e-01,  1.1702e-02, -5.0648e-02],\n",
            "        [-4.9485e-02, -9.5414e-02, -7.7124e-02,  2.1920e-01,  1.7732e-01,\n",
            "         -1.0341e-01,  1.7285e-01, -3.3414e-02,  9.6672e-03,  8.7155e-02],\n",
            "        [ 2.8374e-01,  5.4792e-02, -8.1796e-02, -1.0044e-01,  1.1013e-01,\n",
            "         -5.0095e-02,  1.2917e-01, -6.3225e-02, -8.8998e-02, -1.4325e-02],\n",
            "        [-1.5422e-01,  7.2738e-02,  1.5511e-01, -1.8314e-02,  4.5111e-02,\n",
            "          3.7639e-02,  2.9407e-02, -1.2828e-01,  9.5639e-02, -1.2332e-01],\n",
            "        [-2.5503e-01,  1.6481e-01, -1.5492e-02, -3.5602e-03,  4.0280e-02,\n",
            "          1.5382e-01, -1.2402e-01,  8.3615e-02, -1.1252e-01,  6.5112e-02],\n",
            "        [ 2.4007e-02, -1.3331e-01,  5.4135e-02, -7.7756e-02, -1.2939e-01,\n",
            "         -1.0269e-01, -8.6035e-02, -1.1619e-01,  1.4538e-02, -3.9505e-02],\n",
            "        [ 9.7788e-02, -1.1632e-01,  5.7969e-02, -1.1530e-01,  8.2595e-02,\n",
            "          1.4703e-01,  7.2031e-02,  1.0872e-02,  1.1921e-01,  1.0700e-01],\n",
            "        [-5.1564e-02,  1.2821e-02, -3.8596e-02, -5.0981e-03, -1.4724e-01,\n",
            "          1.9451e-01,  5.5002e-02,  7.1443e-03,  1.2916e-01,  2.5363e-02],\n",
            "        [ 1.3696e-01,  2.6003e-01, -5.4079e-04, -6.7992e-02,  1.3887e-01,\n",
            "          1.0319e-01, -4.3249e-02,  6.4051e-02,  9.1508e-02, -2.9383e-02],\n",
            "        [ 7.9304e-02, -4.0939e-02,  9.3797e-02,  4.3598e-02,  4.7658e-02,\n",
            "          1.9177e-01,  5.5206e-02,  7.2092e-02, -5.2323e-02, -9.7648e-02],\n",
            "        [-7.1209e-02, -4.0496e-02,  2.5176e-02, -1.1399e-01, -8.7926e-02,\n",
            "          2.5385e-02, -1.0524e-01, -1.0388e-01,  3.7403e-03, -1.9669e-02],\n",
            "        [-4.4334e-02,  1.0914e-01,  1.8921e-01, -6.7276e-02, -1.3524e-01,\n",
            "          5.1083e-02, -9.3065e-03, -2.7432e-01,  1.8546e-01, -4.2427e-02],\n",
            "        [ 1.3448e-02,  4.2723e-02,  2.4010e-02,  1.0117e-01,  3.0907e-02,\n",
            "         -1.9431e-01,  1.2957e-01, -1.8128e-01,  2.0473e-02,  2.4763e-02],\n",
            "        [-8.7935e-02, -7.9627e-02,  2.2968e-02, -1.1141e-01,  2.6864e-02,\n",
            "          8.6462e-02,  8.7910e-02, -6.3667e-03, -1.2598e-02,  3.5307e-02],\n",
            "        [ 8.5367e-02, -7.3808e-02,  9.1743e-03,  4.0308e-02,  4.7035e-02,\n",
            "          1.6930e-02, -1.2199e-01, -1.3573e-01,  1.5918e-01,  8.7711e-03],\n",
            "        [-2.4610e-01, -1.7525e-01,  3.1452e-02, -3.5251e-02,  1.6685e-03,\n",
            "         -7.5887e-02,  2.0020e-01,  8.0820e-02,  2.7506e-02, -1.2664e-01],\n",
            "        [-3.3262e-02, -1.1854e-02, -4.2082e-02, -4.4822e-02, -1.9292e-01,\n",
            "         -8.4199e-02,  9.0090e-02,  6.1263e-03, -1.0276e-02, -6.9733e-02],\n",
            "        [-8.8478e-03, -2.8665e-02, -1.2626e-01,  8.7366e-02, -1.6388e-02,\n",
            "         -1.4087e-01, -9.0469e-02, -6.5040e-02,  1.3664e-01,  2.2253e-02],\n",
            "        [-8.2546e-02,  1.9068e-02,  1.3231e-02, -7.0923e-02, -3.7465e-02,\n",
            "         -7.9182e-03,  1.2724e-01,  1.4095e-01,  1.0643e-01, -1.9969e-01],\n",
            "        [-3.3327e-02, -8.3099e-02,  1.7115e-02,  8.1791e-02, -1.5346e-02,\n",
            "          4.5837e-02,  2.3440e-04, -4.6181e-02, -1.1883e-01,  1.5986e-01],\n",
            "        [ 9.7905e-02,  4.1574e-02, -1.8796e-01, -4.4830e-02, -8.4396e-02,\n",
            "          7.8051e-04,  5.1883e-02,  5.6587e-03,  2.0158e-02,  6.7483e-04],\n",
            "        [-1.6028e-01,  3.3538e-02, -4.4970e-02, -1.7368e-02, -1.5798e-01,\n",
            "         -2.2539e-02, -1.5116e-01,  1.2516e-01,  9.9135e-02,  9.7364e-02],\n",
            "        [ 1.2013e-01, -6.4342e-02, -2.5107e-02, -3.2961e-02,  7.0560e-02,\n",
            "          7.3144e-02,  1.3291e-01, -4.1634e-02,  5.3206e-02,  2.3181e-01],\n",
            "        [-4.7440e-02,  1.4267e-01, -6.9352e-03, -3.6535e-02, -1.5289e-02,\n",
            "         -1.5849e-01,  9.9738e-02, -1.5716e-02, -1.0363e-01,  3.0646e-02],\n",
            "        [-8.2878e-02, -6.6142e-02, -1.5967e-01,  4.8303e-02, -4.3843e-02,\n",
            "          3.4919e-02, -1.2412e-01,  2.3416e-02, -1.9539e-02,  7.8847e-02],\n",
            "        [ 2.8598e-03,  5.7673e-02, -1.3043e-01,  5.1467e-02,  5.2259e-02,\n",
            "          1.5193e-01,  5.8491e-03,  7.7104e-02,  2.9166e-03, -1.4022e-01],\n",
            "        [ 3.7164e-02,  1.1459e-01,  2.8028e-03,  1.6002e-01,  8.0567e-02,\n",
            "         -3.2463e-03,  6.6269e-02,  1.2143e-01,  5.3283e-02, -1.0984e-01],\n",
            "        [ 5.7786e-02,  1.5338e-02, -9.8181e-02,  1.8217e-01, -1.3760e-01,\n",
            "         -9.0361e-02, -1.0104e-01,  6.6518e-02,  1.2440e-01,  8.4407e-02],\n",
            "        [-7.3783e-02, -9.8316e-02,  2.7035e-02, -1.2920e-01,  9.3008e-02,\n",
            "         -6.8707e-02,  1.2552e-01,  9.5383e-03, -7.1762e-02, -2.3535e-01],\n",
            "        [-4.8895e-02, -1.8487e-01, -7.9519e-02,  5.0055e-03,  8.1488e-02,\n",
            "          9.7618e-02,  6.9887e-02,  2.1012e-02, -7.9298e-02,  9.0844e-02],\n",
            "        [ 6.4802e-02, -2.9077e-03, -5.0422e-02,  5.4822e-02,  4.2346e-02,\n",
            "          1.0435e-01, -2.8137e-02,  5.5782e-02,  3.9800e-02,  4.4895e-02],\n",
            "        [-1.1867e-01, -1.8264e-02,  9.4895e-02,  1.6723e-01, -1.0525e-01,\n",
            "         -4.6424e-02, -7.0076e-03,  3.1194e-02, -9.0261e-02,  1.2851e-01],\n",
            "        [ 1.2773e-01, -1.2846e-01,  1.9891e-01, -5.2376e-02,  1.3472e-01,\n",
            "          1.1327e-01, -7.5788e-02,  3.3132e-03, -2.5346e-01, -9.7348e-02],\n",
            "        [-9.9944e-02,  1.8968e-01,  1.2443e-01,  1.3401e-01, -4.3486e-02,\n",
            "          8.5896e-02, -6.5562e-02,  6.8659e-02, -1.4163e-01,  5.7647e-02]])\n",
            "s =  tensor([12.9392, 12.5795, 12.0081, 11.1109, 10.1059,  9.5962,  8.8804,  8.6153,\n",
            "         8.2324,  8.0527])\n",
            "v =  tensor([[-0.0558,  0.1517, -0.0900,  0.1775, -0.2063,  0.2360, -0.3838,  0.8094,\n",
            "         -0.1831,  0.0039],\n",
            "        [-0.3036, -0.2790, -0.5258, -0.1215,  0.0551,  0.1523, -0.4930, -0.1754,\n",
            "          0.3883, -0.2965],\n",
            "        [ 0.6679, -0.0497, -0.1286, -0.1632,  0.0685,  0.4059,  0.2465,  0.2030,\n",
            "          0.4865, -0.0138],\n",
            "        [-0.3424,  0.2948, -0.2950,  0.4993,  0.0172,  0.4484,  0.4851, -0.1142,\n",
            "          0.0122, -0.0978],\n",
            "        [ 0.0310, -0.0785, -0.0432,  0.3491, -0.6858, -0.2152, -0.0450, -0.1071,\n",
            "          0.4104,  0.4130],\n",
            "        [ 0.3797, -0.2468,  0.1683,  0.5582,  0.1728,  0.3038, -0.4036, -0.3243,\n",
            "         -0.2517,  0.0377],\n",
            "        [ 0.2631,  0.6720, -0.4188,  0.0600,  0.2734, -0.3021, -0.2532, -0.1268,\n",
            "          0.0182,  0.2316],\n",
            "        [ 0.1883, -0.1296, -0.4844, -0.3309, -0.4080,  0.1921,  0.0938, -0.1908,\n",
            "         -0.5774,  0.1474],\n",
            "        [ 0.0238,  0.5224,  0.3797, -0.2380, -0.4029,  0.3159, -0.2416, -0.2938,\n",
            "          0.0697, -0.3377],\n",
            "        [-0.3017,  0.0360,  0.1658, -0.2731,  0.2139,  0.4344, -0.1316, -0.0663,\n",
            "          0.0927,  0.7354]])\n"
          ]
        }
      ]
    },
    {
      "cell_type": "code",
      "source": [
        "x = torch.randn(100, 3)\n",
        "print('x = ', x)\n",
        "print('----------------------------------------------')\n",
        "\n",
        "# 미분의 변수로 사용하는 경우는 requires_grad를 True로 설정\n",
        "a = torch.tensor([1, 2, 3.], requires_grad=True)\n",
        "print('a = ', a)\n",
        "print('----------------------------------------------')\n",
        "\n",
        "# 계산을 통해 자동으로 계산 그래프(network)가 구축된다\n",
        "y = torch.mv(x, a)\n",
        "o = y.sum()\n",
        "print('o = ', o)\n",
        "print('----------------------------------------------')\n",
        "\n",
        "# 미분을 실행\n",
        "o.backward()\n",
        "\n",
        "# 분석 답과 비교\n",
        "a.grad != x.sum(0)"
      ],
      "metadata": {
        "id": "JH0j6zc4FbM9",
        "colab": {
          "base_uri": "https://localhost:8080/"
        },
        "outputId": "a63bc2fd-c4fe-434d-f458-0b1e4bd0010c"
      },
      "execution_count": 74,
      "outputs": [
        {
          "output_type": "stream",
          "name": "stdout",
          "text": [
            "x =  tensor([[-2.5395,  1.0397, -1.2786],\n",
            "        [ 1.3773, -0.1910, -0.1443],\n",
            "        [ 1.0309, -1.3621,  0.8753],\n",
            "        [-1.3930, -0.5846,  2.4648],\n",
            "        [-0.5119, -0.5204, -0.3637],\n",
            "        [ 0.7570, -1.7742, -1.4859],\n",
            "        [-0.4855,  1.2818,  2.1031],\n",
            "        [ 0.5609,  0.8929,  0.0073],\n",
            "        [-0.1907,  0.5884, -0.0857],\n",
            "        [-0.7739, -0.1649,  1.5640],\n",
            "        [ 0.8388, -0.7875,  0.8085],\n",
            "        [-0.6463, -1.8141,  1.0933],\n",
            "        [ 0.3446, -0.8431, -1.0858],\n",
            "        [ 0.3931,  0.6026, -0.4949],\n",
            "        [ 0.8275, -0.1823,  1.2592],\n",
            "        [-1.1112, -0.1401,  0.7748],\n",
            "        [ 0.7975, -0.6077, -0.6170],\n",
            "        [ 0.7535,  0.0855,  0.6757],\n",
            "        [ 0.4407, -0.6470,  1.4384],\n",
            "        [ 1.7145, -0.8944, -0.1761],\n",
            "        [ 0.1168, -2.7347,  0.3928],\n",
            "        [-0.6672, -1.1554, -0.1254],\n",
            "        [ 0.5968,  0.3684,  0.1328],\n",
            "        [ 1.3710, -0.1880, -2.2987],\n",
            "        [ 0.4189, -1.3694,  0.3244],\n",
            "        [ 0.3538,  0.6809, -0.2765],\n",
            "        [ 0.0910, -0.4914, -1.0661],\n",
            "        [-1.5456,  0.9027,  0.0220],\n",
            "        [ 0.5114,  0.4328,  0.7802],\n",
            "        [-0.0103, -0.4562, -0.4762],\n",
            "        [ 0.0397,  1.5886,  0.9269],\n",
            "        [ 1.7750, -0.4976,  1.5335],\n",
            "        [-1.3105, -1.9741, -0.5824],\n",
            "        [-0.2449,  1.1277,  0.9881],\n",
            "        [ 1.5889,  1.2268,  0.9576],\n",
            "        [ 1.3892, -0.5276,  0.2221],\n",
            "        [-0.8948, -0.0342,  0.3112],\n",
            "        [ 0.4125, -0.5465, -1.5896],\n",
            "        [-0.2212, -0.6401, -0.5849],\n",
            "        [ 0.5428, -0.4186, -0.0778],\n",
            "        [ 1.7936,  0.6199,  0.8357],\n",
            "        [-1.5525,  0.8470,  0.3067],\n",
            "        [-2.1142,  0.2265, -0.5161],\n",
            "        [-0.1116,  0.8756,  1.3155],\n",
            "        [-0.6379, -0.1548, -0.2734],\n",
            "        [-1.6843, -0.5963,  1.1182],\n",
            "        [-0.3649,  0.2909,  0.2373],\n",
            "        [-0.7481, -0.2343, -1.0767],\n",
            "        [ 0.0607,  0.1203, -1.7755],\n",
            "        [-0.0181, -0.7002, -0.9745],\n",
            "        [ 1.1937, -0.1601, -0.5281],\n",
            "        [ 0.1964,  0.3631,  1.1369],\n",
            "        [ 0.6399,  0.7620, -0.4002],\n",
            "        [-0.8879,  0.0683,  0.2040],\n",
            "        [ 1.1363, -0.6222, -0.7931],\n",
            "        [-1.4016,  2.2523,  1.5380],\n",
            "        [-0.3459,  1.4266,  0.8666],\n",
            "        [-0.2668, -0.6457,  0.1123],\n",
            "        [-1.0344,  1.5264,  1.1746],\n",
            "        [ 0.6844, -0.9572, -0.7392],\n",
            "        [-1.0630, -0.3710,  0.1847],\n",
            "        [-0.3420,  1.3863, -1.3844],\n",
            "        [ 0.5936,  0.5016, -0.0767],\n",
            "        [-0.7009,  1.9657,  0.0600],\n",
            "        [ 0.7364, -0.2064,  2.4229],\n",
            "        [-0.1547,  0.8313,  0.3100],\n",
            "        [-0.2825,  0.4902, -0.2464],\n",
            "        [-0.6319,  0.2051,  1.6814],\n",
            "        [-0.0404,  0.5117, -0.3885],\n",
            "        [-0.6404,  0.5295, -1.0622],\n",
            "        [ 0.2951,  0.4282,  1.6128],\n",
            "        [-0.0569,  0.3851,  0.1754],\n",
            "        [ 3.1454,  0.4718, -0.6980],\n",
            "        [ 1.4282, -1.0887, -1.4758],\n",
            "        [-0.6024,  1.2222, -0.3201],\n",
            "        [-2.3230,  0.7938, -2.0084],\n",
            "        [-0.3066,  0.7837,  1.7244],\n",
            "        [ 0.0427,  0.2301, -0.8993],\n",
            "        [-1.0442,  0.6314,  0.3980],\n",
            "        [ 0.4984,  0.6181, -0.0789],\n",
            "        [-0.1894,  2.3505,  0.0244],\n",
            "        [ 0.8378,  0.3295,  0.8378],\n",
            "        [-0.3747, -0.3916,  0.5782],\n",
            "        [ 0.6389, -0.9586,  0.3213],\n",
            "        [ 0.5885,  1.3328, -1.6291],\n",
            "        [-0.6960,  0.2804, -0.2129],\n",
            "        [-0.2686,  0.3574, -0.3003],\n",
            "        [-0.1291,  0.0134,  1.4162],\n",
            "        [-0.9564, -0.7540, -0.1557],\n",
            "        [ 0.5084,  0.6525, -0.9175],\n",
            "        [ 0.7393,  0.3804, -1.6365],\n",
            "        [ 0.4694, -0.0389,  0.7279],\n",
            "        [ 0.2747, -1.2344, -0.5288],\n",
            "        [ 0.7189,  0.2584, -0.3565],\n",
            "        [ 0.0828,  0.3932,  1.9305],\n",
            "        [-0.2608, -2.1123,  1.9779],\n",
            "        [ 0.9652, -0.6034, -0.0793],\n",
            "        [ 0.8980, -0.5523, -0.0571],\n",
            "        [-1.1454, -0.1609,  0.2106],\n",
            "        [ 0.5227, -0.2611,  0.8324]])\n",
            "----------------------------------------------\n",
            "a =  tensor([1., 2., 3.], requires_grad=True)\n",
            "----------------------------------------------\n",
            "o =  tensor(45.7589, grad_fn=<SumBackward0>)\n",
            "----------------------------------------------\n"
          ]
        },
        {
          "output_type": "execute_result",
          "data": {
            "text/plain": [
              "tensor([False,  True,  True])"
            ]
          },
          "metadata": {},
          "execution_count": 74
        }
      ]
    },
    {
      "cell_type": "code",
      "source": [
        "# x는 requires_grad가 False이므로 미분이 계산되지 않는다\n",
        "x.grad is None"
      ],
      "metadata": {
        "id": "crzGxMtwGIXH",
        "colab": {
          "base_uri": "https://localhost:8080/"
        },
        "outputId": "d5cee829-f8ad-4bad-812f-a4e8a09db39d"
      },
      "execution_count": 75,
      "outputs": [
        {
          "output_type": "execute_result",
          "data": {
            "text/plain": [
              "True"
            ]
          },
          "metadata": {},
          "execution_count": 75
        }
      ]
    },
    {
      "cell_type": "code",
      "source": [
        "a.grad is None"
      ],
      "metadata": {
        "colab": {
          "base_uri": "https://localhost:8080/"
        },
        "id": "hKIZwm7lUl-J",
        "outputId": "b26ada12-8a50-40a5-b6e0-1877ad06354a"
      },
      "execution_count": 77,
      "outputs": [
        {
          "output_type": "execute_result",
          "data": {
            "text/plain": [
              "False"
            ]
          },
          "metadata": {},
          "execution_count": 77
        }
      ]
    },
    {
      "cell_type": "markdown",
      "source": [
        "## Ⅱ. 파이토치를 이용한 딥러닝 모델"
      ],
      "metadata": {
        "id": "T_qkF_Ap4r0F"
      }
    },
    {
      "cell_type": "markdown",
      "source": [
        "### 2.1 텐서와 자동미분(Autograd)"
      ],
      "metadata": {
        "id": "larZoZRxGTDQ"
      }
    },
    {
      "cell_type": "markdown",
      "source": [
        "#### 2.1.1 텐서 다루기 기본: 차원(Rank)과 Shape"
      ],
      "metadata": {
        "id": "Oqajmn9uG1CZ"
      }
    },
    {
      "cell_type": "code",
      "source": [
        "import torch"
      ],
      "metadata": {
        "id": "JBxq4sfl41ZJ"
      },
      "execution_count": 83,
      "outputs": []
    },
    {
      "cell_type": "code",
      "source": [
        "x = torch.tensor([[1,2,3], [4,5,6], [7,8,9]])\n",
        "print(x)\n",
        "print(\"Size:\", x.size())\n",
        "print(\"Shape:\", x.shape)\n",
        "print(\"랭크(차원):\", x.ndimension())"
      ],
      "metadata": {
        "id": "jcf6dpSRT-6S",
        "colab": {
          "base_uri": "https://localhost:8080/"
        },
        "outputId": "72a92e95-b2da-4f67-ac5c-ac07547ea7eb"
      },
      "execution_count": 84,
      "outputs": [
        {
          "output_type": "stream",
          "name": "stdout",
          "text": [
            "tensor([[1, 2, 3],\n",
            "        [4, 5, 6],\n",
            "        [7, 8, 9]])\n",
            "Size: torch.Size([3, 3])\n",
            "Shape: torch.Size([3, 3])\n",
            "랭크(차원): 2\n"
          ]
        }
      ]
    },
    {
      "cell_type": "code",
      "source": [
        "# squeeze 함수: 차원이 1인 차원을 제거함.\n",
        "# 따로 차원을 설정하지 않으면 1인 차원을 모두 제거. 차원을 설정해주면 그 차원만 제거\n",
        "x2 = torch.rand(3, 1, 20, 128)\n",
        "print(x2.size())\n",
        "\n",
        "x2 = x2.squeeze() #[3, 1, 20, 128] -> [3, 20, 128]\n",
        "print(x2.size())"
      ],
      "metadata": {
        "colab": {
          "base_uri": "https://localhost:8080/"
        },
        "id": "C1k-NblRKS9F",
        "outputId": "4592a960-0cb3-4ee2-fc12-cb21504f37bb"
      },
      "execution_count": 85,
      "outputs": [
        {
          "output_type": "stream",
          "name": "stdout",
          "text": [
            "torch.Size([3, 1, 20, 128])\n",
            "torch.Size([3, 20, 128])\n"
          ]
        }
      ]
    },
    {
      "cell_type": "code",
      "source": [
        "# unsqueeze 함수: 차원이 1인 차원을 생성함.\n",
        "# 어느 차원에 1인 차원을 생성할 지 꼭 지정해주어야 함.\n",
        "x2 = x2.unsqueeze(dim=1) #[3, 20, 128] -> [3, 1, 20, 128]\n",
        "print(x2.size())"
      ],
      "metadata": {
        "colab": {
          "base_uri": "https://localhost:8080/"
        },
        "id": "LC_WZpbgLlxG",
        "outputId": "eff2e351-c3f4-412d-f858-654ab1006d0f"
      },
      "execution_count": 86,
      "outputs": [
        {
          "output_type": "stream",
          "name": "stdout",
          "text": [
            "torch.Size([3, 1, 20, 128])\n"
          ]
        }
      ]
    },
    {
      "cell_type": "code",
      "source": [
        "# 랭크 늘리기\n",
        "x = torch.unsqueeze(x, 0)\n",
        "print(x)\n",
        "print(\"Size:\", x.size())\n",
        "print(\"Shape:\", x.shape)\n",
        "print(\"랭크(차원):\", x.ndimension())"
      ],
      "metadata": {
        "id": "Ob1_TlvjT-2b",
        "colab": {
          "base_uri": "https://localhost:8080/"
        },
        "outputId": "d0888df9-fb18-497d-a5c0-b3bebfafcdf9"
      },
      "execution_count": 87,
      "outputs": [
        {
          "output_type": "stream",
          "name": "stdout",
          "text": [
            "tensor([[[1, 2, 3],\n",
            "         [4, 5, 6],\n",
            "         [7, 8, 9]]])\n",
            "Size: torch.Size([1, 3, 3])\n",
            "Shape: torch.Size([1, 3, 3])\n",
            "랭크(차원): 3\n"
          ]
        }
      ]
    },
    {
      "cell_type": "code",
      "source": [
        "# 랭크 줄이기\n",
        "x = torch.squeeze(x)\n",
        "print(x)\n",
        "print(\"Size:\", x.size())\n",
        "print(\"Shape:\", x.shape) #[3, 3] 2개의 차원에 각 3개의 원소를 가진 텐서\n",
        "print(\"랭크(차원):\", x.ndimension())"
      ],
      "metadata": {
        "id": "ibtdv7AfT-k6",
        "colab": {
          "base_uri": "https://localhost:8080/"
        },
        "outputId": "59a911f9-5b09-4a8c-e29b-2de19edb585a"
      },
      "execution_count": 88,
      "outputs": [
        {
          "output_type": "stream",
          "name": "stdout",
          "text": [
            "tensor([[1, 2, 3],\n",
            "        [4, 5, 6],\n",
            "        [7, 8, 9]])\n",
            "Size: torch.Size([3, 3])\n",
            "Shape: torch.Size([3, 3])\n",
            "랭크(차원): 2\n"
          ]
        }
      ]
    },
    {
      "cell_type": "code",
      "source": [
        "# 랭크의 형태 바꾸기\n",
        "x = x.view(9)\n",
        "print(x)\n",
        "print(\"Size:\", x.size())\n",
        "print(\"Shape:\", x.shape)\n",
        "print(\"랭크(차원):\", x.ndimension())"
      ],
      "metadata": {
        "id": "PMibEgHQT-hs",
        "colab": {
          "base_uri": "https://localhost:8080/"
        },
        "outputId": "605967d3-d753-47d5-8eeb-792a761f9e54"
      },
      "execution_count": 89,
      "outputs": [
        {
          "output_type": "stream",
          "name": "stdout",
          "text": [
            "tensor([1, 2, 3, 4, 5, 6, 7, 8, 9])\n",
            "Size: torch.Size([9])\n",
            "Shape: torch.Size([9])\n",
            "랭크(차원): 1\n"
          ]
        }
      ]
    },
    {
      "cell_type": "code",
      "source": [
        "try:\n",
        "    x = x.view(2,4)\n",
        "except Exception as e:\n",
        "    print(e) #에러 출력"
      ],
      "metadata": {
        "id": "mQFkgQ4VT-fj",
        "colab": {
          "base_uri": "https://localhost:8080/"
        },
        "outputId": "9cc54f77-92c5-4ae7-8566-6cf3dc5429f9"
      },
      "execution_count": 90,
      "outputs": [
        {
          "output_type": "stream",
          "name": "stdout",
          "text": [
            "shape '[2, 4]' is invalid for input of size 9\n"
          ]
        }
      ]
    },
    {
      "cell_type": "markdown",
      "source": [
        "#### 2.1.2 텐서를 이용한 연산과 행렬곱"
      ],
      "metadata": {
        "id": "MiOODpM3UN8I"
      }
    },
    {
      "cell_type": "code",
      "source": [
        "w = torch.randn(5,3, dtype=torch.float)\n",
        "x = torch.tensor([[1.0,2.0], [3.0,4.0], [5.0,6.0]])\n",
        "print(\"w size:\", w.size())\n",
        "print(\"x size:\", x.size())\n",
        "print(\"w:\", w)\n",
        "print(\"x:\", x)"
      ],
      "metadata": {
        "id": "AGsZ-ncQUMyJ",
        "colab": {
          "base_uri": "https://localhost:8080/"
        },
        "outputId": "f6dd3704-c00e-4d8c-edc0-df0cddf9f4ac"
      },
      "execution_count": 91,
      "outputs": [
        {
          "output_type": "stream",
          "name": "stdout",
          "text": [
            "w size: torch.Size([5, 3])\n",
            "x size: torch.Size([3, 2])\n",
            "w: tensor([[-0.7515,  1.9113, -1.0091],\n",
            "        [-1.5647,  0.0346, -0.6449],\n",
            "        [-3.2011,  1.2755,  1.0903],\n",
            "        [-0.0918,  0.1235, -0.2841],\n",
            "        [-0.1557, -0.3958, -0.8663]])\n",
            "x: tensor([[1., 2.],\n",
            "        [3., 4.],\n",
            "        [5., 6.]])\n"
          ]
        }
      ]
    },
    {
      "cell_type": "code",
      "source": [
        "b = torch.randn(5,2, dtype=torch.float)\n",
        "print(\"b:\", b.size())\n",
        "print(\"b:\", b)"
      ],
      "metadata": {
        "id": "fS_4QTW2T-cV",
        "colab": {
          "base_uri": "https://localhost:8080/"
        },
        "outputId": "1c34d47b-0e73-4f9b-dea6-7de64e152581"
      },
      "execution_count": 92,
      "outputs": [
        {
          "output_type": "stream",
          "name": "stdout",
          "text": [
            "b: torch.Size([5, 2])\n",
            "b: tensor([[-0.3390, -1.7580],\n",
            "        [-0.3537,  0.4472],\n",
            "        [-0.7040,  0.2067],\n",
            "        [-0.0256, -1.5871],\n",
            "        [-0.3597,  0.5610]])\n"
          ]
        }
      ]
    },
    {
      "cell_type": "code",
      "source": [
        "wx = torch.mm(w,x) # w의 행은 5, x의 열은 2, 즉 shape는 [5, 2]입니다.\n",
        "print(\"wx size:\", wx.size())\n",
        "print(\"wx:\", wx)"
      ],
      "metadata": {
        "id": "IR6Ras-1T-Xd",
        "colab": {
          "base_uri": "https://localhost:8080/"
        },
        "outputId": "295e0f37-98a1-4b0e-cb4e-1d708a3e4c81"
      },
      "execution_count": 93,
      "outputs": [
        {
          "output_type": "stream",
          "name": "stdout",
          "text": [
            "wx size: torch.Size([5, 2])\n",
            "wx: tensor([[-0.0632,  0.0876],\n",
            "        [-4.6853, -6.8603],\n",
            "        [ 6.0769,  5.2416],\n",
            "        [-1.1415, -1.3939],\n",
            "        [-5.6746, -7.0925]])\n"
          ]
        }
      ]
    },
    {
      "cell_type": "code",
      "source": [
        "result = wx + b\t\n",
        "print(\"result size:\", result.size()) \n",
        "print(\"result:\", result) "
      ],
      "metadata": {
        "id": "e0k6H_4uT-UI",
        "colab": {
          "base_uri": "https://localhost:8080/"
        },
        "outputId": "9de0589f-43a5-4067-abf0-b232e7c49b06"
      },
      "execution_count": 94,
      "outputs": [
        {
          "output_type": "stream",
          "name": "stdout",
          "text": [
            "result size: torch.Size([5, 2])\n",
            "result: tensor([[-0.4022, -1.6704],\n",
            "        [-5.0390, -6.4131],\n",
            "        [ 5.3728,  5.4483],\n",
            "        [-1.1671, -2.9810],\n",
            "        [-6.0343, -6.5314]])\n"
          ]
        }
      ]
    },
    {
      "cell_type": "markdown",
      "source": [
        "#### 2.1.3 자동미분(Autograd)\n",
        "- 사용법\n",
        "  1. 계산하고자 하는 수식 생성\n",
        "  2. 수식을 위한 requires_grad 값을 True로 설정. 파이토치의 Autograd 기능으로 자동 계산할 때 수식에 대한 미분값을 '수식.grad'에 저장\n",
        "  3. backward() 함수를 사용하여 수식에 연쇄법칙을 적용하고 수식을 차례대로 미분"
      ],
      "metadata": {
        "id": "P1Ckr7uuU2VZ"
      }
    },
    {
      "cell_type": "code",
      "source": [
        "w = torch.tensor(1.0, requires_grad=True) # 미분 가능 선언 = 변수 선언\n",
        "a = w*3 # 함수를 만드는 중\n",
        "l = a**2 # i = (3*w)^2 # 함수를 만드는 중 2\n",
        "l.backward() # 수식 l을 미분!!\n",
        "print(w.grad) # 미분 결과는 변수에 저장\n",
        "print('l을 w로 미분한 값은 {}'.format(w.grad))"
      ],
      "metadata": {
        "id": "axCxJPc5T-Qn",
        "colab": {
          "base_uri": "https://localhost:8080/"
        },
        "outputId": "a113d322-976e-4bb7-ed8c-98ff6463931a"
      },
      "execution_count": 109,
      "outputs": [
        {
          "output_type": "stream",
          "name": "stdout",
          "text": [
            "tensor(18.)\n",
            "l을 w로 미분한 값은 18.0\n"
          ]
        }
      ]
    },
    {
      "cell_type": "code",
      "source": [
        "w.grad"
      ],
      "metadata": {
        "colab": {
          "base_uri": "https://localhost:8080/"
        },
        "id": "ZQTK_hnxXsMX",
        "outputId": "d5ca9ddc-8419-4327-8de4-85e0e5d5dc97"
      },
      "execution_count": 110,
      "outputs": [
        {
          "output_type": "execute_result",
          "data": {
            "text/plain": [
              "tensor(18.)"
            ]
          },
          "metadata": {},
          "execution_count": 110
        }
      ]
    },
    {
      "cell_type": "markdown",
      "source": [
        "- 경사하강법으로 이미지 복원하기\n",
        "  - 문제의 개요\n",
        "    - 이미지 처리를 위해 만들어 두었던 weird_function() 함수에 실수로 버그가 들어가 100×100 픽셀의 오염된 미미지가 만들어졌다. \n",
        "    - 이 오염된 이미지와 오염되기 전 원본 이미지를 동시에 파일로 저장하려고 했으나, 모종의 이유로 원본 이미지 파일은 삭제된 상황이다. \n",
        "    - 다행히 weird_function()의 소스코드는 남아 있다. \n",
        "    - 오염된 이미지와 weird_function()을 활용해 원본 이미지를 복원해보자.\n",
        "<br><br>\n",
        "  - 일반적인 접근 방법\n",
        "    1. weird_function() 함수의 소스코드 분석\n",
        "    2. 분석을 토대로 weird_function() 함수의 동작을 반대로 이행하는 함수 구현\n",
        "    3. 2에서 구현한 함수에 오염된 이미지를 입력한 후, 복구된 이미지 출력\n",
        "<br><br>\n",
        "  - 머신러닝 방식의 접근 방법(사고 방법)\n",
        "    1. 오염된 이미지와 같은 크기의 랜덤 텐서를 생성한다.\n",
        "    2. 랜덤 텐서를 weird_function() 함수에 입력해 똑같이 오염된 이미지를 가설이라고 부른다.\n",
        "      - (사실) 원본 이미지가 weird_function() 함수에 입력되어 오염된 이미지를 출력했다.\n",
        "      - (사실) 인위적으로 생성한 무작위 이미지가 weird_function() 함수에 입력되어 가설을 출력했다.\n",
        "    3. 가설과 오염된 이미지가 같다면 무작위 이미지와 원본 이미지도 같을 것이다.\n",
        "    4. 그러므로 weird_function(random_tensor) = broken_image 관계가 성립하도록 만든다."
      ],
      "metadata": {
        "id": "LH2D7EwRVSg3"
      }
    },
    {
      "cell_type": "code",
      "source": [
        "from google.colab import drive\n",
        "drive.mount(\"/gdrive\", force_remount=True)"
      ],
      "metadata": {
        "id": "fh3vsX7kVMxn",
        "colab": {
          "base_uri": "https://localhost:8080/"
        },
        "outputId": "95590f1b-e6e8-4ae7-a149-7652c28b26e9"
      },
      "execution_count": 113,
      "outputs": [
        {
          "output_type": "stream",
          "name": "stdout",
          "text": [
            "Mounted at /gdrive\n"
          ]
        }
      ]
    },
    {
      "cell_type": "code",
      "source": [
        "!wget https://github.com/aidalab-garnet/nlp/raw/main/data/broken_image_t.p"
      ],
      "metadata": {
        "colab": {
          "base_uri": "https://localhost:8080/"
        },
        "id": "BvGRufWud5Qm",
        "outputId": "7b394ac8-cee3-4f99-fad0-8f6c6b16ac38"
      },
      "execution_count": 116,
      "outputs": [
        {
          "output_type": "stream",
          "name": "stdout",
          "text": [
            "--2022-01-17 05:17:04--  https://github.com/aidalab-garnet/nlp/raw/main/data/broken_image_t.p\n",
            "Resolving github.com (github.com)... 192.30.255.113\n",
            "Connecting to github.com (github.com)|192.30.255.113|:443... connected.\n",
            "HTTP request sent, awaiting response... 302 Found\n",
            "Location: https://raw.githubusercontent.com/aidalab-garnet/nlp/main/data/broken_image_t.p [following]\n",
            "--2022-01-17 05:17:04--  https://raw.githubusercontent.com/aidalab-garnet/nlp/main/data/broken_image_t.p\n",
            "Resolving raw.githubusercontent.com (raw.githubusercontent.com)... 185.199.108.133, 185.199.109.133, 185.199.110.133, ...\n",
            "Connecting to raw.githubusercontent.com (raw.githubusercontent.com)|185.199.108.133|:443... connected.\n",
            "HTTP request sent, awaiting response... 200 OK\n",
            "Length: 80162 (78K) [application/octet-stream]\n",
            "Saving to: ‘broken_image_t.p’\n",
            "\n",
            "broken_image_t.p    100%[===================>]  78.28K  --.-KB/s    in 0.008s  \n",
            "\n",
            "2022-01-17 05:17:04 (9.53 MB/s) - ‘broken_image_t.p’ saved [80162/80162]\n",
            "\n"
          ]
        }
      ]
    },
    {
      "cell_type": "code",
      "source": [
        "!pwd "
      ],
      "metadata": {
        "colab": {
          "base_uri": "https://localhost:8080/"
        },
        "id": "QTmdARcpd7TV",
        "outputId": "956f9fb0-1663-4d49-ce1f-35684fffae03"
      },
      "execution_count": 120,
      "outputs": [
        {
          "output_type": "stream",
          "name": "stdout",
          "text": [
            "/content\n"
          ]
        }
      ]
    },
    {
      "cell_type": "code",
      "source": [
        "# DATA_PATH = \"/c/My Drive/Lectures/NLP/data/\"\n",
        "DATA_PATH = \"/content/\" "
      ],
      "metadata": {
        "id": "BhMub7ODd-2N"
      },
      "execution_count": 121,
      "outputs": []
    },
    {
      "cell_type": "code",
      "source": [
        "import torch\n",
        "import pickle\n",
        "import matplotlib.pyplot as plt"
      ],
      "metadata": {
        "id": "9GLiCOHVVMtA"
      },
      "execution_count": 122,
      "outputs": []
    },
    {
      "cell_type": "code",
      "source": [
        "shp_original_img = (100, 100)\n",
        "filepath = '{}{}'.format(DATA_PATH, 'broken_image_t.p')\n",
        "broken_image = torch.FloatTensor(pickle.load(open(filepath, 'rb'),encoding='latin1'))"
      ],
      "metadata": {
        "id": "xuUYOHypVMok"
      },
      "execution_count": 123,
      "outputs": []
    },
    {
      "cell_type": "code",
      "source": [
        "plt.imshow(broken_image.view(100,100)) "
      ],
      "metadata": {
        "id": "hcydtI_xpdU0",
        "colab": {
          "base_uri": "https://localhost:8080/",
          "height": 286
        },
        "outputId": "9ca3f9ea-459e-44a1-b950-6ddb8eec340e"
      },
      "execution_count": 124,
      "outputs": [
        {
          "output_type": "execute_result",
          "data": {
            "text/plain": [
              "<matplotlib.image.AxesImage at 0x7fd34e292d10>"
            ]
          },
          "metadata": {},
          "execution_count": 124
        },
        {
          "output_type": "display_data",
          "data": {
            "image/png": "[encoded data removed]",
            "text/plain": [
              "<Figure size 432x288 with 1 Axes>"
            ]
          },
          "metadata": {
            "needs_background": "light"
          }
        }
      ]
    },
    {
      "cell_type": "code",
      "source": [
        "def weird_function(x, n_iter=5):\n",
        "    h = x    \n",
        "    filt = torch.tensor([-1./3, 1./3, -1./3])\n",
        "    for i in range(n_iter):\n",
        "        zero_tensor = torch.tensor([1.0*0])\n",
        "        h_l = torch.cat( (zero_tensor, h[:-1]), 0)\n",
        "        h_r = torch.cat((h[1:], zero_tensor), 0 )\n",
        "        h = filt[0] * h + filt[2] * h_l + filt[1] * h_r\n",
        "        if i % 2 == 0:\n",
        "            h = torch.cat( (h[h.shape[0]//2:],h[:h.shape[0]//2]), 0  )\n",
        "    return h"
      ],
      "metadata": {
        "id": "rPL0SqRzphBR"
      },
      "execution_count": 125,
      "outputs": []
    },
    {
      "cell_type": "code",
      "source": [
        "def distance_loss(hypothesis, broken_image):    \n",
        "    return torch.dist(hypothesis, broken_image)"
      ],
      "metadata": {
        "id": "jr7d6Nz9pg9u"
      },
      "execution_count": 126,
      "outputs": []
    },
    {
      "cell_type": "code",
      "source": [
        "random_tensor = torch.randn(10000, dtype = torch.float)"
      ],
      "metadata": {
        "id": "EEzUsgnspg5w"
      },
      "execution_count": 127,
      "outputs": []
    },
    {
      "cell_type": "code",
      "source": [
        "lr = 0.8\n",
        "for i in range(0,20000): \n",
        "    random_tensor.requires_grad_(True) # 미분 가능 설정 # 변수 설정\n",
        "    hypothesis = weird_function(random_tensor) # 생성한 이미지 (가설 공간)\n",
        "    loss = distance_loss(hypothesis, broken_image) # 와 깨진 이미지의 오차 계산\n",
        "    loss.backward() # 미분 !!! random_tensor에 대해서\n",
        "    with torch.no_grad(): # 만약 미분 허용 안된 경우는 (아래 연산 실행)\n",
        "        random_tensor = random_tensor - lr*random_tensor.grad\n",
        "    if i % 1000 == 0:\n",
        "        print('Loss at {} = {}'.format(i, loss.item()))"
      ],
      "metadata": {
        "id": "FjWPlu95pg2i",
        "colab": {
          "base_uri": "https://localhost:8080/"
        },
        "outputId": "90122338-3faa-4fc8-cedf-f9042ed79c5f"
      },
      "execution_count": 128,
      "outputs": [
        {
          "output_type": "stream",
          "name": "stdout",
          "text": [
            "Loss at 0 = 12.427712440490723\n",
            "Loss at 1000 = 1.1530799865722656\n",
            "Loss at 2000 = 0.538630485534668\n",
            "Loss at 3000 = 0.37454769015312195\n",
            "Loss at 4000 = 0.29675722122192383\n",
            "Loss at 5000 = 0.24874137341976166\n",
            "Loss at 6000 = 0.21442125737667084\n",
            "Loss at 7000 = 0.18738871812820435\n",
            "Loss at 8000 = 0.16458724439144135\n",
            "Loss at 9000 = 0.1444064825773239\n",
            "Loss at 10000 = 0.12594112753868103\n",
            "Loss at 11000 = 0.1086544468998909\n",
            "Loss at 12000 = 0.09221463650465012\n",
            "Loss at 13000 = 0.07640735805034637\n",
            "Loss at 14000 = 0.061089105904102325\n",
            "Loss at 15000 = 0.04616151005029678\n",
            "Loss at 16000 = 0.03155668079853058\n",
            "Loss at 17000 = 0.02114260569214821\n",
            "Loss at 18000 = 0.0211652722209692\n",
            "Loss at 19000 = 0.021167278289794922\n"
          ]
        }
      ]
    },
    {
      "cell_type": "code",
      "source": [
        "torch.no_grad()"
      ],
      "metadata": {
        "colab": {
          "base_uri": "https://localhost:8080/"
        },
        "id": "6xaSUV77fqWH",
        "outputId": "9fb91159-70c2-41fd-d184-a091ca952d89"
      },
      "execution_count": 139,
      "outputs": [
        {
          "output_type": "execute_result",
          "data": {
            "text/plain": [
              "<torch.autograd.grad_mode.no_grad at 0x7fd3401442d0>"
            ]
          },
          "metadata": {},
          "execution_count": 139
        }
      ]
    },
    {
      "cell_type": "code",
      "source": [
        "with torch.no_grad():\n",
        "    print(\"y\")"
      ],
      "metadata": {
        "colab": {
          "base_uri": "https://localhost:8080/"
        },
        "id": "rwllSiTEfjPW",
        "outputId": "6bda10ea-8eaf-4f4a-e9d9-af81a72ad42a"
      },
      "execution_count": 138,
      "outputs": [
        {
          "output_type": "stream",
          "name": "stdout",
          "text": [
            "y\n"
          ]
        }
      ]
    },
    {
      "cell_type": "code",
      "source": [
        "img_channel_swap_1 = tf.reverse(img, axis=[-1])"
      ],
      "metadata": {
        "id": "t-oSHVo5f88l"
      },
      "execution_count": null,
      "outputs": []
    },
    {
      "cell_type": "code",
      "source": [
        "type(random_tensor.view(100,100)) , type(random_tensor.view(100,100).data)"
      ],
      "metadata": {
        "colab": {
          "base_uri": "https://localhost:8080/"
        },
        "id": "4zvcnN3igFRH",
        "outputId": "6dfb423b-18c9-4784-e2cf-cd53a78c5254"
      },
      "execution_count": 144,
      "outputs": [
        {
          "output_type": "execute_result",
          "data": {
            "text/plain": [
              "(torch.Tensor, torch.Tensor)"
            ]
          },
          "metadata": {},
          "execution_count": 144
        }
      ]
    },
    {
      "cell_type": "code",
      "source": [
        "random_tensor.size(), random_tensor.shape"
      ],
      "metadata": {
        "colab": {
          "base_uri": "https://localhost:8080/"
        },
        "id": "MzTPqhnCgPJG",
        "outputId": "0f4103aa-53f1-4df3-822d-77151156ad37"
      },
      "execution_count": 148,
      "outputs": [
        {
          "output_type": "execute_result",
          "data": {
            "text/plain": [
              "(torch.Size([10000]), torch.Size([10000]))"
            ]
          },
          "metadata": {},
          "execution_count": 148
        }
      ]
    },
    {
      "cell_type": "code",
      "source": [
        "import cv2\n",
        "\n",
        "plt.imshow(random_tensor.view(100,100))"
      ],
      "metadata": {
        "id": "G4r2WDuKpgy1",
        "colab": {
          "base_uri": "https://localhost:8080/",
          "height": 286
        },
        "outputId": "82a8d6f0-6983-44ae-bdff-f1f25cc25e83"
      },
      "execution_count": 145,
      "outputs": [
        {
          "output_type": "execute_result",
          "data": {
            "text/plain": [
              "<matplotlib.image.AxesImage at 0x7fd30d9c4550>"
            ]
          },
          "metadata": {},
          "execution_count": 145
        },
        {
          "output_type": "display_data",
          "data": {
            "image/png": "[encoded data removed]",
            "text/plain": [
              "<Figure size 432x288 with 1 Axes>"
            ]
          },
          "metadata": {
            "needs_background": "light"
          }
        }
      ]
    },
    {
      "cell_type": "markdown",
      "source": [
        "### 2.2 신경망 모델 구현"
      ],
      "metadata": {
        "id": "3rcYbZcEpq-K"
      }
    },
    {
      "cell_type": "markdown",
      "source": [
        "#### 2.2.1 기본 형태"
      ],
      "metadata": {
        "id": "kKr5CaJ0yJaJ"
      }
    },
    {
      "cell_type": "code",
      "source": [
        "import torch\n",
        "import numpy\n",
        "from sklearn.datasets import make_blobs\n",
        "import matplotlib.pyplot as plt"
      ],
      "metadata": {
        "id": "U4OqF8nvpgu9"
      },
      "execution_count": 149,
      "outputs": []
    },
    {
      "cell_type": "code",
      "source": [
        "n_dim = 2\n",
        "x_train, y_train = make_blobs(n_samples=80, n_features=n_dim, centers=[[1,1],[-1,-1],[1,-1],[-1,1]], shuffle=True, cluster_std=0.3)\n",
        "x_test, y_test = make_blobs(n_samples=20, n_features=n_dim, centers=[[1,1],[-1,-1],[1,-1],[-1,1]], shuffle=True, cluster_std=0.3)"
      ],
      "metadata": {
        "id": "hNeFQDlTp8ou"
      },
      "execution_count": 150,
      "outputs": []
    },
    {
      "cell_type": "code",
      "source": [
        "def label_map(y_, from_, to_):\n",
        "    y = numpy.copy(y_)\n",
        "    for f in from_:\n",
        "        y[y_ == f] = to_\n",
        "    return y\n",
        "\n",
        "y_train = label_map(y_train, [0, 1], 0)\n",
        "y_train = label_map(y_train, [2, 3], 1)\n",
        "y_test = label_map(y_test, [0, 1], 0)\n",
        "y_test = label_map(y_test, [2, 3], 1)"
      ],
      "metadata": {
        "id": "DS94zOAtp9zb"
      },
      "execution_count": 151,
      "outputs": []
    },
    {
      "cell_type": "code",
      "source": [
        "def vis_data(x,y = None, c = 'r'):\n",
        "    if y is None:\n",
        "        y = [None] * len(x)\n",
        "    for x_, y_ in zip(x,y):\n",
        "        if y_ is None:\n",
        "            plt.plot(x_[0], x_[1], '*',markerfacecolor='none', markeredgecolor=c)\n",
        "        else:\n",
        "            plt.plot(x_[0], x_[1], c+'o' if y_ == 0 else c+'+')\n",
        "\n",
        "plt.figure()\n",
        "vis_data(x_train, y_train, c='r')\n",
        "plt.show()"
      ],
      "metadata": {
        "id": "CHuRL3UDp9wj",
        "colab": {
          "base_uri": "https://localhost:8080/",
          "height": 265
        },
        "outputId": "9cfb0e7d-eb53-4708-9ca3-2cbd1d845227"
      },
      "execution_count": 153,
      "outputs": [
        {
          "output_type": "display_data",
          "data": {
            "image/png": "[encoded data removed]",
            "text/plain": [
              "<Figure size 432x288 with 1 Axes>"
            ]
          },
          "metadata": {
            "needs_background": "light"
          }
        }
      ]
    },
    {
      "cell_type": "code",
      "source": [
        "x_train = torch.FloatTensor(x_train)\n",
        "print(x_train.shape)\n",
        "x_test = torch.FloatTensor(x_test)\n",
        "y_train = torch.FloatTensor(y_train)\n",
        "y_test = torch.FloatTensor(y_test)"
      ],
      "metadata": {
        "id": "vMlYfuCWp9sy",
        "colab": {
          "base_uri": "https://localhost:8080/"
        },
        "outputId": "5f22b029-2bce-4029-c050-8b42d2a597d8"
      },
      "execution_count": 154,
      "outputs": [
        {
          "output_type": "stream",
          "name": "stdout",
          "text": [
            "torch.Size([80, 2])\n"
          ]
        }
      ]
    },
    {
      "cell_type": "code",
      "source": [
        "class NeuralNet(torch.nn.Module):\n",
        "    def __init__(self, input_size, hidden_size):\n",
        "        super(NeuralNet, self).__init__() # 부모의 생성자 실행\n",
        "        self.input_size = input_size\n",
        "        self.hidden_size  = hidden_size\n",
        "        self.linear_1 = torch.nn.Linear(self.input_size, self.hidden_size) #입력값의 개수, 노드의 개수 for 1st layer\n",
        "        self.relu = torch.nn.ReLU()\n",
        "        self.linear_2 = torch.nn.Linear(self.hidden_size, 1) # 이전층의 노드 개수(= 이전 층의 출력 개수) = 다음 층의 입력 개수\n",
        "        self.sigmoid = torch.nn.Sigmoid()\n",
        "        \n",
        "    def forward(self, input_tensor): # kears의 model.Sequeintial()을 구현해주기 !!\n",
        "        linear1 = self.linear_1(input_tensor)\n",
        "        relu = self.relu(linear1) # tf.keras의 Dense Layer\n",
        "        linear2 = self.linear_2(relu)\n",
        "        output = self.sigmoid(linear2) # 출력층 , sigmoid\n",
        "        return output"
      ],
      "metadata": {
        "id": "WlEO_AZPqD1R"
      },
      "execution_count": 155,
      "outputs": []
    },
    {
      "cell_type": "code",
      "source": [
        "model = NeuralNet(2, 5)\n",
        "learning_rate = 0.03\n",
        "criterion = torch.nn.BCELoss()\n",
        "epochs = 2000\n",
        "optimizer = torch.optim.SGD(model.parameters(), lr = learning_rate)"
      ],
      "metadata": {
        "id": "jzmpBDwJqDx1"
      },
      "execution_count": 156,
      "outputs": []
    },
    {
      "cell_type": "code",
      "source": [
        "for epoch in range(epochs):\n",
        "    model.train()\n",
        "    optimizer.zero_grad() # optimizer 0 초기화\n",
        "    train_output = model(x_train)\n",
        "    train_loss = criterion(train_output.squeeze(), y_train) # loss 함수 계산\n",
        "    if epoch % 100 == 0:\n",
        "        print('Train loss at {} is {}'.format(epoch, train_loss.item()))\n",
        "    train_loss.backward() # 자동 미분\n",
        "    optimizer.step()"
      ],
      "metadata": {
        "id": "bzu_2t92qDum",
        "colab": {
          "base_uri": "https://localhost:8080/"
        },
        "outputId": "bec9e21a-93a5-4a30-928b-3bd3b8ed7164"
      },
      "execution_count": 157,
      "outputs": [
        {
          "output_type": "stream",
          "name": "stdout",
          "text": [
            "Train loss at 0 is 0.8105130195617676\n",
            "Train loss at 100 is 0.6994919776916504\n",
            "Train loss at 200 is 0.6764496564865112\n",
            "Train loss at 300 is 0.6434085965156555\n",
            "Train loss at 400 is 0.5831032991409302\n",
            "Train loss at 500 is 0.49165964126586914\n",
            "Train loss at 600 is 0.3790009617805481\n",
            "Train loss at 700 is 0.2831186354160309\n",
            "Train loss at 800 is 0.21749868988990784\n",
            "Train loss at 900 is 0.1702110916376114\n",
            "Train loss at 1000 is 0.1358998715877533\n",
            "Train loss at 1100 is 0.11074509471654892\n",
            "Train loss at 1200 is 0.09206626564264297\n",
            "Train loss at 1300 is 0.07763566076755524\n",
            "Train loss at 1400 is 0.06659574806690216\n",
            "Train loss at 1500 is 0.057997457683086395\n",
            "Train loss at 1600 is 0.051153313368558884\n",
            "Train loss at 1700 is 0.04561259225010872\n",
            "Train loss at 1800 is 0.04104319214820862\n",
            "Train loss at 1900 is 0.03721948340535164\n"
          ]
        }
      ]
    },
    {
      "cell_type": "code",
      "source": [
        "model.eval()\n",
        "test_loss = criterion(torch.squeeze(model(x_test)), y_test)\n",
        "print('After Training, test loss is {}'.format(test_loss.item()))"
      ],
      "metadata": {
        "id": "ydduMaFfqDrO",
        "colab": {
          "base_uri": "https://localhost:8080/"
        },
        "outputId": "b7e0557b-9965-466e-f1a5-dd8394b12b84"
      },
      "execution_count": 158,
      "outputs": [
        {
          "output_type": "stream",
          "name": "stdout",
          "text": [
            "After Training, test loss is 0.04086821526288986\n"
          ]
        }
      ]
    },
    {
      "cell_type": "code",
      "source": [
        "torch.save(model.state_dict(), DATA_PATH+'/model.pt') # {p}y{t}orch\n",
        "print('state_dict format of the model: {}'.format(model.state_dict()))"
      ],
      "metadata": {
        "id": "cBJIQ-qMqDnX",
        "colab": {
          "base_uri": "https://localhost:8080/"
        },
        "outputId": "12efc99c-64c3-47a4-abfb-fba27e0df15c"
      },
      "execution_count": 159,
      "outputs": [
        {
          "output_type": "stream",
          "name": "stdout",
          "text": [
            "state_dict format of the model: OrderedDict([('linear_1.weight', tensor([[ 1.2263, -1.2760],\n",
            "        [-0.1576,  0.2914],\n",
            "        [ 1.8054,  1.4663],\n",
            "        [-1.7669, -1.6713],\n",
            "        [-1.1132,  0.6309]])), ('linear_1.bias', tensor([ 0.0915, -0.6835, -0.0580, -0.2041,  0.6139])), ('linear_2.weight', tensor([[ 1.7271,  0.3589, -2.1433, -2.3275,  1.1767]])), ('linear_2.bias', tensor([1.1172]))])\n"
          ]
        }
      ]
    },
    {
      "cell_type": "code",
      "source": [
        "new_model = NeuralNet(2, 5)\n",
        "new_model.load_state_dict(torch.load(DATA_PATH+'/model.pt'))\n",
        "new_model.eval()\n",
        "print('벡터 [-1, 1]이 레이블 1을 가질 확률은 {}'.format(new_model(torch.FloatTensor([-1,1])).item()))"
      ],
      "metadata": {
        "id": "xpKF9VjaqSjE",
        "colab": {
          "base_uri": "https://localhost:8080/"
        },
        "outputId": "9fd3d723-cf84-4e8b-f2c8-9d5f2bdce473"
      },
      "execution_count": 161,
      "outputs": [
        {
          "output_type": "stream",
          "name": "stdout",
          "text": [
            "벡터 [-1, 1]이 레이블 1을 가질 확률은 0.9799991846084595\n"
          ]
        }
      ]
    },
    {
      "cell_type": "markdown",
      "source": [
        "#### 2.2.2 DNN 구현"
      ],
      "metadata": {
        "id": "es1oZiWPyQGW"
      }
    },
    {
      "cell_type": "markdown",
      "source": [
        "- Fashion MNIST 데이터셋"
      ],
      "metadata": {
        "id": "_c9mkfkT0gWI"
      }
    },
    {
      "cell_type": "code",
      "source": [
        "import torch\n",
        "import torch.nn as nn\n",
        "import torch.optim as optim\n",
        "import torch.nn.functional as F\n",
        "from torchvision import datasets, transforms, utils\n",
        "from torch.utils import data\n",
        "import matplotlib.pyplot as plt\n",
        "import numpy as np"
      ],
      "metadata": {
        "id": "r60KDQUc0TeC"
      },
      "execution_count": 162,
      "outputs": []
    },
    {
      "cell_type": "code",
      "source": [
        "transform = transforms.Compose([\n",
        "    transforms.ToTensor()\n",
        "])"
      ],
      "metadata": {
        "id": "L1rKyL-N0rYm"
      },
      "execution_count": 163,
      "outputs": []
    },
    {
      "cell_type": "code",
      "source": [
        "trainset = datasets.FashionMNIST(\n",
        "    root      = './.data/', \n",
        "    train     = True,\n",
        "    download  = True,\n",
        "    transform = transform\n",
        ")\n",
        "testset = datasets.FashionMNIST(\n",
        "    root      = './.data/', \n",
        "    train     = False,\n",
        "    download  = True,\n",
        "    transform = transform\n",
        ")"
      ],
      "metadata": {
        "id": "FlDlV4kw0rUf",
        "colab": {
          "base_uri": "https://localhost:8080/",
          "height": 439,
          "referenced_widgets": [
            "9493888c413f4d36877f5a74737f56f7",
            "bb07eb56dd554691b8f71b6833565a27",
            "4083158be3c945d99990e3440fd4897a",
            "ae335317e6504beeb4d7526747ffda6a",
            "ce6587dcdb954d98b7a7a2d2d265b823",
            "7bf47691b25343f5a1f1bd2c4f195ed3",
            "36fb56786d8c449a86d94958dc683a9c",
            "40f284e489334410bf4483ff463c16d1",
            "e5bb43fc1af0444e8d25900b732d5ec4",
            "8ef624d08c924cb5854eeed44bcf37d0",
            "5b9119c6fb9049709c51d22a9b8d3969",
            "9804b703e1fe40179cfc30eb61bef8f6",
            "328b8cc77dae46fd839352533d1019e1",
            "7ac35e902e3b4cdd89beb38228fc25a0",
            "c9370f418a9e405c96c47cab066b17d4",
            "68fe79817c724015826b984e57e50f0d",
            "eb9dedeaa51c4c3c96f6880bda10315f",
            "9cd620b96d394c0a9e0a0992249ffe09",
            "5dd90022677c4195bb45f1829fdc243b",
            "d425a537477e448abd19bbc34fae47f5",
            "be49fbf631f44fe59136aaa62deb61e2",
            "1ba47eb46a3b4783b0b8fceca21239b9",
            "41aee329f2ea4a1b930d34d896c6c826",
            "f28967c4b4594c3b818d72cc67d0b6b9",
            "d8cf62978862459e82e5f6a4f2de3386",
            "029fd57bd1b849d99e401f428d9c5e15",
            "8568f63a9a774e15b260a060b83b7689",
            "2da48c14dcee4392a0d08b6dbb8ddeac",
            "46d5968dc9724c42ad74c0aac3ff470d",
            "5c8139ed47934d0ba1cb30bd14a6da5a",
            "2a8d6a19daa044c0a0509cffe529d59c",
            "f9a0328d11294fb69e18e083cea9fd70",
            "8b54af0a0c9d4b3aaabb2eafdddd39cc",
            "b86991f233ca4355a2749a0b7f42b181",
            "5a9a282494284b999d8a0fde8dfe7b92",
            "e4e008375a7f4670beab0a6aef5e11ac",
            "f4af62fb88ae435ca767719f8533f688",
            "80fb340e5da74f1089ce8ecdf0c78706",
            "c2853f66a6504cdd90ae0ab4e482a764",
            "e1c1fb0426fe4e33877a158338c2ee01",
            "953e2233f0f24e7b94049b1fbde03faf",
            "55460ab25fca4d358962cf91e8a0e0bb",
            "88d265a73372477c9475b197b0840b40",
            "33711d735f7e4a3ea82d68a95f392336"
          ]
        },
        "outputId": "6696173f-9afc-4ce8-f413-d92c8f3936df"
      },
      "execution_count": 164,
      "outputs": [
        {
          "output_type": "stream",
          "name": "stdout",
          "text": [
            "Downloading http://fashion-mnist.s3-website.eu-central-1.amazonaws.com/train-images-idx3-ubyte.gz\n",
            "Downloading http://fashion-mnist.s3-website.eu-central-1.amazonaws.com/train-images-idx3-ubyte.gz to ./.data/FashionMNIST/raw/train-images-idx3-ubyte.gz\n"
          ]
        },
        {
          "output_type": "display_data",
          "data": {
            "application/vnd.jupyter.widget-view+json": {
              "model_id": "9493888c413f4d36877f5a74737f56f7",
              "version_minor": 0,
              "version_major": 2
            },
            "text/plain": [
              "  0%|          | 0/26421880 [00:00<?, ?it/s]"
            ]
          },
          "metadata": {}
        },
        {
          "output_type": "stream",
          "name": "stdout",
          "text": [
            "Extracting ./.data/FashionMNIST/raw/train-images-idx3-ubyte.gz to ./.data/FashionMNIST/raw\n",
            "\n",
            "Downloading http://fashion-mnist.s3-website.eu-central-1.amazonaws.com/train-labels-idx1-ubyte.gz\n",
            "Downloading http://fashion-mnist.s3-website.eu-central-1.amazonaws.com/train-labels-idx1-ubyte.gz to ./.data/FashionMNIST/raw/train-labels-idx1-ubyte.gz\n"
          ]
        },
        {
          "output_type": "display_data",
          "data": {
            "application/vnd.jupyter.widget-view+json": {
              "model_id": "9804b703e1fe40179cfc30eb61bef8f6",
              "version_minor": 0,
              "version_major": 2
            },
            "text/plain": [
              "  0%|          | 0/29515 [00:00<?, ?it/s]"
            ]
          },
          "metadata": {}
        },
        {
          "output_type": "stream",
          "name": "stdout",
          "text": [
            "Extracting ./.data/FashionMNIST/raw/train-labels-idx1-ubyte.gz to ./.data/FashionMNIST/raw\n",
            "\n",
            "Downloading http://fashion-mnist.s3-website.eu-central-1.amazonaws.com/t10k-images-idx3-ubyte.gz\n",
            "Downloading http://fashion-mnist.s3-website.eu-central-1.amazonaws.com/t10k-images-idx3-ubyte.gz to ./.data/FashionMNIST/raw/t10k-images-idx3-ubyte.gz\n"
          ]
        },
        {
          "output_type": "display_data",
          "data": {
            "application/vnd.jupyter.widget-view+json": {
              "model_id": "41aee329f2ea4a1b930d34d896c6c826",
              "version_minor": 0,
              "version_major": 2
            },
            "text/plain": [
              "  0%|          | 0/4422102 [00:00<?, ?it/s]"
            ]
          },
          "metadata": {}
        },
        {
          "output_type": "stream",
          "name": "stdout",
          "text": [
            "Extracting ./.data/FashionMNIST/raw/t10k-images-idx3-ubyte.gz to ./.data/FashionMNIST/raw\n",
            "\n",
            "Downloading http://fashion-mnist.s3-website.eu-central-1.amazonaws.com/t10k-labels-idx1-ubyte.gz\n",
            "Downloading http://fashion-mnist.s3-website.eu-central-1.amazonaws.com/t10k-labels-idx1-ubyte.gz to ./.data/FashionMNIST/raw/t10k-labels-idx1-ubyte.gz\n"
          ]
        },
        {
          "output_type": "display_data",
          "data": {
            "application/vnd.jupyter.widget-view+json": {
              "model_id": "b86991f233ca4355a2749a0b7f42b181",
              "version_minor": 0,
              "version_major": 2
            },
            "text/plain": [
              "  0%|          | 0/5148 [00:00<?, ?it/s]"
            ]
          },
          "metadata": {}
        },
        {
          "output_type": "stream",
          "name": "stdout",
          "text": [
            "Extracting ./.data/FashionMNIST/raw/t10k-labels-idx1-ubyte.gz to ./.data/FashionMNIST/raw\n",
            "\n"
          ]
        }
      ]
    },
    {
      "cell_type": "code",
      "source": [
        "EPOCHS = 30\n",
        "BATCH_SIZE = 64"
      ],
      "metadata": {
        "id": "rBgjT7tx3KhJ"
      },
      "execution_count": 165,
      "outputs": []
    },
    {
      "cell_type": "code",
      "source": [
        "train_loader = data.DataLoader( # tf.keras의 DataGenerator\n",
        "    dataset     = trainset,\n",
        "    batch_size  = BATCH_SIZE\n",
        ")\n",
        "test_loader = data.DataLoader(\n",
        "    dataset     = testset,\n",
        "    batch_size  = BATCH_SIZE\n",
        ")"
      ],
      "metadata": {
        "id": "FxvKReVl0rRX"
      },
      "execution_count": 166,
      "outputs": []
    },
    {
      "cell_type": "code",
      "source": [
        "dataiter       = iter(train_loader)\n",
        "images, labels = next(dataiter)"
      ],
      "metadata": {
        "id": "YQITYWwd0rOM"
      },
      "execution_count": 167,
      "outputs": []
    },
    {
      "cell_type": "code",
      "source": [
        "img   = utils.make_grid(images, padding=0)\n",
        "npimg = img.numpy()\n",
        "plt.figure(figsize=(10, 7))\n",
        "plt.imshow(np.transpose(npimg, (1,2,0)))\n",
        "plt.show()"
      ],
      "metadata": {
        "id": "weFcGKHU0rK6",
        "colab": {
          "base_uri": "https://localhost:8080/",
          "height": 432
        },
        "outputId": "7ef223c1-cd7f-48c1-b0f1-89e6c22a1aed"
      },
      "execution_count": 168,
      "outputs": [
        {
          "output_type": "display_data",
          "data": {
            "image/png": "[encoded data removed]",
            "text/plain": [
              "<Figure size 720x504 with 1 Axes>"
            ]
          },
          "metadata": {
            "needs_background": "light"
          }
        }
      ]
    },
    {
      "cell_type": "code",
      "source": [
        "print(labels)"
      ],
      "metadata": {
        "id": "I40H0mks0rHR",
        "colab": {
          "base_uri": "https://localhost:8080/"
        },
        "outputId": "9d6d84c4-34e8-4209-aea6-41aed801d6e9"
      },
      "execution_count": 169,
      "outputs": [
        {
          "output_type": "stream",
          "name": "stdout",
          "text": [
            "tensor([9, 0, 0, 3, 0, 2, 7, 2, 5, 5, 0, 9, 5, 5, 7, 9, 1, 0, 6, 4, 3, 1, 4, 8,\n",
            "        4, 3, 0, 2, 4, 4, 5, 3, 6, 6, 0, 8, 5, 2, 1, 6, 6, 7, 9, 5, 9, 2, 7, 3,\n",
            "        0, 3, 3, 3, 7, 2, 2, 6, 6, 8, 3, 3, 5, 0, 5, 5])\n"
          ]
        }
      ]
    },
    {
      "cell_type": "code",
      "source": [
        "CLASSES = {\n",
        "    0: 'T-shirt/top',\n",
        "    1: 'Trouser',\n",
        "    2: 'Pullover',\n",
        "    3: 'Dress',\n",
        "    4: 'Coat',\n",
        "    5: 'Sandal',\n",
        "    6: 'Shirt',\n",
        "    7: 'Sneaker',\n",
        "    8: 'Bag',\n",
        "    9: 'Ankle boot'\n",
        "}\n",
        "\n",
        "\n",
        "for label in labels:\n",
        "    index = label.item()\n",
        "    print(CLASSES[index])"
      ],
      "metadata": {
        "id": "lnLZ-GC90rDv"
      },
      "execution_count": null,
      "outputs": []
    },
    {
      "cell_type": "code",
      "source": [
        "idx = 1\n",
        "\n",
        "item_img = images[idx]\n",
        "item_npimg = item_img.squeeze().numpy()\n",
        "plt.title(CLASSES[labels[idx].item()])\n",
        "print(item_npimg.shape)\n",
        "plt.imshow(item_npimg, cmap='gray')\n",
        "plt.show()"
      ],
      "metadata": {
        "id": "WZNh1BR10q45",
        "colab": {
          "base_uri": "https://localhost:8080/",
          "height": 299
        },
        "outputId": "94beaf9d-97ff-4898-82fc-19b31446daa2"
      },
      "execution_count": 171,
      "outputs": [
        {
          "output_type": "stream",
          "name": "stdout",
          "text": [
            "(28, 28)\n"
          ]
        },
        {
          "output_type": "display_data",
          "data": {
            "image/png": "[encoded data removed]",
            "text/plain": [
              "<Figure size 432x288 with 1 Axes>"
            ]
          },
          "metadata": {
            "needs_background": "light"
          }
        }
      ]
    },
    {
      "cell_type": "code",
      "source": [
        "class Net(nn.Module):\n",
        "    def __init__(self):\n",
        "        super(Net, self).__init__()\n",
        "        self.fc1 = nn.Linear(784, 256)\n",
        "        self.fc2 = nn.Linear(256, 128)\n",
        "        self.fc3 = nn.Linear(128, 10)\n",
        "\n",
        "    def forward(self, x):\n",
        "        x = x.view(-1, 784)\n",
        "        x = F.relu(self.fc1(x)) # F : torch.nn.functional\n",
        "        x = F.relu(self.fc2(x)) # fc(x)의 출력값 -> relu -> x\n",
        "        x = self.fc3(x)\n",
        "        return x"
      ],
      "metadata": {
        "id": "OG5SH9cm2uyf"
      },
      "execution_count": 173,
      "outputs": []
    },
    {
      "cell_type": "code",
      "source": [
        "# model        = Net().to(DEVICE)\n",
        "model = Net()\n",
        "optimizer = optim.SGD(model.parameters(), lr=0.01)"
      ],
      "metadata": {
        "id": "okTXEE5O2utf"
      },
      "execution_count": 174,
      "outputs": []
    },
    {
      "cell_type": "code",
      "source": [
        "def train(model, train_loader, optimizer):\n",
        "    model.train()\n",
        "    for batch_idx, (data, target) in enumerate(train_loader):\n",
        "        # 학습 데이터를 DEVICE의 메모리로 보냄\n",
        "        # data, target = data.to(DEVICE), target.to(DEVICE)\n",
        "        optimizer.zero_grad()\n",
        "        output = model(data)\n",
        "        loss = F.cross_entropy(output, target)\n",
        "        loss.backward()\n",
        "        optimizer.step()"
      ],
      "metadata": {
        "id": "PmbHxsrr2upU"
      },
      "execution_count": 175,
      "outputs": []
    },
    {
      "cell_type": "code",
      "source": [
        "def evaluate(model, test_loader):\n",
        "    model.eval()\n",
        "    test_loss = 0\n",
        "    correct = 0\n",
        "    with torch.no_grad():\n",
        "        for data, target in test_loader:\n",
        "            # data, target = data.to(DEVICE), target.to(DEVICE)\n",
        "            output = model(data)\n",
        "\n",
        "            # 모든 오차 더하기\n",
        "            test_loss += F.cross_entropy(output, target,\n",
        "                                         reduction='sum').item()\n",
        "            \n",
        "            # 가장 큰 값을 가진 클래스가 모델의 예측입니다.\n",
        "            # 예측과 정답을 비교하여 일치할 경우 correct에 1을 더합니다.\n",
        "            pred = output.max(1, keepdim=True)[1]\n",
        "            correct += pred.eq(target.view_as(pred)).sum().item()\n",
        "\n",
        "    test_loss /= len(test_loader.dataset)\n",
        "    test_accuracy = 100. * correct / len(test_loader.dataset)\n",
        "    return test_loss, test_accuracy"
      ],
      "metadata": {
        "id": "B82qIH3x2uk4"
      },
      "execution_count": 176,
      "outputs": []
    },
    {
      "cell_type": "code",
      "source": [
        "for epoch in range(1, EPOCHS + 1):\n",
        "    train(model, train_loader, optimizer)\n",
        "    test_loss, test_accuracy = evaluate(model, test_loader)\n",
        "    \n",
        "    print('[{}] Test Loss: {:.4f}, Accuracy: {:.2f}%'.format(\n",
        "          epoch, test_loss, test_accuracy))"
      ],
      "metadata": {
        "id": "zzmqy_ai2ugd",
        "colab": {
          "base_uri": "https://localhost:8080/"
        },
        "outputId": "1371e510-48eb-4616-ef33-2a700ae0441f"
      },
      "execution_count": 177,
      "outputs": [
        {
          "output_type": "stream",
          "name": "stdout",
          "text": [
            "[1] Test Loss: 0.8321, Accuracy: 68.61%\n",
            "[2] Test Loss: 0.6699, Accuracy: 76.48%\n",
            "[3] Test Loss: 0.5957, Accuracy: 79.49%\n",
            "[4] Test Loss: 0.5591, Accuracy: 80.21%\n",
            "[5] Test Loss: 0.5366, Accuracy: 81.10%\n",
            "[6] Test Loss: 0.5205, Accuracy: 81.49%\n",
            "[7] Test Loss: 0.5079, Accuracy: 81.85%\n",
            "[8] Test Loss: 0.4957, Accuracy: 82.29%\n",
            "[9] Test Loss: 0.4857, Accuracy: 82.67%\n",
            "[10] Test Loss: 0.4757, Accuracy: 82.96%\n",
            "[11] Test Loss: 0.4668, Accuracy: 83.30%\n",
            "[12] Test Loss: 0.4579, Accuracy: 83.67%\n",
            "[13] Test Loss: 0.4491, Accuracy: 84.06%\n",
            "[14] Test Loss: 0.4421, Accuracy: 84.35%\n",
            "[15] Test Loss: 0.4351, Accuracy: 84.63%\n",
            "[16] Test Loss: 0.4281, Accuracy: 84.81%\n",
            "[17] Test Loss: 0.4222, Accuracy: 85.03%\n",
            "[18] Test Loss: 0.4165, Accuracy: 85.12%\n",
            "[19] Test Loss: 0.4117, Accuracy: 85.24%\n",
            "[20] Test Loss: 0.4071, Accuracy: 85.40%\n",
            "[21] Test Loss: 0.4036, Accuracy: 85.45%\n",
            "[22] Test Loss: 0.3992, Accuracy: 85.60%\n",
            "[23] Test Loss: 0.3952, Accuracy: 85.73%\n",
            "[24] Test Loss: 0.3925, Accuracy: 85.83%\n",
            "[25] Test Loss: 0.3884, Accuracy: 86.05%\n",
            "[26] Test Loss: 0.3855, Accuracy: 86.14%\n",
            "[27] Test Loss: 0.3823, Accuracy: 86.28%\n",
            "[28] Test Loss: 0.3797, Accuracy: 86.32%\n",
            "[29] Test Loss: 0.3775, Accuracy: 86.42%\n",
            "[30] Test Loss: 0.3754, Accuracy: 86.49%\n"
          ]
        }
      ]
    },
    {
      "cell_type": "code",
      "source": [
        ""
      ],
      "metadata": {
        "id": "dO72LkFLjN7b"
      },
      "execution_count": null,
      "outputs": []
    }
  ]
}