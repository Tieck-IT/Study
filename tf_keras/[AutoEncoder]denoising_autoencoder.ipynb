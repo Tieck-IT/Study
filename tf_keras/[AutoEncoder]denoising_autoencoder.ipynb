{
  "nbformat": 4,
  "nbformat_minor": 0,
  "metadata": {
    "colab": {
      "name": "[AutoEncoder]denoising_autoencoder.ipynb",
      "provenance": [],
      "include_colab_link": true
    },
    "kernelspec": {
      "name": "python3",
      "display_name": "Python 3"
    },
    "accelerator": "GPU"
  },
  "cells": [
    {
      "cell_type": "markdown",
      "metadata": {
        "id": "view-in-github",
        "colab_type": "text"
      },
      "source": [
        "<a href=\"https://colab.research.google.com/github/Tieck-IT/Study/blob/main/tf_keras/%5BAutoEncoder%5Ddenoising_autoencoder.ipynb\" target=\"_parent\"><img src=\"https://colab.research.google.com/assets/colab-badge.svg\" alt=\"Open In Colab\"/></a>"
      ]
    },
    {
      "cell_type": "markdown",
      "metadata": {
        "id": "jLKCaOxfGQg3"
      },
      "source": [
        "copy from https://blog.naver.com/ckdgus1433/221443838135"
      ]
    },
    {
      "cell_type": "markdown",
      "metadata": {
        "id": "3gUCJI7zK6V0"
      },
      "source": [
        "# 모듈 임포팅"
      ]
    },
    {
      "cell_type": "code",
      "metadata": {
        "id": "Y3ayalJEK4Me"
      },
      "source": [
        "import matplotlib.pyplot as plt\n",
        "import numpy as np\n",
        "from tensorflow.keras.datasets import mnist\n",
        "from tensorflow.keras.layers import Dense\n",
        "from tensorflow.keras import Sequential"
      ],
      "execution_count": 1,
      "outputs": []
    },
    {
      "cell_type": "markdown",
      "metadata": {
        "id": "-8b8fVWQK9JD"
      },
      "source": [
        "# 데이터 로딩"
      ]
    },
    {
      "cell_type": "code",
      "metadata": {
        "id": "D0QMMukcK56L",
        "colab": {
          "base_uri": "https://localhost:8080/"
        },
        "outputId": "e1efd85c-1bb8-4d92-a50c-48a3b1b90c2f"
      },
      "source": [
        "# MNIST 로딩 (라벨은 필요없기 때문에 버림)\n",
        "(x_train, _), (x_test, _) = mnist.load_data()"
      ],
      "execution_count": 2,
      "outputs": [
        {
          "output_type": "stream",
          "name": "stdout",
          "text": [
            "Downloading data from https://storage.googleapis.com/tensorflow/tf-keras-datasets/mnist.npz\n",
            "11493376/11490434 [==============================] - 0s 0us/step\n",
            "11501568/11490434 [==============================] - 0s 0us/step\n"
          ]
        }
      ]
    },
    {
      "cell_type": "markdown",
      "metadata": {
        "id": "OOAbPf_ZK_6b"
      },
      "source": [
        "# Normalization"
      ]
    },
    {
      "cell_type": "code",
      "metadata": {
        "id": "WWimdhYPLBTj"
      },
      "source": [
        "# 데이터 정규화\n",
        "x_train = x_train.astype('float32') / 255.\n",
        "x_test = x_test.astype('float32') / 255."
      ],
      "execution_count": 3,
      "outputs": []
    },
    {
      "cell_type": "markdown",
      "metadata": {
        "id": "COdPgRsoLBjD"
      },
      "source": [
        "# Flattening"
      ]
    },
    {
      "cell_type": "code",
      "metadata": {
        "id": "wjDc3mmbLB-D"
      },
      "source": [
        "x_train = np.reshape(x_train, (len(x_train), 784))\n",
        "x_test = np.reshape(x_test, (len(x_test), 784))"
      ],
      "execution_count": 4,
      "outputs": []
    },
    {
      "cell_type": "markdown",
      "metadata": {
        "id": "zNfjHZQSLN-s"
      },
      "source": [
        "# 노이즈 추가"
      ]
    },
    {
      "cell_type": "code",
      "metadata": {
        "id": "dTSIWBn7NeuA"
      },
      "source": [
        "noise = np.random.normal(loc=0.0, scale=1.0, size=10000) "
      ],
      "execution_count": 5,
      "outputs": []
    },
    {
      "cell_type": "code",
      "metadata": {
        "id": "zZplNkNxN5dl",
        "colab": {
          "base_uri": "https://localhost:8080/",
          "height": 265
        },
        "outputId": "1b0825c0-2959-411c-e7fa-f3183510911f"
      },
      "source": [
        "plt.hist(noise, bins=1000, range=(-2., 2.))\n",
        "plt.show()"
      ],
      "execution_count": 6,
      "outputs": [
        {
          "output_type": "display_data",
          "data": {
            "image/png": "[encoded data removed]",
            "text/plain": [
              "<Figure size 432x288 with 1 Axes>"
            ]
          },
          "metadata": {
            "needs_background": "light"
          }
        }
      ]
    },
    {
      "cell_type": "code",
      "metadata": {
        "id": "tvOfQ4hMLLo7"
      },
      "source": [
        "# 원본데이터에 Noise 추가\n",
        "noise_factor = 0.5\n",
        "x_train_noisy = x_train + noise_factor * np.random.normal(loc=0.0, scale=1.0, size=x_train.shape) \n",
        "x_test_noisy = x_test + noise_factor * np.random.normal(loc=0.0, scale=1.0, size=x_test.shape) \n",
        "\n",
        "# 최대가 1, 최소가 0이 되도록 \n",
        "x_train_noisy = np.clip(x_train_noisy, 0., 1.)\n",
        "x_test_noisy = np.clip(x_test_noisy, 0., 1.)"
      ],
      "execution_count": 7,
      "outputs": []
    },
    {
      "cell_type": "markdown",
      "metadata": {
        "id": "6na4p0mnLj8j"
      },
      "source": [
        "# 노이즈 추가된 영상 보기"
      ]
    },
    {
      "cell_type": "code",
      "metadata": {
        "id": "y--Ep7aULL17",
        "colab": {
          "base_uri": "https://localhost:8080/",
          "height": 128
        },
        "outputId": "d1280664-3bd5-431d-b711-6acf4c53a580"
      },
      "source": [
        "# Noise가 추가된 데이터 확인\n",
        "n = 10\n",
        "plt.figure(figsize=(20, 2))\n",
        "for i in range(1,n):\n",
        "    ax = plt.subplot(1, n, i)\n",
        "    plt.imshow(x_train_noisy[i].reshape(28, 28))\n",
        "    plt.gray()\n",
        "    ax.get_xaxis().set_visible(False)\n",
        "    ax.get_yaxis().set_visible(False)\n",
        "plt.show()"
      ],
      "execution_count": 8,
      "outputs": [
        {
          "output_type": "display_data",
          "data": {
            "image/png": "[encoded data removed]",
            "text/plain": [
              "<Figure size 1440x144 with 9 Axes>"
            ]
          },
          "metadata": {
            "needs_background": "light"
          }
        }
      ]
    },
    {
      "cell_type": "markdown",
      "metadata": {
        "id": "i01JyXUqL7yF"
      },
      "source": [
        "# 모델 정의와 학습 실행"
      ]
    },
    {
      "cell_type": "code",
      "metadata": {
        "id": "bvY_c15CLL48",
        "colab": {
          "base_uri": "https://localhost:8080/"
        },
        "outputId": "b9a4748d-4220-4f9e-89fe-137dd61aaabf"
      },
      "source": [
        "# 모형 구성\n",
        "model = Sequential()\n",
        "model.add(Dense(128, activation='relu', input_dim=784))\n",
        "model.add(Dense(64, activation='relu'))\n",
        "model.add(Dense(32, activation='relu'))\n",
        "model.add(Dense(64, activation='relu'))\n",
        "model.add(Dense(128, activation='relu'))\n",
        "model.add(Dense(784, activation='sigmoid'))\n",
        "model.compile(optimizer='adam', loss='binary_crossentropy')\n",
        "\n",
        "\n",
        "# 모형 학습\n",
        "model.fit(x_train_noisy, x_train, epochs=100, batch_size=256, validation_split=0.1, shuffle=True)"
      ],
      "execution_count": 9,
      "outputs": [
        {
          "output_type": "stream",
          "name": "stdout",
          "text": [
            "Epoch 1/100\n",
            "211/211 [==============================] - 4s 8ms/step - loss: 0.2660 - val_loss: 0.2090\n",
            "Epoch 2/100\n",
            "211/211 [==============================] - 1s 6ms/step - loss: 0.1866 - val_loss: 0.1710\n",
            "Epoch 3/100\n",
            "211/211 [==============================] - 2s 7ms/step - loss: 0.1648 - val_loss: 0.1597\n",
            "Epoch 4/100\n",
            "211/211 [==============================] - 2s 8ms/step - loss: 0.1557 - val_loss: 0.1534\n",
            "Epoch 5/100\n",
            "211/211 [==============================] - 1s 7ms/step - loss: 0.1489 - val_loss: 0.1468\n",
            "Epoch 6/100\n",
            "211/211 [==============================] - 1s 7ms/step - loss: 0.1441 - val_loss: 0.1425\n",
            "Epoch 7/100\n",
            "211/211 [==============================] - 1s 6ms/step - loss: 0.1404 - val_loss: 0.1400\n",
            "Epoch 8/100\n",
            "211/211 [==============================] - 1s 7ms/step - loss: 0.1375 - val_loss: 0.1377\n",
            "Epoch 9/100\n",
            "211/211 [==============================] - 1s 7ms/step - loss: 0.1350 - val_loss: 0.1351\n",
            "Epoch 10/100\n",
            "211/211 [==============================] - 2s 8ms/step - loss: 0.1329 - val_loss: 0.1332\n",
            "Epoch 11/100\n",
            "211/211 [==============================] - 1s 7ms/step - loss: 0.1312 - val_loss: 0.1323\n",
            "Epoch 12/100\n",
            "211/211 [==============================] - 1s 4ms/step - loss: 0.1297 - val_loss: 0.1307\n",
            "Epoch 13/100\n",
            "211/211 [==============================] - 1s 4ms/step - loss: 0.1284 - val_loss: 0.1299\n",
            "Epoch 14/100\n",
            "211/211 [==============================] - 1s 4ms/step - loss: 0.1273 - val_loss: 0.1287\n",
            "Epoch 15/100\n",
            "211/211 [==============================] - 1s 4ms/step - loss: 0.1263 - val_loss: 0.1283\n",
            "Epoch 16/100\n",
            "211/211 [==============================] - 1s 4ms/step - loss: 0.1253 - val_loss: 0.1275\n",
            "Epoch 17/100\n",
            "211/211 [==============================] - 1s 4ms/step - loss: 0.1244 - val_loss: 0.1264\n",
            "Epoch 18/100\n",
            "211/211 [==============================] - 1s 4ms/step - loss: 0.1237 - val_loss: 0.1252\n",
            "Epoch 19/100\n",
            "211/211 [==============================] - 1s 4ms/step - loss: 0.1230 - val_loss: 0.1255\n",
            "Epoch 20/100\n",
            "211/211 [==============================] - 1s 4ms/step - loss: 0.1224 - val_loss: 0.1242\n",
            "Epoch 21/100\n",
            "211/211 [==============================] - 1s 4ms/step - loss: 0.1217 - val_loss: 0.1245\n",
            "Epoch 22/100\n",
            "211/211 [==============================] - 1s 4ms/step - loss: 0.1212 - val_loss: 0.1238\n",
            "Epoch 23/100\n",
            "211/211 [==============================] - 1s 4ms/step - loss: 0.1207 - val_loss: 0.1235\n",
            "Epoch 24/100\n",
            "211/211 [==============================] - 1s 4ms/step - loss: 0.1202 - val_loss: 0.1228\n",
            "Epoch 25/100\n",
            "211/211 [==============================] - 1s 4ms/step - loss: 0.1198 - val_loss: 0.1224\n",
            "Epoch 26/100\n",
            "211/211 [==============================] - 1s 4ms/step - loss: 0.1194 - val_loss: 0.1224\n",
            "Epoch 27/100\n",
            "211/211 [==============================] - 1s 4ms/step - loss: 0.1190 - val_loss: 0.1220\n",
            "Epoch 28/100\n",
            "211/211 [==============================] - 1s 4ms/step - loss: 0.1186 - val_loss: 0.1215\n",
            "Epoch 29/100\n",
            "211/211 [==============================] - 1s 4ms/step - loss: 0.1183 - val_loss: 0.1219\n",
            "Epoch 30/100\n",
            "211/211 [==============================] - 1s 4ms/step - loss: 0.1179 - val_loss: 0.1210\n",
            "Epoch 31/100\n",
            "211/211 [==============================] - 1s 4ms/step - loss: 0.1176 - val_loss: 0.1212\n",
            "Epoch 32/100\n",
            "211/211 [==============================] - 1s 4ms/step - loss: 0.1172 - val_loss: 0.1207\n",
            "Epoch 33/100\n",
            "211/211 [==============================] - 1s 4ms/step - loss: 0.1170 - val_loss: 0.1205\n",
            "Epoch 34/100\n",
            "211/211 [==============================] - 1s 4ms/step - loss: 0.1168 - val_loss: 0.1198\n",
            "Epoch 35/100\n",
            "211/211 [==============================] - 1s 4ms/step - loss: 0.1165 - val_loss: 0.1200\n",
            "Epoch 36/100\n",
            "211/211 [==============================] - 1s 4ms/step - loss: 0.1163 - val_loss: 0.1199\n",
            "Epoch 37/100\n",
            "211/211 [==============================] - 1s 4ms/step - loss: 0.1160 - val_loss: 0.1196\n",
            "Epoch 38/100\n",
            "211/211 [==============================] - 1s 4ms/step - loss: 0.1157 - val_loss: 0.1192\n",
            "Epoch 39/100\n",
            "211/211 [==============================] - 1s 4ms/step - loss: 0.1156 - val_loss: 0.1192\n",
            "Epoch 40/100\n",
            "211/211 [==============================] - 1s 4ms/step - loss: 0.1154 - val_loss: 0.1191\n",
            "Epoch 41/100\n",
            "211/211 [==============================] - 1s 4ms/step - loss: 0.1153 - val_loss: 0.1192\n",
            "Epoch 42/100\n",
            "211/211 [==============================] - 1s 4ms/step - loss: 0.1150 - val_loss: 0.1188\n",
            "Epoch 43/100\n",
            "211/211 [==============================] - 1s 4ms/step - loss: 0.1149 - val_loss: 0.1186\n",
            "Epoch 44/100\n",
            "211/211 [==============================] - 1s 4ms/step - loss: 0.1147 - val_loss: 0.1187\n",
            "Epoch 45/100\n",
            "211/211 [==============================] - 1s 4ms/step - loss: 0.1145 - val_loss: 0.1182\n",
            "Epoch 46/100\n",
            "211/211 [==============================] - 1s 4ms/step - loss: 0.1144 - val_loss: 0.1184\n",
            "Epoch 47/100\n",
            "211/211 [==============================] - 1s 4ms/step - loss: 0.1143 - val_loss: 0.1185\n",
            "Epoch 48/100\n",
            "211/211 [==============================] - 1s 4ms/step - loss: 0.1141 - val_loss: 0.1179\n",
            "Epoch 49/100\n",
            "211/211 [==============================] - 1s 4ms/step - loss: 0.1139 - val_loss: 0.1181\n",
            "Epoch 50/100\n",
            "211/211 [==============================] - 1s 4ms/step - loss: 0.1138 - val_loss: 0.1182\n",
            "Epoch 51/100\n",
            "211/211 [==============================] - 1s 4ms/step - loss: 0.1137 - val_loss: 0.1180\n",
            "Epoch 52/100\n",
            "211/211 [==============================] - 1s 4ms/step - loss: 0.1136 - val_loss: 0.1180\n",
            "Epoch 53/100\n",
            "211/211 [==============================] - 1s 4ms/step - loss: 0.1134 - val_loss: 0.1180\n",
            "Epoch 54/100\n",
            "211/211 [==============================] - 1s 4ms/step - loss: 0.1133 - val_loss: 0.1181\n",
            "Epoch 55/100\n",
            "211/211 [==============================] - 1s 4ms/step - loss: 0.1131 - val_loss: 0.1175\n",
            "Epoch 56/100\n",
            "211/211 [==============================] - 1s 4ms/step - loss: 0.1130 - val_loss: 0.1173\n",
            "Epoch 57/100\n",
            "211/211 [==============================] - 1s 4ms/step - loss: 0.1129 - val_loss: 0.1171\n",
            "Epoch 58/100\n",
            "211/211 [==============================] - 1s 4ms/step - loss: 0.1128 - val_loss: 0.1173\n",
            "Epoch 59/100\n",
            "211/211 [==============================] - 1s 4ms/step - loss: 0.1127 - val_loss: 0.1172\n",
            "Epoch 60/100\n",
            "211/211 [==============================] - 1s 4ms/step - loss: 0.1126 - val_loss: 0.1172\n",
            "Epoch 61/100\n",
            "211/211 [==============================] - 1s 4ms/step - loss: 0.1124 - val_loss: 0.1167\n",
            "Epoch 62/100\n",
            "211/211 [==============================] - 1s 4ms/step - loss: 0.1125 - val_loss: 0.1168\n",
            "Epoch 63/100\n",
            "211/211 [==============================] - 1s 4ms/step - loss: 0.1123 - val_loss: 0.1166\n",
            "Epoch 64/100\n",
            "211/211 [==============================] - 1s 4ms/step - loss: 0.1121 - val_loss: 0.1167\n",
            "Epoch 65/100\n",
            "211/211 [==============================] - 1s 4ms/step - loss: 0.1121 - val_loss: 0.1166\n",
            "Epoch 66/100\n",
            "211/211 [==============================] - 1s 4ms/step - loss: 0.1120 - val_loss: 0.1166\n",
            "Epoch 67/100\n",
            "211/211 [==============================] - 1s 4ms/step - loss: 0.1119 - val_loss: 0.1168\n",
            "Epoch 68/100\n",
            "211/211 [==============================] - 1s 4ms/step - loss: 0.1118 - val_loss: 0.1167\n",
            "Epoch 69/100\n",
            "211/211 [==============================] - 1s 4ms/step - loss: 0.1118 - val_loss: 0.1166\n",
            "Epoch 70/100\n",
            "211/211 [==============================] - 1s 4ms/step - loss: 0.1117 - val_loss: 0.1166\n",
            "Epoch 71/100\n",
            "211/211 [==============================] - 1s 4ms/step - loss: 0.1117 - val_loss: 0.1165\n",
            "Epoch 72/100\n",
            "211/211 [==============================] - 1s 4ms/step - loss: 0.1116 - val_loss: 0.1168\n",
            "Epoch 73/100\n",
            "211/211 [==============================] - 1s 4ms/step - loss: 0.1114 - val_loss: 0.1163\n",
            "Epoch 74/100\n",
            "211/211 [==============================] - 1s 4ms/step - loss: 0.1114 - val_loss: 0.1163\n",
            "Epoch 75/100\n",
            "211/211 [==============================] - 1s 4ms/step - loss: 0.1113 - val_loss: 0.1161\n",
            "Epoch 76/100\n",
            "211/211 [==============================] - 1s 4ms/step - loss: 0.1112 - val_loss: 0.1164\n",
            "Epoch 77/100\n",
            "211/211 [==============================] - 1s 4ms/step - loss: 0.1112 - val_loss: 0.1168\n",
            "Epoch 78/100\n",
            "211/211 [==============================] - 1s 4ms/step - loss: 0.1111 - val_loss: 0.1162\n",
            "Epoch 79/100\n",
            "211/211 [==============================] - 1s 4ms/step - loss: 0.1110 - val_loss: 0.1160\n",
            "Epoch 80/100\n",
            "211/211 [==============================] - 1s 4ms/step - loss: 0.1110 - val_loss: 0.1161\n",
            "Epoch 81/100\n",
            "211/211 [==============================] - 1s 4ms/step - loss: 0.1109 - val_loss: 0.1160\n",
            "Epoch 82/100\n",
            "211/211 [==============================] - 1s 4ms/step - loss: 0.1109 - val_loss: 0.1157\n",
            "Epoch 83/100\n",
            "211/211 [==============================] - 1s 4ms/step - loss: 0.1108 - val_loss: 0.1160\n",
            "Epoch 84/100\n",
            "211/211 [==============================] - 1s 4ms/step - loss: 0.1107 - val_loss: 0.1164\n",
            "Epoch 85/100\n",
            "211/211 [==============================] - 1s 4ms/step - loss: 0.1107 - val_loss: 0.1163\n",
            "Epoch 86/100\n",
            "211/211 [==============================] - 1s 4ms/step - loss: 0.1108 - val_loss: 0.1159\n",
            "Epoch 87/100\n",
            "211/211 [==============================] - 1s 4ms/step - loss: 0.1105 - val_loss: 0.1160\n",
            "Epoch 88/100\n",
            "211/211 [==============================] - 1s 4ms/step - loss: 0.1105 - val_loss: 0.1155\n",
            "Epoch 89/100\n",
            "211/211 [==============================] - 1s 4ms/step - loss: 0.1105 - val_loss: 0.1163\n",
            "Epoch 90/100\n",
            "211/211 [==============================] - 1s 4ms/step - loss: 0.1104 - val_loss: 0.1161\n",
            "Epoch 91/100\n",
            "211/211 [==============================] - 1s 4ms/step - loss: 0.1104 - val_loss: 0.1157\n",
            "Epoch 92/100\n",
            "211/211 [==============================] - 1s 4ms/step - loss: 0.1103 - val_loss: 0.1157\n",
            "Epoch 93/100\n",
            "211/211 [==============================] - 1s 4ms/step - loss: 0.1102 - val_loss: 0.1157\n",
            "Epoch 94/100\n",
            "211/211 [==============================] - 1s 4ms/step - loss: 0.1103 - val_loss: 0.1163\n",
            "Epoch 95/100\n",
            "211/211 [==============================] - 1s 4ms/step - loss: 0.1101 - val_loss: 0.1156\n",
            "Epoch 96/100\n",
            "211/211 [==============================] - 1s 4ms/step - loss: 0.1100 - val_loss: 0.1155\n",
            "Epoch 97/100\n",
            "211/211 [==============================] - 1s 4ms/step - loss: 0.1101 - val_loss: 0.1155\n",
            "Epoch 98/100\n",
            "211/211 [==============================] - 1s 4ms/step - loss: 0.1100 - val_loss: 0.1155\n",
            "Epoch 99/100\n",
            "211/211 [==============================] - 1s 4ms/step - loss: 0.1100 - val_loss: 0.1155\n",
            "Epoch 100/100\n",
            "211/211 [==============================] - 1s 4ms/step - loss: 0.1099 - val_loss: 0.1157\n"
          ]
        },
        {
          "output_type": "execute_result",
          "data": {
            "text/plain": [
              "<keras.callbacks.History at 0x7f1f2a6ac110>"
            ]
          },
          "metadata": {},
          "execution_count": 9
        }
      ]
    },
    {
      "cell_type": "markdown",
      "metadata": {
        "id": "eP3_P6rDMCFa"
      },
      "source": [
        "# 결과 확인"
      ]
    },
    {
      "cell_type": "code",
      "metadata": {
        "id": "2y4hQ-VfFxF4",
        "colab": {
          "base_uri": "https://localhost:8080/",
          "height": 358
        },
        "outputId": "c7e5a6e1-3ec1-40b0-abf8-5922f3243aef"
      },
      "source": [
        "decoded_imgs = model.predict(x_test_noisy)\n",
        "\n",
        "n = 10\n",
        "plt.figure(figsize=(20, 6))\n",
        "for i in range(1,n):\n",
        "    # 원본 표시\n",
        "    ax = plt.subplot(3, n, i)\n",
        "    plt.imshow(x_test[i].reshape(28, 28))\n",
        "    plt.gray()\n",
        "    ax.get_xaxis().set_visible(False)\n",
        "    ax.get_yaxis().set_visible(False)\n",
        "\n",
        "    # 노이즈 첨가 된 것\n",
        "    ax = plt.subplot(3, n, i + n)\n",
        "    plt.imshow(x_test_noisy[i].reshape(28, 28))\n",
        "    plt.gray()\n",
        "    ax.get_xaxis().set_visible(False)\n",
        "    ax.get_yaxis().set_visible(False)\n",
        "\n",
        "    # 노이즈 제거 된 것\n",
        "    ax = plt.subplot(3, n, i + 2*n)\n",
        "    plt.imshow(decoded_imgs[i].reshape(28, 28))\n",
        "    plt.gray()\n",
        "    ax.get_xaxis().set_visible(False)\n",
        "    ax.get_yaxis().set_visible(False)\n",
        "    \n",
        "plt.show()"
      ],
      "execution_count": 10,
      "outputs": [
        {
          "output_type": "display_data",
          "data": {
            "image/png": "[encoded data removed]",
            "text/plain": [
              "<Figure size 1440x432 with 27 Axes>"
            ]
          },
          "metadata": {
            "needs_background": "light"
          }
        }
      ]
    },
    {
      "cell_type": "code",
      "metadata": {
        "id": "fTqVK4F6F1S2"
      },
      "source": [
        ""
      ],
      "execution_count": 10,
      "outputs": []
    }
  ]
}